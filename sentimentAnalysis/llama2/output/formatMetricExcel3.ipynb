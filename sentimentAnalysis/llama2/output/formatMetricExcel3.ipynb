{
 "cells": [
  {
   "cell_type": "code",
   "execution_count": 11,
   "id": "ffa6a33f-a722-47ce-95ff-8399ccfc5d31",
   "metadata": {},
   "outputs": [],
   "source": [
    "import ast"
   ]
  },
  {
   "cell_type": "code",
   "execution_count": 12,
   "id": "a8bb17eb-8305-44ac-ba74-2f909610bcda",
   "metadata": {},
   "outputs": [],
   "source": [
    "# Read the input string from the txt file\n",
    "with open('input.txt', 'r') as file:\n",
    "    input_string = file.read()\n",
    "\n",
    "# Parse the input string as a dictionary\n",
    "input_dict = ast.literal_eval(input_string)"
   ]
  },
  {
   "cell_type": "code",
   "execution_count": 13,
   "id": "ab61c578-3fa4-42b9-9fc0-51da32e6f5da",
   "metadata": {},
   "outputs": [],
   "source": [
    "# Define the keys you want to extract\n",
    "keys_to_extract = [\n",
    "    'eval_loss', 'eval_accuracy', 'eval_mae', 'eval_precision', 'eval_recall', 'eval_f1',\n",
    "    'eval_runtime', 'eval_samples_per_second', 'eval_steps_per_second', 'epoch',\n",
    "    'eval_class_0_accuracy', 'eval_class_0_precision', 'eval_class_0_recall', 'eval_class_0_f1',\n",
    "    'eval_class_1_accuracy', 'eval_class_1_precision', 'eval_class_1_recall', 'eval_class_1_f1',\n",
    "    'eval_class_2_accuracy', 'eval_class_2_precision', 'eval_class_2_recall', 'eval_class_2_f1'\n",
    "]"
   ]
  },
  {
   "cell_type": "code",
   "execution_count": 14,
   "id": "4505ec09-2439-4f4c-8fdb-0dc3c0688083",
   "metadata": {},
   "outputs": [],
   "source": [
    "# Extract the values corresponding to the keys\n",
    "output_strings = [f'=\"{input_dict[key]}\"' for key in keys_to_extract]\n",
    "\n",
    "# Join the output strings with newline characters\n",
    "output_string = '\\n'.join(output_strings)"
   ]
  },
  {
   "cell_type": "code",
   "execution_count": 15,
   "id": "6e762db3-e866-43c7-998f-9ae41c04e931",
   "metadata": {},
   "outputs": [
    {
     "name": "stdout",
     "output_type": "stream",
     "text": [
      "=\"1.7689800262451172\"\n",
      "=\"0.5343717549325026\"\n",
      "=\"0.5989615784008308\"\n",
      "=\"0.6627668332600094\"\n",
      "=\"0.5343717549325026\"\n",
      "=\"0.438035487651146\"\n",
      "=\"19.4222\"\n",
      "=\"247.912\"\n",
      "=\"5.2\"\n",
      "=\"5.0\"\n",
      "=\"0.9551401869158879\"\n",
      "=\"0.4430635838150289\"\n",
      "=\"0.9551401869158879\"\n",
      "=\"0.6053307008884502\"\n",
      "=\"0.004361370716510903\"\n",
      "=\"0.7777777777777778\"\n",
      "=\"0.004361370716510903\"\n",
      "=\"0.008674101610904586\"\n",
      "=\"0.643613707165109\"\n",
      "=\"0.7674591381872214\"\n",
      "=\"0.643613707165109\"\n",
      "=\"0.7001016604540834\"\n"
     ]
    }
   ],
   "source": [
    "# Print or write the output string to a file\n",
    "print(output_string)\n",
    "\n",
    "# If you want to write the output to a file\n",
    "# with open('output.txt', 'w') as file:\n",
    "#     file.write(output_string)"
   ]
  },
  {
   "cell_type": "code",
   "execution_count": null,
   "id": "1c315318-883e-4c10-8017-592faaefb868",
   "metadata": {},
   "outputs": [],
   "source": []
  }
 ],
 "metadata": {
  "kernelspec": {
   "display_name": "Python 3 (ipykernel)",
   "language": "python",
   "name": "python3"
  },
  "language_info": {
   "codemirror_mode": {
    "name": "ipython",
    "version": 3
   },
   "file_extension": ".py",
   "mimetype": "text/x-python",
   "name": "python",
   "nbconvert_exporter": "python",
   "pygments_lexer": "ipython3",
   "version": "3.11.7"
  }
 },
 "nbformat": 4,
 "nbformat_minor": 5
}
