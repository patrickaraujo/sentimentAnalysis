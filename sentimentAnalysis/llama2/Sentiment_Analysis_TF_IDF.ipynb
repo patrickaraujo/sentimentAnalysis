{
 "cells": [
  {
   "cell_type": "markdown",
   "metadata": {
    "id": "-HwAc2BL_nOU"
   },
   "source": [
    "https://medium.com/analytics-vidhya/sentiment-analysis-on-amazon-reviews-using-tf-idf-approach-c5ab4c36e7a1\n",
    "\n",
    "https://www.geeksforgeeks.org/svm-hyperparameter-tuning-using-gridsearchcv-ml/"
   ]
  },
  {
   "cell_type": "code",
   "execution_count": 1,
   "metadata": {
    "id": "cV36yGHNpwao"
   },
   "outputs": [],
   "source": [
    "import torch\n",
    "import pandas as pd\n",
    "import numpy as np\n",
    "import nltk\n",
    "import re"
   ]
  },
  {
   "cell_type": "code",
   "execution_count": 2,
   "metadata": {
    "colab": {
     "base_uri": "https://localhost:8080/"
    },
    "id": "vsB7HhjS4uVT",
    "outputId": "7ac2b88c-2d28-4648-f2ad-612a57cda5b3"
   },
   "outputs": [
    {
     "name": "stderr",
     "output_type": "stream",
     "text": [
      "[nltk_data] Downloading package punkt to\n",
      "[nltk_data]     /home/patrick.araujo/nltk_data...\n",
      "[nltk_data]   Package punkt is already up-to-date!\n",
      "[nltk_data] Downloading package stopwords to\n",
      "[nltk_data]     /home/patrick.araujo/nltk_data...\n",
      "[nltk_data]   Package stopwords is already up-to-date!\n",
      "[nltk_data] Downloading package wordnet to\n",
      "[nltk_data]     /home/patrick.araujo/nltk_data...\n",
      "[nltk_data]   Package wordnet is already up-to-date!\n"
     ]
    },
    {
     "data": {
      "text/plain": [
       "True"
      ]
     },
     "execution_count": 2,
     "metadata": {},
     "output_type": "execute_result"
    }
   ],
   "source": [
    "nltk.download('punkt')\n",
    "nltk.download('stopwords')\n",
    "nltk.download('wordnet')"
   ]
  },
  {
   "cell_type": "code",
   "execution_count": 3,
   "metadata": {},
   "outputs": [],
   "source": [
    "id = 7"
   ]
  },
  {
   "cell_type": "code",
   "execution_count": 4,
   "metadata": {},
   "outputs": [
    {
     "name": "stdout",
     "output_type": "stream",
     "text": [
      "PyTorch available GPU: Quadro RTX 8000\n"
     ]
    }
   ],
   "source": [
    "if torch.cuda.is_available():\n",
    "    GPU = torch.cuda.get_device_name(id)\n",
    "    print(f\"PyTorch available GPU: {GPU}\")\n",
    "else:\n",
    "    print(\"GPU not available\")"
   ]
  },
  {
   "cell_type": "code",
   "execution_count": 5,
   "metadata": {},
   "outputs": [
    {
     "data": {
      "text/plain": [
       "8"
      ]
     },
     "execution_count": 5,
     "metadata": {},
     "output_type": "execute_result"
    }
   ],
   "source": [
    "torch.cuda.device_count()"
   ]
  },
  {
   "cell_type": "code",
   "execution_count": 6,
   "metadata": {},
   "outputs": [
    {
     "name": "stdout",
     "output_type": "stream",
     "text": [
      "Device: cuda:7\n"
     ]
    }
   ],
   "source": [
    "device = torch.device(f\"cuda:{id}\" if torch.cuda.is_available() else \"cpu\")\n",
    "print(f'Device: {device}')"
   ]
  },
  {
   "cell_type": "code",
   "execution_count": 7,
   "metadata": {},
   "outputs": [],
   "source": [
    "# device = torch.device(\"cpu\")\n",
    "# print(f'Device: {device}')"
   ]
  },
  {
   "cell_type": "code",
   "execution_count": 8,
   "metadata": {
    "id": "XX1_YZXip3uz"
   },
   "outputs": [],
   "source": [
    "dataset = pd.read_csv('/home/patrick.araujo/llama2/datasets/balanced_output.csv')"
   ]
  },
  {
   "cell_type": "code",
   "execution_count": 9,
   "metadata": {
    "colab": {
     "base_uri": "https://localhost:8080/",
     "height": 667
    },
    "id": "oOSheNAMqamv",
    "outputId": "bf17bc6f-fc0d-4941-f2f2-3379352209ce"
   },
   "outputs": [
    {
     "data": {
      "text/html": [
       "<div>\n",
       "<style scoped>\n",
       "    .dataframe tbody tr th:only-of-type {\n",
       "        vertical-align: middle;\n",
       "    }\n",
       "\n",
       "    .dataframe tbody tr th {\n",
       "        vertical-align: top;\n",
       "    }\n",
       "\n",
       "    .dataframe thead th {\n",
       "        text-align: right;\n",
       "    }\n",
       "</style>\n",
       "<table border=\"1\" class=\"dataframe\">\n",
       "  <thead>\n",
       "    <tr style=\"text-align: right;\">\n",
       "      <th></th>\n",
       "      <th>level_0</th>\n",
       "      <th>index</th>\n",
       "      <th>Unnamed: 0</th>\n",
       "      <th>reviewId</th>\n",
       "      <th>content</th>\n",
       "      <th>score</th>\n",
       "      <th>thumbsUpCount</th>\n",
       "      <th>reviewCreatedVersion</th>\n",
       "      <th>at</th>\n",
       "      <th>replyContent</th>\n",
       "      <th>repliedAt</th>\n",
       "      <th>appVersion</th>\n",
       "      <th>sentiment</th>\n",
       "      <th>lengthContent</th>\n",
       "      <th>Language</th>\n",
       "    </tr>\n",
       "  </thead>\n",
       "  <tbody>\n",
       "    <tr>\n",
       "      <th>0</th>\n",
       "      <td>2812</td>\n",
       "      <td>4087</td>\n",
       "      <td>4087</td>\n",
       "      <td>7c7a7fe6-f187-48c6-823a-70ae734b04a3</td>\n",
       "      <td>the app runs a little slow at times, but nothi...</td>\n",
       "      <td>5</td>\n",
       "      <td>5</td>\n",
       "      <td>26.23.0.100</td>\n",
       "      <td>2023-12-09 10:57:59</td>\n",
       "      <td>NaN</td>\n",
       "      <td>NaN</td>\n",
       "      <td>26.23.0.100</td>\n",
       "      <td>2</td>\n",
       "      <td>145</td>\n",
       "      <td>en</td>\n",
       "    </tr>\n",
       "    <tr>\n",
       "      <th>1</th>\n",
       "      <td>17483</td>\n",
       "      <td>24985</td>\n",
       "      <td>24985</td>\n",
       "      <td>c76ab0e8-50f0-48ec-a920-9de9329299fa</td>\n",
       "      <td>You do realize there is more than just apple S...</td>\n",
       "      <td>3</td>\n",
       "      <td>0</td>\n",
       "      <td>22.19.0.100</td>\n",
       "      <td>2022-05-06 03:05:51</td>\n",
       "      <td>NaN</td>\n",
       "      <td>NaN</td>\n",
       "      <td>22.19.0.100</td>\n",
       "      <td>1</td>\n",
       "      <td>379</td>\n",
       "      <td>en</td>\n",
       "    </tr>\n",
       "    <tr>\n",
       "      <th>2</th>\n",
       "      <td>7525</td>\n",
       "      <td>10956</td>\n",
       "      <td>10956</td>\n",
       "      <td>5cd981cf-c9be-45ee-b0e3-92af3d7c2a12</td>\n",
       "      <td>Easy to use if you know what you want, simple ...</td>\n",
       "      <td>5</td>\n",
       "      <td>2</td>\n",
       "      <td>26.21.0.100</td>\n",
       "      <td>2023-11-01 11:15:01</td>\n",
       "      <td>NaN</td>\n",
       "      <td>NaN</td>\n",
       "      <td>26.21.0.100</td>\n",
       "      <td>2</td>\n",
       "      <td>208</td>\n",
       "      <td>en</td>\n",
       "    </tr>\n",
       "    <tr>\n",
       "      <th>3</th>\n",
       "      <td>7019</td>\n",
       "      <td>10263</td>\n",
       "      <td>10263</td>\n",
       "      <td>74daab50-f012-4d3d-a880-9a3f0e4fd159</td>\n",
       "      <td>Work ok but frozen on loading and searching as...</td>\n",
       "      <td>3</td>\n",
       "      <td>1</td>\n",
       "      <td>26.21.0.100</td>\n",
       "      <td>2023-11-05 12:08:47</td>\n",
       "      <td>NaN</td>\n",
       "      <td>NaN</td>\n",
       "      <td>26.21.0.100</td>\n",
       "      <td>1</td>\n",
       "      <td>52</td>\n",
       "      <td>en</td>\n",
       "    </tr>\n",
       "    <tr>\n",
       "      <th>4</th>\n",
       "      <td>8328</td>\n",
       "      <td>12432</td>\n",
       "      <td>12432</td>\n",
       "      <td>af3b1dfc-9982-49d2-ab96-d06f2b9ae9a6</td>\n",
       "      <td>easy shopping and fast delivery</td>\n",
       "      <td>5</td>\n",
       "      <td>0</td>\n",
       "      <td>26.19.4.100</td>\n",
       "      <td>2023-10-10 17:42:38</td>\n",
       "      <td>NaN</td>\n",
       "      <td>NaN</td>\n",
       "      <td>26.19.4.100</td>\n",
       "      <td>2</td>\n",
       "      <td>31</td>\n",
       "      <td>en</td>\n",
       "    </tr>\n",
       "    <tr>\n",
       "      <th>...</th>\n",
       "      <td>...</td>\n",
       "      <td>...</td>\n",
       "      <td>...</td>\n",
       "      <td>...</td>\n",
       "      <td>...</td>\n",
       "      <td>...</td>\n",
       "      <td>...</td>\n",
       "      <td>...</td>\n",
       "      <td>...</td>\n",
       "      <td>...</td>\n",
       "      <td>...</td>\n",
       "      <td>...</td>\n",
       "      <td>...</td>\n",
       "      <td>...</td>\n",
       "      <td>...</td>\n",
       "    </tr>\n",
       "    <tr>\n",
       "      <th>11626</th>\n",
       "      <td>4226</td>\n",
       "      <td>6159</td>\n",
       "      <td>6159</td>\n",
       "      <td>6eb97318-ab71-4b6c-a7af-d486bc38953a</td>\n",
       "      <td>love it can always find what I need and great ...</td>\n",
       "      <td>5</td>\n",
       "      <td>0</td>\n",
       "      <td>26.20.0.100</td>\n",
       "      <td>2023-11-24 15:20:22</td>\n",
       "      <td>NaN</td>\n",
       "      <td>NaN</td>\n",
       "      <td>26.20.0.100</td>\n",
       "      <td>2</td>\n",
       "      <td>83</td>\n",
       "      <td>en</td>\n",
       "    </tr>\n",
       "    <tr>\n",
       "      <th>11627</th>\n",
       "      <td>9673</td>\n",
       "      <td>14414</td>\n",
       "      <td>14414</td>\n",
       "      <td>0e6be9a1-7922-431e-b202-2907cfbaae87</td>\n",
       "      <td>The app is SLOW and not intuitive at all! Sear...</td>\n",
       "      <td>2</td>\n",
       "      <td>0</td>\n",
       "      <td>26.15.0.100</td>\n",
       "      <td>2023-08-09 07:22:09</td>\n",
       "      <td>NaN</td>\n",
       "      <td>NaN</td>\n",
       "      <td>26.15.0.100</td>\n",
       "      <td>0</td>\n",
       "      <td>298</td>\n",
       "      <td>en</td>\n",
       "    </tr>\n",
       "    <tr>\n",
       "      <th>11628</th>\n",
       "      <td>3504</td>\n",
       "      <td>5093</td>\n",
       "      <td>5093</td>\n",
       "      <td>37341abd-e64f-4e4e-af5f-1148dfc23a31</td>\n",
       "      <td>Love Amazon if you're not happy with a purchas...</td>\n",
       "      <td>5</td>\n",
       "      <td>1</td>\n",
       "      <td>26.22.0.100</td>\n",
       "      <td>2023-12-01 21:41:25</td>\n",
       "      <td>NaN</td>\n",
       "      <td>NaN</td>\n",
       "      <td>26.22.0.100</td>\n",
       "      <td>2</td>\n",
       "      <td>221</td>\n",
       "      <td>en</td>\n",
       "    </tr>\n",
       "    <tr>\n",
       "      <th>11629</th>\n",
       "      <td>15987</td>\n",
       "      <td>22652</td>\n",
       "      <td>22652</td>\n",
       "      <td>6f9ccf0a-bb3d-4490-9b30-a1c5e0e62f18</td>\n",
       "      <td>Less cumbersomely awkward. Improved member con...</td>\n",
       "      <td>3</td>\n",
       "      <td>0</td>\n",
       "      <td>24.5.2.100</td>\n",
       "      <td>2022-08-04 06:18:49</td>\n",
       "      <td>NaN</td>\n",
       "      <td>NaN</td>\n",
       "      <td>24.5.2.100</td>\n",
       "      <td>1</td>\n",
       "      <td>63</td>\n",
       "      <td>en</td>\n",
       "    </tr>\n",
       "    <tr>\n",
       "      <th>11630</th>\n",
       "      <td>16466</td>\n",
       "      <td>23381</td>\n",
       "      <td>23381</td>\n",
       "      <td>18be0012-2e1e-4b1b-9d3c-a4197fe2f717</td>\n",
       "      <td>prime use to be 1 or 2 days! Now prime means 5...</td>\n",
       "      <td>3</td>\n",
       "      <td>0</td>\n",
       "      <td>24.12.6.100</td>\n",
       "      <td>2022-07-01 21:50:03</td>\n",
       "      <td>NaN</td>\n",
       "      <td>NaN</td>\n",
       "      <td>24.12.6.100</td>\n",
       "      <td>1</td>\n",
       "      <td>62</td>\n",
       "      <td>en</td>\n",
       "    </tr>\n",
       "  </tbody>\n",
       "</table>\n",
       "<p>11631 rows × 15 columns</p>\n",
       "</div>"
      ],
      "text/plain": [
       "       level_0  index  Unnamed: 0                              reviewId  \\\n",
       "0         2812   4087        4087  7c7a7fe6-f187-48c6-823a-70ae734b04a3   \n",
       "1        17483  24985       24985  c76ab0e8-50f0-48ec-a920-9de9329299fa   \n",
       "2         7525  10956       10956  5cd981cf-c9be-45ee-b0e3-92af3d7c2a12   \n",
       "3         7019  10263       10263  74daab50-f012-4d3d-a880-9a3f0e4fd159   \n",
       "4         8328  12432       12432  af3b1dfc-9982-49d2-ab96-d06f2b9ae9a6   \n",
       "...        ...    ...         ...                                   ...   \n",
       "11626     4226   6159        6159  6eb97318-ab71-4b6c-a7af-d486bc38953a   \n",
       "11627     9673  14414       14414  0e6be9a1-7922-431e-b202-2907cfbaae87   \n",
       "11628     3504   5093        5093  37341abd-e64f-4e4e-af5f-1148dfc23a31   \n",
       "11629    15987  22652       22652  6f9ccf0a-bb3d-4490-9b30-a1c5e0e62f18   \n",
       "11630    16466  23381       23381  18be0012-2e1e-4b1b-9d3c-a4197fe2f717   \n",
       "\n",
       "                                                 content  score  \\\n",
       "0      the app runs a little slow at times, but nothi...      5   \n",
       "1      You do realize there is more than just apple S...      3   \n",
       "2      Easy to use if you know what you want, simple ...      5   \n",
       "3      Work ok but frozen on loading and searching as...      3   \n",
       "4                        easy shopping and fast delivery      5   \n",
       "...                                                  ...    ...   \n",
       "11626  love it can always find what I need and great ...      5   \n",
       "11627  The app is SLOW and not intuitive at all! Sear...      2   \n",
       "11628  Love Amazon if you're not happy with a purchas...      5   \n",
       "11629  Less cumbersomely awkward. Improved member con...      3   \n",
       "11630  prime use to be 1 or 2 days! Now prime means 5...      3   \n",
       "\n",
       "       thumbsUpCount reviewCreatedVersion                   at replyContent  \\\n",
       "0                  5          26.23.0.100  2023-12-09 10:57:59          NaN   \n",
       "1                  0          22.19.0.100  2022-05-06 03:05:51          NaN   \n",
       "2                  2          26.21.0.100  2023-11-01 11:15:01          NaN   \n",
       "3                  1          26.21.0.100  2023-11-05 12:08:47          NaN   \n",
       "4                  0          26.19.4.100  2023-10-10 17:42:38          NaN   \n",
       "...              ...                  ...                  ...          ...   \n",
       "11626              0          26.20.0.100  2023-11-24 15:20:22          NaN   \n",
       "11627              0          26.15.0.100  2023-08-09 07:22:09          NaN   \n",
       "11628              1          26.22.0.100  2023-12-01 21:41:25          NaN   \n",
       "11629              0           24.5.2.100  2022-08-04 06:18:49          NaN   \n",
       "11630              0          24.12.6.100  2022-07-01 21:50:03          NaN   \n",
       "\n",
       "      repliedAt   appVersion  sentiment  lengthContent Language  \n",
       "0           NaN  26.23.0.100          2            145       en  \n",
       "1           NaN  22.19.0.100          1            379       en  \n",
       "2           NaN  26.21.0.100          2            208       en  \n",
       "3           NaN  26.21.0.100          1             52       en  \n",
       "4           NaN  26.19.4.100          2             31       en  \n",
       "...         ...          ...        ...            ...      ...  \n",
       "11626       NaN  26.20.0.100          2             83       en  \n",
       "11627       NaN  26.15.0.100          0            298       en  \n",
       "11628       NaN  26.22.0.100          2            221       en  \n",
       "11629       NaN   24.5.2.100          1             63       en  \n",
       "11630       NaN  24.12.6.100          1             62       en  \n",
       "\n",
       "[11631 rows x 15 columns]"
      ]
     },
     "execution_count": 9,
     "metadata": {},
     "output_type": "execute_result"
    }
   ],
   "source": [
    "dataset"
   ]
  },
  {
   "cell_type": "code",
   "execution_count": 10,
   "metadata": {
    "colab": {
     "base_uri": "https://localhost:8080/"
    },
    "id": "qRVQkravqbEa",
    "outputId": "229e6169-782d-4659-e6c4-90ce9d4eba57"
   },
   "outputs": [
    {
     "data": {
      "text/plain": [
       "(11631, 15)"
      ]
     },
     "execution_count": 10,
     "metadata": {},
     "output_type": "execute_result"
    }
   ],
   "source": [
    "dataset.shape"
   ]
  },
  {
   "cell_type": "code",
   "execution_count": 11,
   "metadata": {
    "colab": {
     "base_uri": "https://localhost:8080/"
    },
    "id": "mRcIu7jQqfeZ",
    "outputId": "c71ca397-2c95-4f92-8aad-5cfebe95cef1"
   },
   "outputs": [
    {
     "name": "stdout",
     "output_type": "stream",
     "text": [
      "sentiment\n",
      "0    3877\n",
      "1    3877\n",
      "2    3877\n",
      "Name: count, dtype: int64\n"
     ]
    }
   ],
   "source": [
    "sentiment_counts_balanced = dataset['sentiment'].value_counts().sort_index()\n",
    "print(sentiment_counts_balanced)"
   ]
  },
  {
   "cell_type": "code",
   "execution_count": 12,
   "metadata": {
    "id": "4x8gdkV5qgxY"
   },
   "outputs": [],
   "source": [
    "dataset['pre_process'] = dataset['content'].apply(lambda x: \" \".join(x.lower() for x in str(x).split()))"
   ]
  },
  {
   "cell_type": "code",
   "execution_count": 13,
   "metadata": {
    "colab": {
     "base_uri": "https://localhost:8080/"
    },
    "id": "GMA4032_2dUY",
    "outputId": "e7447737-a3c5-4ce8-9959-11d8e0a161e3"
   },
   "outputs": [
    {
     "name": "stderr",
     "output_type": "stream",
     "text": [
      "/tmp/ipykernel_2202620/1601252331.py:3: MarkupResemblesLocatorWarning: The input looks more like a filename than markup. You may want to open this file and pass the filehandle into Beautiful Soup.\n",
      "  dataset['pre_process'] = dataset['pre_process'].apply(lambda x: BeautifulSoup(x).get_text())\n"
     ]
    }
   ],
   "source": [
    "from bs4 import BeautifulSoup\n",
    "\n",
    "dataset['pre_process'] = dataset['pre_process'].apply(lambda x: BeautifulSoup(x).get_text())"
   ]
  },
  {
   "cell_type": "code",
   "execution_count": 14,
   "metadata": {
    "id": "Qvjx3WN62eCy"
   },
   "outputs": [],
   "source": [
    "import re\n",
    "dataset['pre_process'] = dataset['pre_process'].apply(lambda x: re.sub(r\"http\\S+\", \"\", x))"
   ]
  },
  {
   "cell_type": "code",
   "execution_count": 15,
   "metadata": {
    "id": "VVojcXs83MJB"
   },
   "outputs": [],
   "source": [
    "def contractions(s):\n",
    " s = re.sub(r\"won't\", \"will not\",s)\n",
    " s = re.sub(r\"would't\", \"would not\",s)\n",
    " s = re.sub(r\"could't\", \"could not\",s)\n",
    " s = re.sub(r\"\\'d\", \" would\",s)\n",
    " s = re.sub(r\"can\\'t\", \"can not\",s)\n",
    " s = re.sub(r\"n\\'t\", \" not\", s)\n",
    " s= re.sub(r\"\\'re\", \" are\", s)\n",
    " s = re.sub(r\"\\'s\", \" is\", s)\n",
    " s = re.sub(r\"\\'ll\", \" will\", s)\n",
    " s = re.sub(r\"\\'t\", \" not\", s)\n",
    " s = re.sub(r\"\\'ve\", \" have\", s)\n",
    " s = re.sub(r\"\\'m\", \" am\", s)\n",
    " return s"
   ]
  },
  {
   "cell_type": "code",
   "execution_count": 16,
   "metadata": {
    "id": "bZPPQ-S53dcH"
   },
   "outputs": [],
   "source": [
    "dataset['pre_process']=dataset['pre_process'].apply(lambda x:contractions(x))"
   ]
  },
  {
   "cell_type": "code",
   "execution_count": 17,
   "metadata": {
    "id": "0iK9o7n14Q5-"
   },
   "outputs": [],
   "source": [
    "dataset['pre_process']=dataset['pre_process'].apply(lambda x: \" \".join([re.sub('[^A-Za-z]+','', x) for x in nltk.word_tokenize(x)]))"
   ]
  },
  {
   "cell_type": "code",
   "execution_count": 18,
   "metadata": {
    "id": "Gy0ESb3c4feT"
   },
   "outputs": [],
   "source": [
    "dataset['pre_process']=dataset['pre_process'].apply(lambda x: re.sub(' +', ' ', x))"
   ]
  },
  {
   "cell_type": "code",
   "execution_count": 19,
   "metadata": {
    "id": "9ZCzuumH5Ffd"
   },
   "outputs": [],
   "source": [
    "from nltk.corpus import stopwords\n",
    "\n",
    "stop = stopwords.words('english')\n",
    "dataset['pre_process']=dataset['pre_process'].apply(lambda x: \" \".join([x for x in x.split() if x not in stop]))"
   ]
  },
  {
   "cell_type": "code",
   "execution_count": 20,
   "metadata": {
    "id": "SLbvhKUh5OYf"
   },
   "outputs": [],
   "source": [
    "from nltk.stem import WordNetLemmatizer\n",
    "\n",
    "lemmatizer = WordNetLemmatizer()\n",
    "dataset['pre_process'] = dataset['pre_process'].apply(lambda x: \" \".join([lemmatizer.lemmatize(w) for w in nltk.word_tokenize(x)]))"
   ]
  },
  {
   "cell_type": "code",
   "execution_count": 21,
   "metadata": {
    "colab": {
     "base_uri": "https://localhost:8080/",
     "height": 945
    },
    "id": "OvMEYpON5jf9",
    "outputId": "c395df28-41b5-4c36-be33-e3e224fb72f1"
   },
   "outputs": [
    {
     "data": {
      "text/html": [
       "<div>\n",
       "<style scoped>\n",
       "    .dataframe tbody tr th:only-of-type {\n",
       "        vertical-align: middle;\n",
       "    }\n",
       "\n",
       "    .dataframe tbody tr th {\n",
       "        vertical-align: top;\n",
       "    }\n",
       "\n",
       "    .dataframe thead th {\n",
       "        text-align: right;\n",
       "    }\n",
       "</style>\n",
       "<table border=\"1\" class=\"dataframe\">\n",
       "  <thead>\n",
       "    <tr style=\"text-align: right;\">\n",
       "      <th></th>\n",
       "      <th>level_0</th>\n",
       "      <th>index</th>\n",
       "      <th>Unnamed: 0</th>\n",
       "      <th>reviewId</th>\n",
       "      <th>content</th>\n",
       "      <th>score</th>\n",
       "      <th>thumbsUpCount</th>\n",
       "      <th>reviewCreatedVersion</th>\n",
       "      <th>at</th>\n",
       "      <th>replyContent</th>\n",
       "      <th>repliedAt</th>\n",
       "      <th>appVersion</th>\n",
       "      <th>sentiment</th>\n",
       "      <th>lengthContent</th>\n",
       "      <th>Language</th>\n",
       "      <th>pre_process</th>\n",
       "    </tr>\n",
       "  </thead>\n",
       "  <tbody>\n",
       "    <tr>\n",
       "      <th>0</th>\n",
       "      <td>2812</td>\n",
       "      <td>4087</td>\n",
       "      <td>4087</td>\n",
       "      <td>7c7a7fe6-f187-48c6-823a-70ae734b04a3</td>\n",
       "      <td>the app runs a little slow at times, but nothi...</td>\n",
       "      <td>5</td>\n",
       "      <td>5</td>\n",
       "      <td>26.23.0.100</td>\n",
       "      <td>2023-12-09 10:57:59</td>\n",
       "      <td>NaN</td>\n",
       "      <td>NaN</td>\n",
       "      <td>26.23.0.100</td>\n",
       "      <td>2</td>\n",
       "      <td>145</td>\n",
       "      <td>en</td>\n",
       "      <td>app run little slow time nothing worth taking ...</td>\n",
       "    </tr>\n",
       "    <tr>\n",
       "      <th>1</th>\n",
       "      <td>17483</td>\n",
       "      <td>24985</td>\n",
       "      <td>24985</td>\n",
       "      <td>c76ab0e8-50f0-48ec-a920-9de9329299fa</td>\n",
       "      <td>You do realize there is more than just apple S...</td>\n",
       "      <td>3</td>\n",
       "      <td>0</td>\n",
       "      <td>22.19.0.100</td>\n",
       "      <td>2022-05-06 03:05:51</td>\n",
       "      <td>NaN</td>\n",
       "      <td>NaN</td>\n",
       "      <td>22.19.0.100</td>\n",
       "      <td>1</td>\n",
       "      <td>379</td>\n",
       "      <td>en</td>\n",
       "      <td>realize apple samsung motorola see lg lg make ...</td>\n",
       "    </tr>\n",
       "    <tr>\n",
       "      <th>2</th>\n",
       "      <td>7525</td>\n",
       "      <td>10956</td>\n",
       "      <td>10956</td>\n",
       "      <td>5cd981cf-c9be-45ee-b0e3-92af3d7c2a12</td>\n",
       "      <td>Easy to use if you know what you want, simple ...</td>\n",
       "      <td>5</td>\n",
       "      <td>2</td>\n",
       "      <td>26.21.0.100</td>\n",
       "      <td>2023-11-01 11:15:01</td>\n",
       "      <td>NaN</td>\n",
       "      <td>NaN</td>\n",
       "      <td>26.21.0.100</td>\n",
       "      <td>2</td>\n",
       "      <td>208</td>\n",
       "      <td>en</td>\n",
       "      <td>easy use know want simple find select item ord...</td>\n",
       "    </tr>\n",
       "    <tr>\n",
       "      <th>3</th>\n",
       "      <td>7019</td>\n",
       "      <td>10263</td>\n",
       "      <td>10263</td>\n",
       "      <td>74daab50-f012-4d3d-a880-9a3f0e4fd159</td>\n",
       "      <td>Work ok but frozen on loading and searching as...</td>\n",
       "      <td>3</td>\n",
       "      <td>1</td>\n",
       "      <td>26.21.0.100</td>\n",
       "      <td>2023-11-05 12:08:47</td>\n",
       "      <td>NaN</td>\n",
       "      <td>NaN</td>\n",
       "      <td>26.21.0.100</td>\n",
       "      <td>1</td>\n",
       "      <td>52</td>\n",
       "      <td>en</td>\n",
       "      <td>work ok frozen loading searching well</td>\n",
       "    </tr>\n",
       "    <tr>\n",
       "      <th>4</th>\n",
       "      <td>8328</td>\n",
       "      <td>12432</td>\n",
       "      <td>12432</td>\n",
       "      <td>af3b1dfc-9982-49d2-ab96-d06f2b9ae9a6</td>\n",
       "      <td>easy shopping and fast delivery</td>\n",
       "      <td>5</td>\n",
       "      <td>0</td>\n",
       "      <td>26.19.4.100</td>\n",
       "      <td>2023-10-10 17:42:38</td>\n",
       "      <td>NaN</td>\n",
       "      <td>NaN</td>\n",
       "      <td>26.19.4.100</td>\n",
       "      <td>2</td>\n",
       "      <td>31</td>\n",
       "      <td>en</td>\n",
       "      <td>easy shopping fast delivery</td>\n",
       "    </tr>\n",
       "    <tr>\n",
       "      <th>...</th>\n",
       "      <td>...</td>\n",
       "      <td>...</td>\n",
       "      <td>...</td>\n",
       "      <td>...</td>\n",
       "      <td>...</td>\n",
       "      <td>...</td>\n",
       "      <td>...</td>\n",
       "      <td>...</td>\n",
       "      <td>...</td>\n",
       "      <td>...</td>\n",
       "      <td>...</td>\n",
       "      <td>...</td>\n",
       "      <td>...</td>\n",
       "      <td>...</td>\n",
       "      <td>...</td>\n",
       "      <td>...</td>\n",
       "    </tr>\n",
       "    <tr>\n",
       "      <th>11626</th>\n",
       "      <td>4226</td>\n",
       "      <td>6159</td>\n",
       "      <td>6159</td>\n",
       "      <td>6eb97318-ab71-4b6c-a7af-d486bc38953a</td>\n",
       "      <td>love it can always find what I need and great ...</td>\n",
       "      <td>5</td>\n",
       "      <td>0</td>\n",
       "      <td>26.20.0.100</td>\n",
       "      <td>2023-11-24 15:20:22</td>\n",
       "      <td>NaN</td>\n",
       "      <td>NaN</td>\n",
       "      <td>26.20.0.100</td>\n",
       "      <td>2</td>\n",
       "      <td>83</td>\n",
       "      <td>en</td>\n",
       "      <td>love always find need great delivery time easy...</td>\n",
       "    </tr>\n",
       "    <tr>\n",
       "      <th>11627</th>\n",
       "      <td>9673</td>\n",
       "      <td>14414</td>\n",
       "      <td>14414</td>\n",
       "      <td>0e6be9a1-7922-431e-b202-2907cfbaae87</td>\n",
       "      <td>The app is SLOW and not intuitive at all! Sear...</td>\n",
       "      <td>2</td>\n",
       "      <td>0</td>\n",
       "      <td>26.15.0.100</td>\n",
       "      <td>2023-08-09 07:22:09</td>\n",
       "      <td>NaN</td>\n",
       "      <td>NaN</td>\n",
       "      <td>26.15.0.100</td>\n",
       "      <td>0</td>\n",
       "      <td>298</td>\n",
       "      <td>en</td>\n",
       "      <td>app slow intuitive searching item website sooo...</td>\n",
       "    </tr>\n",
       "    <tr>\n",
       "      <th>11628</th>\n",
       "      <td>3504</td>\n",
       "      <td>5093</td>\n",
       "      <td>5093</td>\n",
       "      <td>37341abd-e64f-4e4e-af5f-1148dfc23a31</td>\n",
       "      <td>Love Amazon if you're not happy with a purchas...</td>\n",
       "      <td>5</td>\n",
       "      <td>1</td>\n",
       "      <td>26.22.0.100</td>\n",
       "      <td>2023-12-01 21:41:25</td>\n",
       "      <td>NaN</td>\n",
       "      <td>NaN</td>\n",
       "      <td>26.22.0.100</td>\n",
       "      <td>2</td>\n",
       "      <td>221</td>\n",
       "      <td>en</td>\n",
       "      <td>love amazon happy purchase change mind thing r...</td>\n",
       "    </tr>\n",
       "    <tr>\n",
       "      <th>11629</th>\n",
       "      <td>15987</td>\n",
       "      <td>22652</td>\n",
       "      <td>22652</td>\n",
       "      <td>6f9ccf0a-bb3d-4490-9b30-a1c5e0e62f18</td>\n",
       "      <td>Less cumbersomely awkward. Improved member con...</td>\n",
       "      <td>3</td>\n",
       "      <td>0</td>\n",
       "      <td>24.5.2.100</td>\n",
       "      <td>2022-08-04 06:18:49</td>\n",
       "      <td>NaN</td>\n",
       "      <td>NaN</td>\n",
       "      <td>24.5.2.100</td>\n",
       "      <td>1</td>\n",
       "      <td>63</td>\n",
       "      <td>en</td>\n",
       "      <td>le cumbersomely awkward improved member conten...</td>\n",
       "    </tr>\n",
       "    <tr>\n",
       "      <th>11630</th>\n",
       "      <td>16466</td>\n",
       "      <td>23381</td>\n",
       "      <td>23381</td>\n",
       "      <td>18be0012-2e1e-4b1b-9d3c-a4197fe2f717</td>\n",
       "      <td>prime use to be 1 or 2 days! Now prime means 5...</td>\n",
       "      <td>3</td>\n",
       "      <td>0</td>\n",
       "      <td>24.12.6.100</td>\n",
       "      <td>2022-07-01 21:50:03</td>\n",
       "      <td>NaN</td>\n",
       "      <td>NaN</td>\n",
       "      <td>24.12.6.100</td>\n",
       "      <td>1</td>\n",
       "      <td>62</td>\n",
       "      <td>en</td>\n",
       "      <td>prime use day prime mean day</td>\n",
       "    </tr>\n",
       "  </tbody>\n",
       "</table>\n",
       "<p>11631 rows × 16 columns</p>\n",
       "</div>"
      ],
      "text/plain": [
       "       level_0  index  Unnamed: 0                              reviewId  \\\n",
       "0         2812   4087        4087  7c7a7fe6-f187-48c6-823a-70ae734b04a3   \n",
       "1        17483  24985       24985  c76ab0e8-50f0-48ec-a920-9de9329299fa   \n",
       "2         7525  10956       10956  5cd981cf-c9be-45ee-b0e3-92af3d7c2a12   \n",
       "3         7019  10263       10263  74daab50-f012-4d3d-a880-9a3f0e4fd159   \n",
       "4         8328  12432       12432  af3b1dfc-9982-49d2-ab96-d06f2b9ae9a6   \n",
       "...        ...    ...         ...                                   ...   \n",
       "11626     4226   6159        6159  6eb97318-ab71-4b6c-a7af-d486bc38953a   \n",
       "11627     9673  14414       14414  0e6be9a1-7922-431e-b202-2907cfbaae87   \n",
       "11628     3504   5093        5093  37341abd-e64f-4e4e-af5f-1148dfc23a31   \n",
       "11629    15987  22652       22652  6f9ccf0a-bb3d-4490-9b30-a1c5e0e62f18   \n",
       "11630    16466  23381       23381  18be0012-2e1e-4b1b-9d3c-a4197fe2f717   \n",
       "\n",
       "                                                 content  score  \\\n",
       "0      the app runs a little slow at times, but nothi...      5   \n",
       "1      You do realize there is more than just apple S...      3   \n",
       "2      Easy to use if you know what you want, simple ...      5   \n",
       "3      Work ok but frozen on loading and searching as...      3   \n",
       "4                        easy shopping and fast delivery      5   \n",
       "...                                                  ...    ...   \n",
       "11626  love it can always find what I need and great ...      5   \n",
       "11627  The app is SLOW and not intuitive at all! Sear...      2   \n",
       "11628  Love Amazon if you're not happy with a purchas...      5   \n",
       "11629  Less cumbersomely awkward. Improved member con...      3   \n",
       "11630  prime use to be 1 or 2 days! Now prime means 5...      3   \n",
       "\n",
       "       thumbsUpCount reviewCreatedVersion                   at replyContent  \\\n",
       "0                  5          26.23.0.100  2023-12-09 10:57:59          NaN   \n",
       "1                  0          22.19.0.100  2022-05-06 03:05:51          NaN   \n",
       "2                  2          26.21.0.100  2023-11-01 11:15:01          NaN   \n",
       "3                  1          26.21.0.100  2023-11-05 12:08:47          NaN   \n",
       "4                  0          26.19.4.100  2023-10-10 17:42:38          NaN   \n",
       "...              ...                  ...                  ...          ...   \n",
       "11626              0          26.20.0.100  2023-11-24 15:20:22          NaN   \n",
       "11627              0          26.15.0.100  2023-08-09 07:22:09          NaN   \n",
       "11628              1          26.22.0.100  2023-12-01 21:41:25          NaN   \n",
       "11629              0           24.5.2.100  2022-08-04 06:18:49          NaN   \n",
       "11630              0          24.12.6.100  2022-07-01 21:50:03          NaN   \n",
       "\n",
       "      repliedAt   appVersion  sentiment  lengthContent Language  \\\n",
       "0           NaN  26.23.0.100          2            145       en   \n",
       "1           NaN  22.19.0.100          1            379       en   \n",
       "2           NaN  26.21.0.100          2            208       en   \n",
       "3           NaN  26.21.0.100          1             52       en   \n",
       "4           NaN  26.19.4.100          2             31       en   \n",
       "...         ...          ...        ...            ...      ...   \n",
       "11626       NaN  26.20.0.100          2             83       en   \n",
       "11627       NaN  26.15.0.100          0            298       en   \n",
       "11628       NaN  26.22.0.100          2            221       en   \n",
       "11629       NaN   24.5.2.100          1             63       en   \n",
       "11630       NaN  24.12.6.100          1             62       en   \n",
       "\n",
       "                                             pre_process  \n",
       "0      app run little slow time nothing worth taking ...  \n",
       "1      realize apple samsung motorola see lg lg make ...  \n",
       "2      easy use know want simple find select item ord...  \n",
       "3                  work ok frozen loading searching well  \n",
       "4                            easy shopping fast delivery  \n",
       "...                                                  ...  \n",
       "11626  love always find need great delivery time easy...  \n",
       "11627  app slow intuitive searching item website sooo...  \n",
       "11628  love amazon happy purchase change mind thing r...  \n",
       "11629  le cumbersomely awkward improved member conten...  \n",
       "11630                       prime use day prime mean day  \n",
       "\n",
       "[11631 rows x 16 columns]"
      ]
     },
     "execution_count": 21,
     "metadata": {},
     "output_type": "execute_result"
    }
   ],
   "source": [
    "dataset"
   ]
  },
  {
   "cell_type": "markdown",
   "metadata": {
    "id": "z97rpanj52L1"
   },
   "source": [
    "Feature Extraction"
   ]
  },
  {
   "cell_type": "code",
   "execution_count": 22,
   "metadata": {
    "colab": {
     "base_uri": "https://localhost:8080/"
    },
    "id": "7xAGCF6Y5s9b",
    "outputId": "4f9ada6f-6d58-4a61-8c08-6ba5a9a584c9"
   },
   "outputs": [
    {
     "name": "stdout",
     "output_type": "stream",
     "text": [
      "Train:  (9304,) (9304,) Test:  ((2327,), (2327,))\n"
     ]
    }
   ],
   "source": [
    "from sklearn.model_selection import train_test_split\n",
    "X_train,X_test,Y_train, Y_test = train_test_split(dataset['pre_process'], dataset['sentiment'], test_size=0.2, random_state=30)\n",
    "\n",
    "print(\"Train: \",X_train.shape,Y_train.shape,\"Test: \",(X_test.shape,Y_test.shape))"
   ]
  },
  {
   "cell_type": "markdown",
   "metadata": {
    "id": "LwMfStrtF6XU"
   },
   "source": [
    "SVM"
   ]
  },
  {
   "cell_type": "code",
   "execution_count": 23,
   "metadata": {},
   "outputs": [],
   "source": [
    "# from sklearn.svm import LinearSVC\n",
    "# from sklearn.pipeline import Pipeline\n",
    "# from sklearn.feature_extraction.text import TfidfVectorizer\n",
    "\n",
    "# print(\"TFIDF Vectorizer……\")\n",
    "\n",
    "# # Define your pipeline including feature extraction and classifier\n",
    "# pipeline = Pipeline([\n",
    "#     ('tfidf', TfidfVectorizer()),\n",
    "#     ('clf', LinearSVC(random_state=0)),\n",
    "# ])\n",
    "\n",
    "# # Fit the pipeline\n",
    "# pipeline.fit(X_train, Y_train)\n",
    "\n",
    "# # Evaluate on test data\n",
    "# y_test_pred = pipeline.predict(X_test)"
   ]
  },
  {
   "cell_type": "code",
   "execution_count": 24,
   "metadata": {},
   "outputs": [
    {
     "name": "stdout",
     "output_type": "stream",
     "text": [
      "TFIDF Vectorizer……\n"
     ]
    }
   ],
   "source": [
    "from sklearn.feature_extraction.text import TfidfVectorizer\n",
    "\n",
    "print(\"TFIDF Vectorizer……\")\n",
    "\n",
    "vectorizer= TfidfVectorizer()\n",
    "\n",
    "tf_x_train = vectorizer.fit_transform(X_train)\n",
    "\n",
    "tf_x_test = vectorizer.transform(X_test)"
   ]
  },
  {
   "cell_type": "code",
   "execution_count": 25,
   "metadata": {},
   "outputs": [],
   "source": [
    "from sklearn.svm import SVC\n",
    "\n",
    "clf_svm = SVC(random_state=0)"
   ]
  },
  {
   "cell_type": "code",
   "execution_count": 26,
   "metadata": {},
   "outputs": [],
   "source": [
    "# clf.fit(tf_x_train,Y_train)"
   ]
  },
  {
   "cell_type": "code",
   "execution_count": 27,
   "metadata": {},
   "outputs": [],
   "source": [
    "# y_test_pred=clf.predict(tf_x_test)"
   ]
  },
  {
   "cell_type": "code",
   "execution_count": 28,
   "metadata": {
    "scrolled": true
   },
   "outputs": [
    {
     "name": "stdout",
     "output_type": "stream",
     "text": [
      "Fitting 5 folds for each of 25 candidates, totalling 125 fits\n",
      "[CV 1/5] END ........C=0.1, gamma=1, kernel=rbf;, score=0.493 total time=  10.0s\n",
      "[CV 2/5] END ........C=0.1, gamma=1, kernel=rbf;, score=0.461 total time=  10.0s\n",
      "[CV 3/5] END ........C=0.1, gamma=1, kernel=rbf;, score=0.471 total time=   9.9s\n",
      "[CV 4/5] END ........C=0.1, gamma=1, kernel=rbf;, score=0.477 total time=  10.0s\n",
      "[CV 5/5] END ........C=0.1, gamma=1, kernel=rbf;, score=0.502 total time=  10.4s\n",
      "[CV 1/5] END ......C=0.1, gamma=0.1, kernel=rbf;, score=0.409 total time=  10.9s\n",
      "[CV 2/5] END ......C=0.1, gamma=0.1, kernel=rbf;, score=0.401 total time=  10.5s\n",
      "[CV 3/5] END ......C=0.1, gamma=0.1, kernel=rbf;, score=0.416 total time=  10.2s\n",
      "[CV 4/5] END ......C=0.1, gamma=0.1, kernel=rbf;, score=0.418 total time=  10.2s\n",
      "[CV 5/5] END ......C=0.1, gamma=0.1, kernel=rbf;, score=0.426 total time=  10.4s\n",
      "[CV 1/5] END .....C=0.1, gamma=0.01, kernel=rbf;, score=0.334 total time=  10.8s\n",
      "[CV 2/5] END .....C=0.1, gamma=0.01, kernel=rbf;, score=0.334 total time=  10.7s\n",
      "[CV 3/5] END .....C=0.1, gamma=0.01, kernel=rbf;, score=0.335 total time=  10.3s\n",
      "[CV 4/5] END .....C=0.1, gamma=0.01, kernel=rbf;, score=0.335 total time=  10.3s\n",
      "[CV 5/5] END .....C=0.1, gamma=0.01, kernel=rbf;, score=0.335 total time=  10.3s\n",
      "[CV 1/5] END ....C=0.1, gamma=0.001, kernel=rbf;, score=0.334 total time=  10.6s\n",
      "[CV 2/5] END ....C=0.1, gamma=0.001, kernel=rbf;, score=0.334 total time=  10.7s\n",
      "[CV 3/5] END ....C=0.1, gamma=0.001, kernel=rbf;, score=0.335 total time=  10.7s\n",
      "[CV 4/5] END ....C=0.1, gamma=0.001, kernel=rbf;, score=0.335 total time=  10.4s\n",
      "[CV 5/5] END ....C=0.1, gamma=0.001, kernel=rbf;, score=0.335 total time=  10.4s\n",
      "[CV 1/5] END ...C=0.1, gamma=0.0001, kernel=rbf;, score=0.334 total time=  10.4s\n",
      "[CV 2/5] END ...C=0.1, gamma=0.0001, kernel=rbf;, score=0.334 total time=  10.9s\n",
      "[CV 3/5] END ...C=0.1, gamma=0.0001, kernel=rbf;, score=0.335 total time=  10.7s\n",
      "[CV 4/5] END ...C=0.1, gamma=0.0001, kernel=rbf;, score=0.335 total time=  10.5s\n",
      "[CV 5/5] END ...C=0.1, gamma=0.0001, kernel=rbf;, score=0.335 total time=  10.4s\n",
      "[CV 1/5] END ..........C=1, gamma=1, kernel=rbf;, score=0.584 total time=   9.4s\n",
      "[CV 2/5] END ..........C=1, gamma=1, kernel=rbf;, score=0.558 total time=   9.5s\n",
      "[CV 3/5] END ..........C=1, gamma=1, kernel=rbf;, score=0.600 total time=   9.7s\n",
      "[CV 4/5] END ..........C=1, gamma=1, kernel=rbf;, score=0.591 total time=   9.7s\n",
      "[CV 5/5] END ..........C=1, gamma=1, kernel=rbf;, score=0.604 total time=   9.7s\n",
      "[CV 1/5] END ........C=1, gamma=0.1, kernel=rbf;, score=0.580 total time=   8.8s\n",
      "[CV 2/5] END ........C=1, gamma=0.1, kernel=rbf;, score=0.564 total time=   8.8s\n",
      "[CV 3/5] END ........C=1, gamma=0.1, kernel=rbf;, score=0.586 total time=   8.8s\n",
      "[CV 4/5] END ........C=1, gamma=0.1, kernel=rbf;, score=0.580 total time=   9.0s\n",
      "[CV 5/5] END ........C=1, gamma=0.1, kernel=rbf;, score=0.594 total time=   9.1s\n",
      "[CV 1/5] END .......C=1, gamma=0.01, kernel=rbf;, score=0.429 total time=  10.5s\n",
      "[CV 2/5] END .......C=1, gamma=0.01, kernel=rbf;, score=0.418 total time=  10.2s\n",
      "[CV 3/5] END .......C=1, gamma=0.01, kernel=rbf;, score=0.431 total time=  10.2s\n",
      "[CV 4/5] END .......C=1, gamma=0.01, kernel=rbf;, score=0.437 total time=  10.2s\n",
      "[CV 5/5] END .......C=1, gamma=0.01, kernel=rbf;, score=0.441 total time=  10.4s\n",
      "[CV 1/5] END ......C=1, gamma=0.001, kernel=rbf;, score=0.334 total time=  10.7s\n",
      "[CV 2/5] END ......C=1, gamma=0.001, kernel=rbf;, score=0.334 total time=  10.7s\n",
      "[CV 3/5] END ......C=1, gamma=0.001, kernel=rbf;, score=0.335 total time=  10.3s\n",
      "[CV 4/5] END ......C=1, gamma=0.001, kernel=rbf;, score=0.335 total time=  10.5s\n",
      "[CV 5/5] END ......C=1, gamma=0.001, kernel=rbf;, score=0.335 total time=  10.5s\n",
      "[CV 1/5] END .....C=1, gamma=0.0001, kernel=rbf;, score=0.334 total time=  10.8s\n",
      "[CV 2/5] END .....C=1, gamma=0.0001, kernel=rbf;, score=0.334 total time=  10.6s\n",
      "[CV 3/5] END .....C=1, gamma=0.0001, kernel=rbf;, score=0.335 total time=  10.7s\n",
      "[CV 4/5] END .....C=1, gamma=0.0001, kernel=rbf;, score=0.335 total time=  10.7s\n",
      "[CV 5/5] END .....C=1, gamma=0.0001, kernel=rbf;, score=0.335 total time=  10.7s\n",
      "[CV 1/5] END .........C=10, gamma=1, kernel=rbf;, score=0.573 total time=  10.9s\n",
      "[CV 2/5] END .........C=10, gamma=1, kernel=rbf;, score=0.552 total time=  10.9s\n",
      "[CV 3/5] END .........C=10, gamma=1, kernel=rbf;, score=0.591 total time=  10.9s\n",
      "[CV 4/5] END .........C=10, gamma=1, kernel=rbf;, score=0.582 total time=  10.9s\n",
      "[CV 5/5] END .........C=10, gamma=1, kernel=rbf;, score=0.593 total time=  10.5s\n",
      "[CV 1/5] END .......C=10, gamma=0.1, kernel=rbf;, score=0.572 total time=   8.4s\n",
      "[CV 2/5] END .......C=10, gamma=0.1, kernel=rbf;, score=0.556 total time=   8.5s\n",
      "[CV 3/5] END .......C=10, gamma=0.1, kernel=rbf;, score=0.581 total time=   8.7s\n",
      "[CV 4/5] END .......C=10, gamma=0.1, kernel=rbf;, score=0.578 total time=   8.4s\n",
      "[CV 5/5] END .......C=10, gamma=0.1, kernel=rbf;, score=0.608 total time=   8.5s\n",
      "[CV 1/5] END ......C=10, gamma=0.01, kernel=rbf;, score=0.579 total time=   8.7s\n",
      "[CV 2/5] END ......C=10, gamma=0.01, kernel=rbf;, score=0.559 total time=   8.7s\n",
      "[CV 3/5] END ......C=10, gamma=0.01, kernel=rbf;, score=0.589 total time=   8.7s\n",
      "[CV 4/5] END ......C=10, gamma=0.01, kernel=rbf;, score=0.581 total time=   9.0s\n",
      "[CV 5/5] END ......C=10, gamma=0.01, kernel=rbf;, score=0.588 total time=   9.1s\n",
      "[CV 1/5] END .....C=10, gamma=0.001, kernel=rbf;, score=0.430 total time=  10.7s\n",
      "[CV 2/5] END .....C=10, gamma=0.001, kernel=rbf;, score=0.419 total time=  10.6s\n",
      "[CV 3/5] END .....C=10, gamma=0.001, kernel=rbf;, score=0.431 total time=  10.5s\n",
      "[CV 4/5] END .....C=10, gamma=0.001, kernel=rbf;, score=0.439 total time=  10.5s\n",
      "[CV 5/5] END .....C=10, gamma=0.001, kernel=rbf;, score=0.441 total time=  10.3s\n",
      "[CV 1/5] END ....C=10, gamma=0.0001, kernel=rbf;, score=0.334 total time=  10.7s\n",
      "[CV 2/5] END ....C=10, gamma=0.0001, kernel=rbf;, score=0.334 total time=  10.7s\n",
      "[CV 3/5] END ....C=10, gamma=0.0001, kernel=rbf;, score=0.335 total time=  10.3s\n",
      "[CV 4/5] END ....C=10, gamma=0.0001, kernel=rbf;, score=0.335 total time=  10.3s\n",
      "[CV 5/5] END ....C=10, gamma=0.0001, kernel=rbf;, score=0.335 total time=  10.5s\n",
      "[CV 1/5] END ........C=100, gamma=1, kernel=rbf;, score=0.573 total time=  10.8s\n",
      "[CV 2/5] END ........C=100, gamma=1, kernel=rbf;, score=0.553 total time=  10.7s\n",
      "[CV 3/5] END ........C=100, gamma=1, kernel=rbf;, score=0.591 total time=  10.5s\n",
      "[CV 4/5] END ........C=100, gamma=1, kernel=rbf;, score=0.581 total time=  10.4s\n",
      "[CV 5/5] END ........C=100, gamma=1, kernel=rbf;, score=0.594 total time=  10.7s\n",
      "[CV 1/5] END ......C=100, gamma=0.1, kernel=rbf;, score=0.541 total time=  11.6s\n",
      "[CV 2/5] END ......C=100, gamma=0.1, kernel=rbf;, score=0.529 total time=  12.0s\n",
      "[CV 3/5] END ......C=100, gamma=0.1, kernel=rbf;, score=0.538 total time=  11.6s\n",
      "[CV 4/5] END ......C=100, gamma=0.1, kernel=rbf;, score=0.533 total time=  11.6s\n",
      "[CV 5/5] END ......C=100, gamma=0.1, kernel=rbf;, score=0.569 total time=  11.2s\n",
      "[CV 1/5] END .....C=100, gamma=0.01, kernel=rbf;, score=0.567 total time=   8.3s\n",
      "[CV 2/5] END .....C=100, gamma=0.01, kernel=rbf;, score=0.555 total time=   8.4s\n",
      "[CV 3/5] END .....C=100, gamma=0.01, kernel=rbf;, score=0.576 total time=   8.5s\n",
      "[CV 4/5] END .....C=100, gamma=0.01, kernel=rbf;, score=0.572 total time=   8.4s\n",
      "[CV 5/5] END .....C=100, gamma=0.01, kernel=rbf;, score=0.606 total time=   8.6s\n",
      "[CV 1/5] END ....C=100, gamma=0.001, kernel=rbf;, score=0.579 total time=   8.7s\n",
      "[CV 2/5] END ....C=100, gamma=0.001, kernel=rbf;, score=0.561 total time=   8.7s\n",
      "[CV 3/5] END ....C=100, gamma=0.001, kernel=rbf;, score=0.588 total time=   8.9s\n",
      "[CV 4/5] END ....C=100, gamma=0.001, kernel=rbf;, score=0.579 total time=   9.0s\n",
      "[CV 5/5] END ....C=100, gamma=0.001, kernel=rbf;, score=0.588 total time=   9.1s\n",
      "[CV 1/5] END ...C=100, gamma=0.0001, kernel=rbf;, score=0.430 total time=  10.4s\n",
      "[CV 2/5] END ...C=100, gamma=0.0001, kernel=rbf;, score=0.419 total time=  10.1s\n",
      "[CV 3/5] END ...C=100, gamma=0.0001, kernel=rbf;, score=0.431 total time=  10.2s\n",
      "[CV 4/5] END ...C=100, gamma=0.0001, kernel=rbf;, score=0.439 total time=  10.3s\n",
      "[CV 5/5] END ...C=100, gamma=0.0001, kernel=rbf;, score=0.441 total time=  10.5s\n",
      "[CV 1/5] END .......C=1000, gamma=1, kernel=rbf;, score=0.573 total time=  10.6s\n",
      "[CV 2/5] END .......C=1000, gamma=1, kernel=rbf;, score=0.553 total time=  10.6s\n",
      "[CV 3/5] END .......C=1000, gamma=1, kernel=rbf;, score=0.591 total time=  10.4s\n",
      "[CV 4/5] END .......C=1000, gamma=1, kernel=rbf;, score=0.581 total time=  10.4s\n",
      "[CV 5/5] END .......C=1000, gamma=1, kernel=rbf;, score=0.594 total time=  10.4s\n",
      "[CV 1/5] END .....C=1000, gamma=0.1, kernel=rbf;, score=0.539 total time=  11.6s\n",
      "[CV 2/5] END .....C=1000, gamma=0.1, kernel=rbf;, score=0.523 total time=  11.7s\n",
      "[CV 3/5] END .....C=1000, gamma=0.1, kernel=rbf;, score=0.538 total time=  11.3s\n",
      "[CV 4/5] END .....C=1000, gamma=0.1, kernel=rbf;, score=0.535 total time=  11.9s\n",
      "[CV 5/5] END .....C=1000, gamma=0.1, kernel=rbf;, score=0.565 total time=  11.3s\n",
      "[CV 1/5] END ....C=1000, gamma=0.01, kernel=rbf;, score=0.532 total time=  12.7s\n",
      "[CV 2/5] END ....C=1000, gamma=0.01, kernel=rbf;, score=0.517 total time=  11.5s\n",
      "[CV 3/5] END ....C=1000, gamma=0.01, kernel=rbf;, score=0.530 total time=  11.3s\n",
      "[CV 4/5] END ....C=1000, gamma=0.01, kernel=rbf;, score=0.528 total time=  11.1s\n",
      "[CV 5/5] END ....C=1000, gamma=0.01, kernel=rbf;, score=0.551 total time=  12.1s\n",
      "[CV 1/5] END ...C=1000, gamma=0.001, kernel=rbf;, score=0.567 total time=   8.5s\n",
      "[CV 2/5] END ...C=1000, gamma=0.001, kernel=rbf;, score=0.555 total time=   9.1s\n",
      "[CV 3/5] END ...C=1000, gamma=0.001, kernel=rbf;, score=0.577 total time=  10.6s\n",
      "[CV 4/5] END ...C=1000, gamma=0.001, kernel=rbf;, score=0.571 total time=   9.7s\n",
      "[CV 5/5] END ...C=1000, gamma=0.001, kernel=rbf;, score=0.607 total time=   9.7s\n",
      "[CV 1/5] END ..C=1000, gamma=0.0001, kernel=rbf;, score=0.579 total time=  10.8s\n",
      "[CV 2/5] END ..C=1000, gamma=0.0001, kernel=rbf;, score=0.561 total time=  11.1s\n",
      "[CV 3/5] END ..C=1000, gamma=0.0001, kernel=rbf;, score=0.588 total time=  15.6s\n",
      "[CV 4/5] END ..C=1000, gamma=0.0001, kernel=rbf;, score=0.580 total time=  13.6s\n",
      "[CV 5/5] END ..C=1000, gamma=0.0001, kernel=rbf;, score=0.589 total time=  13.4s\n"
     ]
    },
    {
     "data": {
      "text/html": [
       "<style>#sk-container-id-1 {\n",
       "  /* Definition of color scheme common for light and dark mode */\n",
       "  --sklearn-color-text: black;\n",
       "  --sklearn-color-line: gray;\n",
       "  /* Definition of color scheme for unfitted estimators */\n",
       "  --sklearn-color-unfitted-level-0: #fff5e6;\n",
       "  --sklearn-color-unfitted-level-1: #f6e4d2;\n",
       "  --sklearn-color-unfitted-level-2: #ffe0b3;\n",
       "  --sklearn-color-unfitted-level-3: chocolate;\n",
       "  /* Definition of color scheme for fitted estimators */\n",
       "  --sklearn-color-fitted-level-0: #f0f8ff;\n",
       "  --sklearn-color-fitted-level-1: #d4ebff;\n",
       "  --sklearn-color-fitted-level-2: #b3dbfd;\n",
       "  --sklearn-color-fitted-level-3: cornflowerblue;\n",
       "\n",
       "  /* Specific color for light theme */\n",
       "  --sklearn-color-text-on-default-background: var(--sg-text-color, var(--theme-code-foreground, var(--jp-content-font-color1, black)));\n",
       "  --sklearn-color-background: var(--sg-background-color, var(--theme-background, var(--jp-layout-color0, white)));\n",
       "  --sklearn-color-border-box: var(--sg-text-color, var(--theme-code-foreground, var(--jp-content-font-color1, black)));\n",
       "  --sklearn-color-icon: #696969;\n",
       "\n",
       "  @media (prefers-color-scheme: dark) {\n",
       "    /* Redefinition of color scheme for dark theme */\n",
       "    --sklearn-color-text-on-default-background: var(--sg-text-color, var(--theme-code-foreground, var(--jp-content-font-color1, white)));\n",
       "    --sklearn-color-background: var(--sg-background-color, var(--theme-background, var(--jp-layout-color0, #111)));\n",
       "    --sklearn-color-border-box: var(--sg-text-color, var(--theme-code-foreground, var(--jp-content-font-color1, white)));\n",
       "    --sklearn-color-icon: #878787;\n",
       "  }\n",
       "}\n",
       "\n",
       "#sk-container-id-1 {\n",
       "  color: var(--sklearn-color-text);\n",
       "}\n",
       "\n",
       "#sk-container-id-1 pre {\n",
       "  padding: 0;\n",
       "}\n",
       "\n",
       "#sk-container-id-1 input.sk-hidden--visually {\n",
       "  border: 0;\n",
       "  clip: rect(1px 1px 1px 1px);\n",
       "  clip: rect(1px, 1px, 1px, 1px);\n",
       "  height: 1px;\n",
       "  margin: -1px;\n",
       "  overflow: hidden;\n",
       "  padding: 0;\n",
       "  position: absolute;\n",
       "  width: 1px;\n",
       "}\n",
       "\n",
       "#sk-container-id-1 div.sk-dashed-wrapped {\n",
       "  border: 1px dashed var(--sklearn-color-line);\n",
       "  margin: 0 0.4em 0.5em 0.4em;\n",
       "  box-sizing: border-box;\n",
       "  padding-bottom: 0.4em;\n",
       "  background-color: var(--sklearn-color-background);\n",
       "}\n",
       "\n",
       "#sk-container-id-1 div.sk-container {\n",
       "  /* jupyter's `normalize.less` sets `[hidden] { display: none; }`\n",
       "     but bootstrap.min.css set `[hidden] { display: none !important; }`\n",
       "     so we also need the `!important` here to be able to override the\n",
       "     default hidden behavior on the sphinx rendered scikit-learn.org.\n",
       "     See: https://github.com/scikit-learn/scikit-learn/issues/21755 */\n",
       "  display: inline-block !important;\n",
       "  position: relative;\n",
       "}\n",
       "\n",
       "#sk-container-id-1 div.sk-text-repr-fallback {\n",
       "  display: none;\n",
       "}\n",
       "\n",
       "div.sk-parallel-item,\n",
       "div.sk-serial,\n",
       "div.sk-item {\n",
       "  /* draw centered vertical line to link estimators */\n",
       "  background-image: linear-gradient(var(--sklearn-color-text-on-default-background), var(--sklearn-color-text-on-default-background));\n",
       "  background-size: 2px 100%;\n",
       "  background-repeat: no-repeat;\n",
       "  background-position: center center;\n",
       "}\n",
       "\n",
       "/* Parallel-specific style estimator block */\n",
       "\n",
       "#sk-container-id-1 div.sk-parallel-item::after {\n",
       "  content: \"\";\n",
       "  width: 100%;\n",
       "  border-bottom: 2px solid var(--sklearn-color-text-on-default-background);\n",
       "  flex-grow: 1;\n",
       "}\n",
       "\n",
       "#sk-container-id-1 div.sk-parallel {\n",
       "  display: flex;\n",
       "  align-items: stretch;\n",
       "  justify-content: center;\n",
       "  background-color: var(--sklearn-color-background);\n",
       "  position: relative;\n",
       "}\n",
       "\n",
       "#sk-container-id-1 div.sk-parallel-item {\n",
       "  display: flex;\n",
       "  flex-direction: column;\n",
       "}\n",
       "\n",
       "#sk-container-id-1 div.sk-parallel-item:first-child::after {\n",
       "  align-self: flex-end;\n",
       "  width: 50%;\n",
       "}\n",
       "\n",
       "#sk-container-id-1 div.sk-parallel-item:last-child::after {\n",
       "  align-self: flex-start;\n",
       "  width: 50%;\n",
       "}\n",
       "\n",
       "#sk-container-id-1 div.sk-parallel-item:only-child::after {\n",
       "  width: 0;\n",
       "}\n",
       "\n",
       "/* Serial-specific style estimator block */\n",
       "\n",
       "#sk-container-id-1 div.sk-serial {\n",
       "  display: flex;\n",
       "  flex-direction: column;\n",
       "  align-items: center;\n",
       "  background-color: var(--sklearn-color-background);\n",
       "  padding-right: 1em;\n",
       "  padding-left: 1em;\n",
       "}\n",
       "\n",
       "\n",
       "/* Toggleable style: style used for estimator/Pipeline/ColumnTransformer box that is\n",
       "clickable and can be expanded/collapsed.\n",
       "- Pipeline and ColumnTransformer use this feature and define the default style\n",
       "- Estimators will overwrite some part of the style using the `sk-estimator` class\n",
       "*/\n",
       "\n",
       "/* Pipeline and ColumnTransformer style (default) */\n",
       "\n",
       "#sk-container-id-1 div.sk-toggleable {\n",
       "  /* Default theme specific background. It is overwritten whether we have a\n",
       "  specific estimator or a Pipeline/ColumnTransformer */\n",
       "  background-color: var(--sklearn-color-background);\n",
       "}\n",
       "\n",
       "/* Toggleable label */\n",
       "#sk-container-id-1 label.sk-toggleable__label {\n",
       "  cursor: pointer;\n",
       "  display: block;\n",
       "  width: 100%;\n",
       "  margin-bottom: 0;\n",
       "  padding: 0.5em;\n",
       "  box-sizing: border-box;\n",
       "  text-align: center;\n",
       "}\n",
       "\n",
       "#sk-container-id-1 label.sk-toggleable__label-arrow:before {\n",
       "  /* Arrow on the left of the label */\n",
       "  content: \"▸\";\n",
       "  float: left;\n",
       "  margin-right: 0.25em;\n",
       "  color: var(--sklearn-color-icon);\n",
       "}\n",
       "\n",
       "#sk-container-id-1 label.sk-toggleable__label-arrow:hover:before {\n",
       "  color: var(--sklearn-color-text);\n",
       "}\n",
       "\n",
       "/* Toggleable content - dropdown */\n",
       "\n",
       "#sk-container-id-1 div.sk-toggleable__content {\n",
       "  max-height: 0;\n",
       "  max-width: 0;\n",
       "  overflow: hidden;\n",
       "  text-align: left;\n",
       "  /* unfitted */\n",
       "  background-color: var(--sklearn-color-unfitted-level-0);\n",
       "}\n",
       "\n",
       "#sk-container-id-1 div.sk-toggleable__content.fitted {\n",
       "  /* fitted */\n",
       "  background-color: var(--sklearn-color-fitted-level-0);\n",
       "}\n",
       "\n",
       "#sk-container-id-1 div.sk-toggleable__content pre {\n",
       "  margin: 0.2em;\n",
       "  border-radius: 0.25em;\n",
       "  color: var(--sklearn-color-text);\n",
       "  /* unfitted */\n",
       "  background-color: var(--sklearn-color-unfitted-level-0);\n",
       "}\n",
       "\n",
       "#sk-container-id-1 div.sk-toggleable__content.fitted pre {\n",
       "  /* unfitted */\n",
       "  background-color: var(--sklearn-color-fitted-level-0);\n",
       "}\n",
       "\n",
       "#sk-container-id-1 input.sk-toggleable__control:checked~div.sk-toggleable__content {\n",
       "  /* Expand drop-down */\n",
       "  max-height: 200px;\n",
       "  max-width: 100%;\n",
       "  overflow: auto;\n",
       "}\n",
       "\n",
       "#sk-container-id-1 input.sk-toggleable__control:checked~label.sk-toggleable__label-arrow:before {\n",
       "  content: \"▾\";\n",
       "}\n",
       "\n",
       "/* Pipeline/ColumnTransformer-specific style */\n",
       "\n",
       "#sk-container-id-1 div.sk-label input.sk-toggleable__control:checked~label.sk-toggleable__label {\n",
       "  color: var(--sklearn-color-text);\n",
       "  background-color: var(--sklearn-color-unfitted-level-2);\n",
       "}\n",
       "\n",
       "#sk-container-id-1 div.sk-label.fitted input.sk-toggleable__control:checked~label.sk-toggleable__label {\n",
       "  background-color: var(--sklearn-color-fitted-level-2);\n",
       "}\n",
       "\n",
       "/* Estimator-specific style */\n",
       "\n",
       "/* Colorize estimator box */\n",
       "#sk-container-id-1 div.sk-estimator input.sk-toggleable__control:checked~label.sk-toggleable__label {\n",
       "  /* unfitted */\n",
       "  background-color: var(--sklearn-color-unfitted-level-2);\n",
       "}\n",
       "\n",
       "#sk-container-id-1 div.sk-estimator.fitted input.sk-toggleable__control:checked~label.sk-toggleable__label {\n",
       "  /* fitted */\n",
       "  background-color: var(--sklearn-color-fitted-level-2);\n",
       "}\n",
       "\n",
       "#sk-container-id-1 div.sk-label label.sk-toggleable__label,\n",
       "#sk-container-id-1 div.sk-label label {\n",
       "  /* The background is the default theme color */\n",
       "  color: var(--sklearn-color-text-on-default-background);\n",
       "}\n",
       "\n",
       "/* On hover, darken the color of the background */\n",
       "#sk-container-id-1 div.sk-label:hover label.sk-toggleable__label {\n",
       "  color: var(--sklearn-color-text);\n",
       "  background-color: var(--sklearn-color-unfitted-level-2);\n",
       "}\n",
       "\n",
       "/* Label box, darken color on hover, fitted */\n",
       "#sk-container-id-1 div.sk-label.fitted:hover label.sk-toggleable__label.fitted {\n",
       "  color: var(--sklearn-color-text);\n",
       "  background-color: var(--sklearn-color-fitted-level-2);\n",
       "}\n",
       "\n",
       "/* Estimator label */\n",
       "\n",
       "#sk-container-id-1 div.sk-label label {\n",
       "  font-family: monospace;\n",
       "  font-weight: bold;\n",
       "  display: inline-block;\n",
       "  line-height: 1.2em;\n",
       "}\n",
       "\n",
       "#sk-container-id-1 div.sk-label-container {\n",
       "  text-align: center;\n",
       "}\n",
       "\n",
       "/* Estimator-specific */\n",
       "#sk-container-id-1 div.sk-estimator {\n",
       "  font-family: monospace;\n",
       "  border: 1px dotted var(--sklearn-color-border-box);\n",
       "  border-radius: 0.25em;\n",
       "  box-sizing: border-box;\n",
       "  margin-bottom: 0.5em;\n",
       "  /* unfitted */\n",
       "  background-color: var(--sklearn-color-unfitted-level-0);\n",
       "}\n",
       "\n",
       "#sk-container-id-1 div.sk-estimator.fitted {\n",
       "  /* fitted */\n",
       "  background-color: var(--sklearn-color-fitted-level-0);\n",
       "}\n",
       "\n",
       "/* on hover */\n",
       "#sk-container-id-1 div.sk-estimator:hover {\n",
       "  /* unfitted */\n",
       "  background-color: var(--sklearn-color-unfitted-level-2);\n",
       "}\n",
       "\n",
       "#sk-container-id-1 div.sk-estimator.fitted:hover {\n",
       "  /* fitted */\n",
       "  background-color: var(--sklearn-color-fitted-level-2);\n",
       "}\n",
       "\n",
       "/* Specification for estimator info (e.g. \"i\" and \"?\") */\n",
       "\n",
       "/* Common style for \"i\" and \"?\" */\n",
       "\n",
       ".sk-estimator-doc-link,\n",
       "a:link.sk-estimator-doc-link,\n",
       "a:visited.sk-estimator-doc-link {\n",
       "  float: right;\n",
       "  font-size: smaller;\n",
       "  line-height: 1em;\n",
       "  font-family: monospace;\n",
       "  background-color: var(--sklearn-color-background);\n",
       "  border-radius: 1em;\n",
       "  height: 1em;\n",
       "  width: 1em;\n",
       "  text-decoration: none !important;\n",
       "  margin-left: 1ex;\n",
       "  /* unfitted */\n",
       "  border: var(--sklearn-color-unfitted-level-1) 1pt solid;\n",
       "  color: var(--sklearn-color-unfitted-level-1);\n",
       "}\n",
       "\n",
       ".sk-estimator-doc-link.fitted,\n",
       "a:link.sk-estimator-doc-link.fitted,\n",
       "a:visited.sk-estimator-doc-link.fitted {\n",
       "  /* fitted */\n",
       "  border: var(--sklearn-color-fitted-level-1) 1pt solid;\n",
       "  color: var(--sklearn-color-fitted-level-1);\n",
       "}\n",
       "\n",
       "/* On hover */\n",
       "div.sk-estimator:hover .sk-estimator-doc-link:hover,\n",
       ".sk-estimator-doc-link:hover,\n",
       "div.sk-label-container:hover .sk-estimator-doc-link:hover,\n",
       ".sk-estimator-doc-link:hover {\n",
       "  /* unfitted */\n",
       "  background-color: var(--sklearn-color-unfitted-level-3);\n",
       "  color: var(--sklearn-color-background);\n",
       "  text-decoration: none;\n",
       "}\n",
       "\n",
       "div.sk-estimator.fitted:hover .sk-estimator-doc-link.fitted:hover,\n",
       ".sk-estimator-doc-link.fitted:hover,\n",
       "div.sk-label-container:hover .sk-estimator-doc-link.fitted:hover,\n",
       ".sk-estimator-doc-link.fitted:hover {\n",
       "  /* fitted */\n",
       "  background-color: var(--sklearn-color-fitted-level-3);\n",
       "  color: var(--sklearn-color-background);\n",
       "  text-decoration: none;\n",
       "}\n",
       "\n",
       "/* Span, style for the box shown on hovering the info icon */\n",
       ".sk-estimator-doc-link span {\n",
       "  display: none;\n",
       "  z-index: 9999;\n",
       "  position: relative;\n",
       "  font-weight: normal;\n",
       "  right: .2ex;\n",
       "  padding: .5ex;\n",
       "  margin: .5ex;\n",
       "  width: min-content;\n",
       "  min-width: 20ex;\n",
       "  max-width: 50ex;\n",
       "  color: var(--sklearn-color-text);\n",
       "  box-shadow: 2pt 2pt 4pt #999;\n",
       "  /* unfitted */\n",
       "  background: var(--sklearn-color-unfitted-level-0);\n",
       "  border: .5pt solid var(--sklearn-color-unfitted-level-3);\n",
       "}\n",
       "\n",
       ".sk-estimator-doc-link.fitted span {\n",
       "  /* fitted */\n",
       "  background: var(--sklearn-color-fitted-level-0);\n",
       "  border: var(--sklearn-color-fitted-level-3);\n",
       "}\n",
       "\n",
       ".sk-estimator-doc-link:hover span {\n",
       "  display: block;\n",
       "}\n",
       "\n",
       "/* \"?\"-specific style due to the `<a>` HTML tag */\n",
       "\n",
       "#sk-container-id-1 a.estimator_doc_link {\n",
       "  float: right;\n",
       "  font-size: 1rem;\n",
       "  line-height: 1em;\n",
       "  font-family: monospace;\n",
       "  background-color: var(--sklearn-color-background);\n",
       "  border-radius: 1rem;\n",
       "  height: 1rem;\n",
       "  width: 1rem;\n",
       "  text-decoration: none;\n",
       "  /* unfitted */\n",
       "  color: var(--sklearn-color-unfitted-level-1);\n",
       "  border: var(--sklearn-color-unfitted-level-1) 1pt solid;\n",
       "}\n",
       "\n",
       "#sk-container-id-1 a.estimator_doc_link.fitted {\n",
       "  /* fitted */\n",
       "  border: var(--sklearn-color-fitted-level-1) 1pt solid;\n",
       "  color: var(--sklearn-color-fitted-level-1);\n",
       "}\n",
       "\n",
       "/* On hover */\n",
       "#sk-container-id-1 a.estimator_doc_link:hover {\n",
       "  /* unfitted */\n",
       "  background-color: var(--sklearn-color-unfitted-level-3);\n",
       "  color: var(--sklearn-color-background);\n",
       "  text-decoration: none;\n",
       "}\n",
       "\n",
       "#sk-container-id-1 a.estimator_doc_link.fitted:hover {\n",
       "  /* fitted */\n",
       "  background-color: var(--sklearn-color-fitted-level-3);\n",
       "}\n",
       "</style><div id=\"sk-container-id-1\" class=\"sk-top-container\"><div class=\"sk-text-repr-fallback\"><pre>GridSearchCV(estimator=SVC(random_state=0),\n",
       "             param_grid={&#x27;C&#x27;: [0.1, 1, 10, 100, 1000],\n",
       "                         &#x27;gamma&#x27;: [1, 0.1, 0.01, 0.001, 0.0001],\n",
       "                         &#x27;kernel&#x27;: [&#x27;rbf&#x27;]},\n",
       "             verbose=3)</pre><b>In a Jupyter environment, please rerun this cell to show the HTML representation or trust the notebook. <br />On GitHub, the HTML representation is unable to render, please try loading this page with nbviewer.org.</b></div><div class=\"sk-container\" hidden><div class=\"sk-item sk-dashed-wrapped\"><div class=\"sk-label-container\"><div class=\"sk-label fitted sk-toggleable\"><input class=\"sk-toggleable__control sk-hidden--visually\" id=\"sk-estimator-id-1\" type=\"checkbox\" ><label for=\"sk-estimator-id-1\" class=\"sk-toggleable__label fitted sk-toggleable__label-arrow fitted\">&nbsp;&nbsp;GridSearchCV<a class=\"sk-estimator-doc-link fitted\" rel=\"noreferrer\" target=\"_blank\" href=\"https://scikit-learn.org/1.4/modules/generated/sklearn.model_selection.GridSearchCV.html\">?<span>Documentation for GridSearchCV</span></a><span class=\"sk-estimator-doc-link fitted\">i<span>Fitted</span></span></label><div class=\"sk-toggleable__content fitted\"><pre>GridSearchCV(estimator=SVC(random_state=0),\n",
       "             param_grid={&#x27;C&#x27;: [0.1, 1, 10, 100, 1000],\n",
       "                         &#x27;gamma&#x27;: [1, 0.1, 0.01, 0.001, 0.0001],\n",
       "                         &#x27;kernel&#x27;: [&#x27;rbf&#x27;]},\n",
       "             verbose=3)</pre></div> </div></div><div class=\"sk-parallel\"><div class=\"sk-parallel-item\"><div class=\"sk-item\"><div class=\"sk-label-container\"><div class=\"sk-label fitted sk-toggleable\"><input class=\"sk-toggleable__control sk-hidden--visually\" id=\"sk-estimator-id-2\" type=\"checkbox\" ><label for=\"sk-estimator-id-2\" class=\"sk-toggleable__label fitted sk-toggleable__label-arrow fitted\">estimator: SVC</label><div class=\"sk-toggleable__content fitted\"><pre>SVC(random_state=0)</pre></div> </div></div><div class=\"sk-serial\"><div class=\"sk-item\"><div class=\"sk-estimator fitted sk-toggleable\"><input class=\"sk-toggleable__control sk-hidden--visually\" id=\"sk-estimator-id-3\" type=\"checkbox\" ><label for=\"sk-estimator-id-3\" class=\"sk-toggleable__label fitted sk-toggleable__label-arrow fitted\">&nbsp;SVC<a class=\"sk-estimator-doc-link fitted\" rel=\"noreferrer\" target=\"_blank\" href=\"https://scikit-learn.org/1.4/modules/generated/sklearn.svm.SVC.html\">?<span>Documentation for SVC</span></a></label><div class=\"sk-toggleable__content fitted\"><pre>SVC(random_state=0)</pre></div> </div></div></div></div></div></div></div></div></div>"
      ],
      "text/plain": [
       "GridSearchCV(estimator=SVC(random_state=0),\n",
       "             param_grid={'C': [0.1, 1, 10, 100, 1000],\n",
       "                         'gamma': [1, 0.1, 0.01, 0.001, 0.0001],\n",
       "                         'kernel': ['rbf']},\n",
       "             verbose=3)"
      ]
     },
     "execution_count": 28,
     "metadata": {},
     "output_type": "execute_result"
    }
   ],
   "source": [
    "from sklearn.model_selection import GridSearchCV\n",
    "\n",
    "# defining parameter range\n",
    "param_grid = {'C': [0.1, 1, 10, 100, 1000],\n",
    "              'gamma': [1, 0.1, 0.01, 0.001, 0.0001],\n",
    "              'kernel': ['rbf']}\n",
    "\n",
    "grid = GridSearchCV(clf_svm, param_grid, refit = True, verbose = 3)\n",
    "\n",
    "# fitting the model for grid search\n",
    "grid.fit(tf_x_train, Y_train)"
   ]
  },
  {
   "cell_type": "code",
   "execution_count": 29,
   "metadata": {},
   "outputs": [
    {
     "name": "stdout",
     "output_type": "stream",
     "text": [
      "{'C': 1, 'gamma': 1, 'kernel': 'rbf'}\n",
      "SVC(C=1, gamma=1, random_state=0)\n"
     ]
    }
   ],
   "source": [
    "# print best parameter after tuning\n",
    "print(grid.best_params_)\n",
    "\n",
    "# print how our model looks after hyper-parameter tuning\n",
    "best_estimator = grid.best_estimator_\n",
    "print(best_estimator)"
   ]
  },
  {
   "cell_type": "code",
   "execution_count": 30,
   "metadata": {},
   "outputs": [
    {
     "data": {
      "text/plain": [
       "['svm_best_model.joblib']"
      ]
     },
     "execution_count": 30,
     "metadata": {},
     "output_type": "execute_result"
    }
   ],
   "source": [
    "from joblib import dump, load\n",
    "\n",
    "# Saving the best estimator found by GridSearchCV\n",
    "dump(best_estimator, 'svm_best_model.joblib')"
   ]
  },
  {
   "cell_type": "code",
   "execution_count": 33,
   "metadata": {},
   "outputs": [],
   "source": [
    "from sklearn.metrics import classification_report, balanced_accuracy_score\n",
    "\n",
    "grid_predictions = grid.predict(tf_x_test)\n",
    "\n",
    "# Calculate balanced accuracy\n",
    "balanced_acc = balanced_accuracy_score(Y_test, grid_predictions)\n",
    "\n",
    "# Generate classification report\n",
    "report = classification_report(Y_test, grid_predictions, output_dict=True)\n",
    "\n",
    "# Add balanced accuracy to the report\n",
    "report['weighted avg']['balanced_accuracy'] = balanced_acc"
   ]
  },
  {
   "cell_type": "code",
   "execution_count": 34,
   "metadata": {
    "colab": {
     "base_uri": "https://localhost:8080/"
    },
    "id": "Vswju4kl-joZ",
    "outputId": "208c0feb-eb9c-4ef4-930c-fb166063a79c"
   },
   "outputs": [
    {
     "data": {
      "text/plain": [
       "{'0': {'precision': 0.6030341340075853,\n",
       "  'recall': 0.6194805194805195,\n",
       "  'f1-score': 0.6111467008327995,\n",
       "  'support': 770.0},\n",
       " '1': {'precision': 0.4901277584204414,\n",
       "  'recall': 0.5523560209424084,\n",
       "  'f1-score': 0.5193846153846153,\n",
       "  'support': 764.0},\n",
       " '2': {'precision': 0.7866666666666666,\n",
       "  'recall': 0.669609079445145,\n",
       "  'f1-score': 0.723433242506812,\n",
       "  'support': 793.0},\n",
       " 'accuracy': 0.6145251396648045,\n",
       " 'macro avg': {'precision': 0.6266095196982311,\n",
       "  'recall': 0.6138152066226911,\n",
       "  'f1-score': 0.6179881862414089,\n",
       "  'support': 2327.0},\n",
       " 'weighted avg': {'precision': 0.6285434281416952,\n",
       "  'recall': 0.6145251396648045,\n",
       "  'f1-score': 0.6192846442213167,\n",
       "  'support': 2327.0,\n",
       "  'balanced_accuracy': 0.6138152066226911}}"
      ]
     },
     "execution_count": 34,
     "metadata": {},
     "output_type": "execute_result"
    }
   ],
   "source": [
    "# Print the modified classification report\n",
    "report"
   ]
  },
  {
   "cell_type": "code",
   "execution_count": 35,
   "metadata": {
    "id": "N2y7blgIYtbC"
   },
   "outputs": [],
   "source": [
    "from sklearn.metrics import confusion_matrix, ConfusionMatrixDisplay\n",
    "\n",
    "unique_labels = dataset['sentiment'].unique()\n",
    "conf_matrix = confusion_matrix(Y_test, grid_predictions, labels=unique_labels)"
   ]
  },
  {
   "cell_type": "code",
   "execution_count": 36,
   "metadata": {
    "colab": {
     "base_uri": "https://localhost:8080/"
    },
    "id": "25VppFqFZa3F",
    "outputId": "c25ea311-16a4-4cf5-f1e8-9b38956d8e73"
   },
   "outputs": [
    {
     "name": "stdout",
     "output_type": "stream",
     "text": [
      "Confusion Matrix:\n",
      "[[531 184  78]\n",
      " [106 422 236]\n",
      " [ 38 255 477]]\n"
     ]
    }
   ],
   "source": [
    "print(\"Confusion Matrix:\")\n",
    "print(conf_matrix)"
   ]
  },
  {
   "cell_type": "code",
   "execution_count": 37,
   "metadata": {
    "id": "k4rqvQnTZcmX"
   },
   "outputs": [],
   "source": [
    "disp = ConfusionMatrixDisplay(confusion_matrix=conf_matrix, display_labels=unique_labels)"
   ]
  },
  {
   "cell_type": "code",
   "execution_count": 38,
   "metadata": {
    "colab": {
     "base_uri": "https://localhost:8080/",
     "height": 542
    },
    "id": "hVvQtKElZpmo",
    "outputId": "fa76170e-7f3b-41b7-a7dd-67db17550ba3"
   },
   "outputs": [
    {
     "data": {
      "image/png": "[encoded data removed]",
      "text/plain": [
       "<Figure size 800x600 with 2 Axes>"
      ]
     },
     "metadata": {},
     "output_type": "display_data"
    }
   ],
   "source": [
    "import matplotlib.pyplot as plt\n",
    "# Plot the confusion matrix\n",
    "fig, ax = plt.subplots(figsize=(8, 6))\n",
    "disp.plot(ax=ax, cmap=plt.cm.Blues)\n",
    "\n",
    "# Save the plot as an image file (e.g., PNG)\n",
    "plt.savefig('confusion_matrix_TFIDF_SVM.png')\n",
    "plt.savefig('confusion_matrix_TFIDF_SVM.svg')\n",
    "\n",
    "# Optionally, display the plot\n",
    "plt.show()"
   ]
  },
  {
   "cell_type": "markdown",
   "metadata": {
    "id": "gsksd002O-We"
   },
   "source": [
    "#**Precision, Recall, F1-score, Support**:\n",
    "\n",
    "**Precision**:\n",
    "Precision measures the accuracy of the positive predictions. Recall measures the ability of the classifier to find all the positive samples. F1-score is the harmonic mean of precision and recall, providing a balanced measure between them. Support indicates the number of actual occurrences of each class in the test dataset.\n",
    "For both classifiers, there are precision, recall, and F1-score calculated for each sentiment class (positive, negative, neutral).\n",
    "\n",
    "**Accuracy**: Accuracy measures the overall correctness of the predictions made by the classifier across all classes.\n",
    "\n",
    "**Comparative Analysis**: Looking at the individual metrics for each sentiment class, you can compare how well each classifier performed in distinguishing between positive, negative, and neutral sentiments.\n",
    "\n",
    "**Interpretation**: These results suggest that the Logistic Regression classifier performs slightly better overall compared to the SVM classifier in terms of accuracy. However, the performance can vary depending on the specific dataset and the characteristics of the text data being analyzed.\n",
    "It's essential to consider not only accuracy but also precision, recall, and F1-score for each class to understand the classifier's performance comprehensively, especially in cases where class distribution is imbalanced.\n"
   ]
  },
  {
   "cell_type": "markdown",
   "metadata": {
    "id": "e2H3arbp_IBf"
   },
   "source": [
    "Logistic Regression"
   ]
  },
  {
   "cell_type": "code",
   "execution_count": 39,
   "metadata": {
    "id": "jYT-hHf6-kSt"
   },
   "outputs": [],
   "source": [
    "from sklearn.linear_model import LogisticRegression\n",
    "\n",
    "clf = LogisticRegression(max_iter=1000)"
   ]
  },
  {
   "cell_type": "code",
   "execution_count": 40,
   "metadata": {},
   "outputs": [],
   "source": [
    "# Define the parameter grid to search\n",
    "param_grid = {\n",
    "    'C': np.logspace(-4, 4, 20),\n",
    "    'penalty': ['l1', 'l2'],\n",
    "    'solver': ['liblinear', 'saga']  # solvers that support penalty='l1'\n",
    "}"
   ]
  },
  {
   "cell_type": "code",
   "execution_count": 41,
   "metadata": {},
   "outputs": [],
   "source": [
    "# Initialize GridSearchCV\n",
    "grid_search = GridSearchCV(clf, param_grid, cv=5, verbose=3, scoring='accuracy')"
   ]
  },
  {
   "cell_type": "code",
   "execution_count": 42,
   "metadata": {
    "scrolled": true
   },
   "outputs": [
    {
     "name": "stdout",
     "output_type": "stream",
     "text": [
      "Fitting 5 folds for each of 80 candidates, totalling 400 fits\n",
      "[CV 1/5] END C=9.999999999999999e-05, penalty=l1, solver=liblinear;, score=0.334 total time=   0.0s\n",
      "[CV 2/5] END C=9.999999999999999e-05, penalty=l1, solver=liblinear;, score=0.334 total time=   0.0s\n",
      "[CV 3/5] END C=9.999999999999999e-05, penalty=l1, solver=liblinear;, score=0.334 total time=   0.0s\n",
      "[CV 4/5] END C=9.999999999999999e-05, penalty=l1, solver=liblinear;, score=0.334 total time=   0.0s\n",
      "[CV 5/5] END C=9.999999999999999e-05, penalty=l1, solver=liblinear;, score=0.334 total time=   0.0s\n",
      "[CV 1/5] END C=9.999999999999999e-05, penalty=l1, solver=saga;, score=0.332 total time=   0.0s\n",
      "[CV 2/5] END C=9.999999999999999e-05, penalty=l1, solver=saga;, score=0.334 total time=   0.0s\n",
      "[CV 3/5] END C=9.999999999999999e-05, penalty=l1, solver=saga;, score=0.332 total time=   0.0s\n",
      "[CV 4/5] END C=9.999999999999999e-05, penalty=l1, solver=saga;, score=0.332 total time=   0.0s\n",
      "[CV 5/5] END C=9.999999999999999e-05, penalty=l1, solver=saga;, score=0.334 total time=   0.0s\n",
      "[CV 1/5] END C=9.999999999999999e-05, penalty=l2, solver=liblinear;, score=0.522 total time=   0.0s\n",
      "[CV 2/5] END C=9.999999999999999e-05, penalty=l2, solver=liblinear;, score=0.512 total time=   0.0s\n",
      "[CV 3/5] END C=9.999999999999999e-05, penalty=l2, solver=liblinear;, score=0.537 total time=   0.0s\n",
      "[CV 4/5] END C=9.999999999999999e-05, penalty=l2, solver=liblinear;, score=0.531 total time=   0.0s\n",
      "[CV 5/5] END C=9.999999999999999e-05, penalty=l2, solver=liblinear;, score=0.545 total time=   0.0s\n",
      "[CV 1/5] END C=9.999999999999999e-05, penalty=l2, solver=saga;, score=0.343 total time=   0.4s\n",
      "[CV 2/5] END C=9.999999999999999e-05, penalty=l2, solver=saga;, score=0.339 total time=   0.5s\n",
      "[CV 3/5] END C=9.999999999999999e-05, penalty=l2, solver=saga;, score=0.341 total time=   0.4s\n",
      "[CV 4/5] END C=9.999999999999999e-05, penalty=l2, solver=saga;, score=0.348 total time=   0.4s\n",
      "[CV 5/5] END C=9.999999999999999e-05, penalty=l2, solver=saga;, score=0.350 total time=   0.5s\n",
      "[CV 1/5] END C=0.0002636650898730358, penalty=l1, solver=liblinear;, score=0.334 total time=   0.0s\n",
      "[CV 2/5] END C=0.0002636650898730358, penalty=l1, solver=liblinear;, score=0.334 total time=   0.0s\n",
      "[CV 3/5] END C=0.0002636650898730358, penalty=l1, solver=liblinear;, score=0.334 total time=   0.0s\n",
      "[CV 4/5] END C=0.0002636650898730358, penalty=l1, solver=liblinear;, score=0.334 total time=   0.0s\n",
      "[CV 5/5] END C=0.0002636650898730358, penalty=l1, solver=liblinear;, score=0.334 total time=   0.0s\n",
      "[CV 1/5] END C=0.0002636650898730358, penalty=l1, solver=saga;, score=0.334 total time=   0.0s\n",
      "[CV 2/5] END C=0.0002636650898730358, penalty=l1, solver=saga;, score=0.334 total time=   0.0s\n",
      "[CV 3/5] END C=0.0002636650898730358, penalty=l1, solver=saga;, score=0.335 total time=   0.0s\n",
      "[CV 4/5] END C=0.0002636650898730358, penalty=l1, solver=saga;, score=0.332 total time=   0.0s\n",
      "[CV 5/5] END C=0.0002636650898730358, penalty=l1, solver=saga;, score=0.334 total time=   0.0s\n",
      "[CV 1/5] END C=0.0002636650898730358, penalty=l2, solver=liblinear;, score=0.543 total time=   0.0s\n",
      "[CV 2/5] END C=0.0002636650898730358, penalty=l2, solver=liblinear;, score=0.525 total time=   0.0s\n",
      "[CV 3/5] END C=0.0002636650898730358, penalty=l2, solver=liblinear;, score=0.546 total time=   0.0s\n",
      "[CV 4/5] END C=0.0002636650898730358, penalty=l2, solver=liblinear;, score=0.542 total time=   0.0s\n",
      "[CV 5/5] END C=0.0002636650898730358, penalty=l2, solver=liblinear;, score=0.561 total time=   0.0s\n",
      "[CV 1/5] END C=0.0002636650898730358, penalty=l2, solver=saga;, score=0.436 total time=   0.4s\n",
      "[CV 2/5] END C=0.0002636650898730358, penalty=l2, solver=saga;, score=0.432 total time=   0.4s\n",
      "[CV 3/5] END C=0.0002636650898730358, penalty=l2, solver=saga;, score=0.469 total time=   0.4s\n",
      "[CV 4/5] END C=0.0002636650898730358, penalty=l2, solver=saga;, score=0.454 total time=   0.4s\n",
      "[CV 5/5] END C=0.0002636650898730358, penalty=l2, solver=saga;, score=0.485 total time=   0.4s\n",
      "[CV 1/5] END C=0.0006951927961775606, penalty=l1, solver=liblinear;, score=0.334 total time=   0.0s\n",
      "[CV 2/5] END C=0.0006951927961775606, penalty=l1, solver=liblinear;, score=0.334 total time=   0.0s\n",
      "[CV 3/5] END C=0.0006951927961775606, penalty=l1, solver=liblinear;, score=0.334 total time=   0.0s\n",
      "[CV 4/5] END C=0.0006951927961775606, penalty=l1, solver=liblinear;, score=0.334 total time=   0.0s\n",
      "[CV 5/5] END C=0.0006951927961775606, penalty=l1, solver=liblinear;, score=0.334 total time=   0.0s\n",
      "[CV 1/5] END C=0.0006951927961775606, penalty=l1, solver=saga;, score=0.334 total time=   0.0s\n",
      "[CV 2/5] END C=0.0006951927961775606, penalty=l1, solver=saga;, score=0.334 total time=   0.0s\n",
      "[CV 3/5] END C=0.0006951927961775606, penalty=l1, solver=saga;, score=0.335 total time=   0.0s\n",
      "[CV 4/5] END C=0.0006951927961775606, penalty=l1, solver=saga;, score=0.334 total time=   0.0s\n",
      "[CV 5/5] END C=0.0006951927961775606, penalty=l1, solver=saga;, score=0.334 total time=   0.0s\n",
      "[CV 1/5] END C=0.0006951927961775606, penalty=l2, solver=liblinear;, score=0.560 total time=   0.0s\n",
      "[CV 2/5] END C=0.0006951927961775606, penalty=l2, solver=liblinear;, score=0.555 total time=   0.0s\n",
      "[CV 3/5] END C=0.0006951927961775606, penalty=l2, solver=liblinear;, score=0.563 total time=   0.0s\n",
      "[CV 4/5] END C=0.0006951927961775606, penalty=l2, solver=liblinear;, score=0.565 total time=   0.0s\n",
      "[CV 5/5] END C=0.0006951927961775606, penalty=l2, solver=liblinear;, score=0.582 total time=   0.0s\n",
      "[CV 1/5] END C=0.0006951927961775606, penalty=l2, solver=saga;, score=0.556 total time=   0.3s\n",
      "[CV 2/5] END C=0.0006951927961775606, penalty=l2, solver=saga;, score=0.538 total time=   0.3s\n",
      "[CV 3/5] END C=0.0006951927961775606, penalty=l2, solver=saga;, score=0.547 total time=   0.3s\n",
      "[CV 4/5] END C=0.0006951927961775606, penalty=l2, solver=saga;, score=0.551 total time=   0.2s\n",
      "[CV 5/5] END C=0.0006951927961775606, penalty=l2, solver=saga;, score=0.566 total time=   0.3s\n",
      "[CV 1/5] END C=0.0018329807108324356, penalty=l1, solver=liblinear;, score=0.334 total time=   0.0s\n",
      "[CV 2/5] END C=0.0018329807108324356, penalty=l1, solver=liblinear;, score=0.334 total time=   0.0s\n",
      "[CV 3/5] END C=0.0018329807108324356, penalty=l1, solver=liblinear;, score=0.335 total time=   0.0s\n",
      "[CV 4/5] END C=0.0018329807108324356, penalty=l1, solver=liblinear;, score=0.335 total time=   0.0s\n",
      "[CV 5/5] END C=0.0018329807108324356, penalty=l1, solver=liblinear;, score=0.335 total time=   0.0s\n",
      "[CV 1/5] END C=0.0018329807108324356, penalty=l1, solver=saga;, score=0.332 total time=   0.0s\n",
      "[CV 2/5] END C=0.0018329807108324356, penalty=l1, solver=saga;, score=0.332 total time=   0.0s\n",
      "[CV 3/5] END C=0.0018329807108324356, penalty=l1, solver=saga;, score=0.332 total time=   0.0s\n",
      "[CV 4/5] END C=0.0018329807108324356, penalty=l1, solver=saga;, score=0.335 total time=   0.0s\n",
      "[CV 5/5] END C=0.0018329807108324356, penalty=l1, solver=saga;, score=0.331 total time=   0.1s\n",
      "[CV 1/5] END C=0.0018329807108324356, penalty=l2, solver=liblinear;, score=0.573 total time=   0.0s\n",
      "[CV 2/5] END C=0.0018329807108324356, penalty=l2, solver=liblinear;, score=0.559 total time=   0.0s\n",
      "[CV 3/5] END C=0.0018329807108324356, penalty=l2, solver=liblinear;, score=0.569 total time=   0.0s\n",
      "[CV 4/5] END C=0.0018329807108324356, penalty=l2, solver=liblinear;, score=0.566 total time=   0.0s\n",
      "[CV 5/5] END C=0.0018329807108324356, penalty=l2, solver=liblinear;, score=0.582 total time=   0.0s\n",
      "[CV 1/5] END C=0.0018329807108324356, penalty=l2, solver=saga;, score=0.573 total time=   0.2s\n",
      "[CV 2/5] END C=0.0018329807108324356, penalty=l2, solver=saga;, score=0.561 total time=   0.2s\n",
      "[CV 3/5] END C=0.0018329807108324356, penalty=l2, solver=saga;, score=0.570 total time=   0.2s\n",
      "[CV 4/5] END C=0.0018329807108324356, penalty=l2, solver=saga;, score=0.566 total time=   0.2s\n",
      "[CV 5/5] END C=0.0018329807108324356, penalty=l2, solver=saga;, score=0.583 total time=   0.2s\n",
      "[CV 1/5] END C=0.004832930238571752, penalty=l1, solver=liblinear;, score=0.334 total time=   0.0s\n",
      "[CV 2/5] END C=0.004832930238571752, penalty=l1, solver=liblinear;, score=0.334 total time=   0.0s\n",
      "[CV 3/5] END C=0.004832930238571752, penalty=l1, solver=liblinear;, score=0.335 total time=   0.0s\n",
      "[CV 4/5] END C=0.004832930238571752, penalty=l1, solver=liblinear;, score=0.335 total time=   0.0s\n",
      "[CV 5/5] END C=0.004832930238571752, penalty=l1, solver=liblinear;, score=0.335 total time=   0.0s\n",
      "[CV 1/5] END C=0.004832930238571752, penalty=l1, solver=saga;, score=0.334 total time=   0.1s\n",
      "[CV 2/5] END C=0.004832930238571752, penalty=l1, solver=saga;, score=0.334 total time=   0.0s\n",
      "[CV 3/5] END C=0.004832930238571752, penalty=l1, solver=saga;, score=0.335 total time=   0.1s\n",
      "[CV 4/5] END C=0.004832930238571752, penalty=l1, solver=saga;, score=0.335 total time=   0.0s\n",
      "[CV 5/5] END C=0.004832930238571752, penalty=l1, solver=saga;, score=0.334 total time=   0.1s\n",
      "[CV 1/5] END C=0.004832930238571752, penalty=l2, solver=liblinear;, score=0.564 total time=   0.0s\n",
      "[CV 2/5] END C=0.004832930238571752, penalty=l2, solver=liblinear;, score=0.571 total time=   0.0s\n",
      "[CV 3/5] END C=0.004832930238571752, penalty=l2, solver=liblinear;, score=0.571 total time=   0.0s\n",
      "[CV 4/5] END C=0.004832930238571752, penalty=l2, solver=liblinear;, score=0.566 total time=   0.0s\n",
      "[CV 5/5] END C=0.004832930238571752, penalty=l2, solver=liblinear;, score=0.570 total time=   0.0s\n",
      "[CV 1/5] END C=0.004832930238571752, penalty=l2, solver=saga;, score=0.563 total time=   0.2s\n",
      "[CV 2/5] END C=0.004832930238571752, penalty=l2, solver=saga;, score=0.566 total time=   0.2s\n",
      "[CV 3/5] END C=0.004832930238571752, penalty=l2, solver=saga;, score=0.572 total time=   0.2s\n",
      "[CV 4/5] END C=0.004832930238571752, penalty=l2, solver=saga;, score=0.566 total time=   0.2s\n",
      "[CV 5/5] END C=0.004832930238571752, penalty=l2, solver=saga;, score=0.570 total time=   0.1s\n",
      "[CV 1/5] END C=0.012742749857031334, penalty=l1, solver=liblinear;, score=0.334 total time=   0.0s\n",
      "[CV 2/5] END C=0.012742749857031334, penalty=l1, solver=liblinear;, score=0.334 total time=   0.0s\n",
      "[CV 3/5] END C=0.012742749857031334, penalty=l1, solver=liblinear;, score=0.335 total time=   0.0s\n",
      "[CV 4/5] END C=0.012742749857031334, penalty=l1, solver=liblinear;, score=0.335 total time=   0.0s\n",
      "[CV 5/5] END C=0.012742749857031334, penalty=l1, solver=liblinear;, score=0.335 total time=   0.0s\n",
      "[CV 1/5] END C=0.012742749857031334, penalty=l1, solver=saga;, score=0.332 total time=   0.1s\n",
      "[CV 2/5] END C=0.012742749857031334, penalty=l1, solver=saga;, score=0.334 total time=   0.1s\n",
      "[CV 3/5] END C=0.012742749857031334, penalty=l1, solver=saga;, score=0.335 total time=   0.1s\n",
      "[CV 4/5] END C=0.012742749857031334, penalty=l1, solver=saga;, score=0.332 total time=   0.1s\n",
      "[CV 5/5] END C=0.012742749857031334, penalty=l1, solver=saga;, score=0.334 total time=   0.1s\n",
      "[CV 1/5] END C=0.012742749857031334, penalty=l2, solver=liblinear;, score=0.563 total time=   0.0s\n",
      "[CV 2/5] END C=0.012742749857031334, penalty=l2, solver=liblinear;, score=0.567 total time=   0.0s\n",
      "[CV 3/5] END C=0.012742749857031334, penalty=l2, solver=liblinear;, score=0.573 total time=   0.0s\n",
      "[CV 4/5] END C=0.012742749857031334, penalty=l2, solver=liblinear;, score=0.569 total time=   0.0s\n",
      "[CV 5/5] END C=0.012742749857031334, penalty=l2, solver=liblinear;, score=0.569 total time=   0.0s\n",
      "[CV 1/5] END C=0.012742749857031334, penalty=l2, solver=saga;, score=0.565 total time=   0.1s\n",
      "[CV 2/5] END C=0.012742749857031334, penalty=l2, solver=saga;, score=0.566 total time=   0.1s\n",
      "[CV 3/5] END C=0.012742749857031334, penalty=l2, solver=saga;, score=0.575 total time=   0.1s\n",
      "[CV 4/5] END C=0.012742749857031334, penalty=l2, solver=saga;, score=0.570 total time=   0.2s\n",
      "[CV 5/5] END C=0.012742749857031334, penalty=l2, solver=saga;, score=0.573 total time=   0.1s\n",
      "[CV 1/5] END C=0.033598182862837805, penalty=l1, solver=liblinear;, score=0.459 total time=   0.0s\n",
      "[CV 2/5] END C=0.033598182862837805, penalty=l1, solver=liblinear;, score=0.445 total time=   0.0s\n",
      "[CV 3/5] END C=0.033598182862837805, penalty=l1, solver=liblinear;, score=0.465 total time=   0.0s\n",
      "[CV 4/5] END C=0.033598182862837805, penalty=l1, solver=liblinear;, score=0.456 total time=   0.0s\n",
      "[CV 5/5] END C=0.033598182862837805, penalty=l1, solver=liblinear;, score=0.476 total time=   0.0s\n",
      "[CV 1/5] END C=0.033598182862837805, penalty=l1, solver=saga;, score=0.430 total time=   0.1s\n",
      "[CV 2/5] END C=0.033598182862837805, penalty=l1, solver=saga;, score=0.421 total time=   0.1s\n",
      "[CV 3/5] END C=0.033598182862837805, penalty=l1, solver=saga;, score=0.422 total time=   0.2s\n",
      "[CV 4/5] END C=0.033598182862837805, penalty=l1, solver=saga;, score=0.433 total time=   0.2s\n",
      "[CV 5/5] END C=0.033598182862837805, penalty=l1, solver=saga;, score=0.440 total time=   0.2s\n",
      "[CV 1/5] END C=0.033598182862837805, penalty=l2, solver=liblinear;, score=0.570 total time=   0.0s\n",
      "[CV 2/5] END C=0.033598182862837805, penalty=l2, solver=liblinear;, score=0.565 total time=   0.1s\n",
      "[CV 3/5] END C=0.033598182862837805, penalty=l2, solver=liblinear;, score=0.580 total time=   0.0s\n",
      "[CV 4/5] END C=0.033598182862837805, penalty=l2, solver=liblinear;, score=0.571 total time=   0.0s\n",
      "[CV 5/5] END C=0.033598182862837805, penalty=l2, solver=liblinear;, score=0.577 total time=   0.0s\n",
      "[CV 1/5] END C=0.033598182862837805, penalty=l2, solver=saga;, score=0.576 total time=   0.1s\n",
      "[CV 2/5] END C=0.033598182862837805, penalty=l2, solver=saga;, score=0.565 total time=   0.1s\n",
      "[CV 3/5] END C=0.033598182862837805, penalty=l2, solver=saga;, score=0.581 total time=   0.2s\n",
      "[CV 4/5] END C=0.033598182862837805, penalty=l2, solver=saga;, score=0.575 total time=   0.1s\n",
      "[CV 5/5] END C=0.033598182862837805, penalty=l2, solver=saga;, score=0.583 total time=   0.1s\n",
      "[CV 1/5] END C=0.08858667904100824, penalty=l1, solver=liblinear;, score=0.491 total time=   0.0s\n",
      "[CV 2/5] END C=0.08858667904100824, penalty=l1, solver=liblinear;, score=0.483 total time=   0.1s\n",
      "[CV 3/5] END C=0.08858667904100824, penalty=l1, solver=liblinear;, score=0.512 total time=   0.1s\n",
      "[CV 4/5] END C=0.08858667904100824, penalty=l1, solver=liblinear;, score=0.508 total time=   0.0s\n",
      "[CV 5/5] END C=0.08858667904100824, penalty=l1, solver=liblinear;, score=0.502 total time=   0.0s\n",
      "[CV 1/5] END C=0.08858667904100824, penalty=l1, solver=saga;, score=0.493 total time=   0.2s\n",
      "[CV 2/5] END C=0.08858667904100824, penalty=l1, solver=saga;, score=0.490 total time=   0.2s\n",
      "[CV 3/5] END C=0.08858667904100824, penalty=l1, solver=saga;, score=0.490 total time=   0.2s\n",
      "[CV 4/5] END C=0.08858667904100824, penalty=l1, solver=saga;, score=0.506 total time=   0.2s\n",
      "[CV 5/5] END C=0.08858667904100824, penalty=l1, solver=saga;, score=0.518 total time=   0.2s\n",
      "[CV 1/5] END C=0.08858667904100824, penalty=l2, solver=liblinear;, score=0.577 total time=   0.1s\n",
      "[CV 2/5] END C=0.08858667904100824, penalty=l2, solver=liblinear;, score=0.571 total time=   0.1s\n",
      "[CV 3/5] END C=0.08858667904100824, penalty=l2, solver=liblinear;, score=0.586 total time=   0.1s\n",
      "[CV 4/5] END C=0.08858667904100824, penalty=l2, solver=liblinear;, score=0.580 total time=   0.1s\n",
      "[CV 5/5] END C=0.08858667904100824, penalty=l2, solver=liblinear;, score=0.582 total time=   0.1s\n",
      "[CV 1/5] END C=0.08858667904100824, penalty=l2, solver=saga;, score=0.583 total time=   0.1s\n",
      "[CV 2/5] END C=0.08858667904100824, penalty=l2, solver=saga;, score=0.570 total time=   0.1s\n",
      "[CV 3/5] END C=0.08858667904100824, penalty=l2, solver=saga;, score=0.588 total time=   0.1s\n",
      "[CV 4/5] END C=0.08858667904100824, penalty=l2, solver=saga;, score=0.582 total time=   0.1s\n",
      "[CV 5/5] END C=0.08858667904100824, penalty=l2, solver=saga;, score=0.590 total time=   0.1s\n",
      "[CV 1/5] END C=0.23357214690901212, penalty=l1, solver=liblinear;, score=0.551 total time=   0.1s\n",
      "[CV 2/5] END C=0.23357214690901212, penalty=l1, solver=liblinear;, score=0.544 total time=   0.1s\n",
      "[CV 3/5] END C=0.23357214690901212, penalty=l1, solver=liblinear;, score=0.541 total time=   0.1s\n",
      "[CV 4/5] END C=0.23357214690901212, penalty=l1, solver=liblinear;, score=0.551 total time=   0.1s\n",
      "[CV 5/5] END C=0.23357214690901212, penalty=l1, solver=liblinear;, score=0.550 total time=   0.1s\n",
      "[CV 1/5] END C=0.23357214690901212, penalty=l1, solver=saga;, score=0.552 total time=   0.3s\n",
      "[CV 2/5] END C=0.23357214690901212, penalty=l1, solver=saga;, score=0.555 total time=   0.2s\n",
      "[CV 3/5] END C=0.23357214690901212, penalty=l1, solver=saga;, score=0.544 total time=   0.2s\n",
      "[CV 4/5] END C=0.23357214690901212, penalty=l1, solver=saga;, score=0.553 total time=   0.2s\n",
      "[CV 5/5] END C=0.23357214690901212, penalty=l1, solver=saga;, score=0.559 total time=   0.2s\n",
      "[CV 1/5] END C=0.23357214690901212, penalty=l2, solver=liblinear;, score=0.582 total time=   0.1s\n",
      "[CV 2/5] END C=0.23357214690901212, penalty=l2, solver=liblinear;, score=0.574 total time=   0.1s\n",
      "[CV 3/5] END C=0.23357214690901212, penalty=l2, solver=liblinear;, score=0.591 total time=   0.1s\n",
      "[CV 4/5] END C=0.23357214690901212, penalty=l2, solver=liblinear;, score=0.587 total time=   0.1s\n",
      "[CV 5/5] END C=0.23357214690901212, penalty=l2, solver=liblinear;, score=0.587 total time=   0.1s\n",
      "[CV 1/5] END C=0.23357214690901212, penalty=l2, solver=saga;, score=0.587 total time=   0.1s\n",
      "[CV 2/5] END C=0.23357214690901212, penalty=l2, solver=saga;, score=0.577 total time=   0.2s\n",
      "[CV 3/5] END C=0.23357214690901212, penalty=l2, solver=saga;, score=0.596 total time=   0.2s\n",
      "[CV 4/5] END C=0.23357214690901212, penalty=l2, solver=saga;, score=0.587 total time=   0.1s\n",
      "[CV 5/5] END C=0.23357214690901212, penalty=l2, solver=saga;, score=0.591 total time=   0.1s\n",
      "[CV 1/5] END C=0.615848211066026, penalty=l1, solver=liblinear;, score=0.574 total time=   0.1s\n",
      "[CV 2/5] END C=0.615848211066026, penalty=l1, solver=liblinear;, score=0.563 total time=   0.1s\n",
      "[CV 3/5] END C=0.615848211066026, penalty=l1, solver=liblinear;, score=0.578 total time=   0.1s\n",
      "[CV 4/5] END C=0.615848211066026, penalty=l1, solver=liblinear;, score=0.586 total time=   0.1s\n",
      "[CV 5/5] END C=0.615848211066026, penalty=l1, solver=liblinear;, score=0.585 total time=   0.1s\n",
      "[CV 1/5] END C=0.615848211066026, penalty=l1, solver=saga;, score=0.578 total time=   0.5s\n",
      "[CV 2/5] END C=0.615848211066026, penalty=l1, solver=saga;, score=0.568 total time=   0.5s\n",
      "[CV 3/5] END C=0.615848211066026, penalty=l1, solver=saga;, score=0.579 total time=   0.5s\n",
      "[CV 4/5] END C=0.615848211066026, penalty=l1, solver=saga;, score=0.579 total time=   0.5s\n",
      "[CV 5/5] END C=0.615848211066026, penalty=l1, solver=saga;, score=0.580 total time=   0.5s\n",
      "[CV 1/5] END C=0.615848211066026, penalty=l2, solver=liblinear;, score=0.587 total time=   0.1s\n",
      "[CV 2/5] END C=0.615848211066026, penalty=l2, solver=liblinear;, score=0.582 total time=   0.1s\n",
      "[CV 3/5] END C=0.615848211066026, penalty=l2, solver=liblinear;, score=0.590 total time=   0.1s\n",
      "[CV 4/5] END C=0.615848211066026, penalty=l2, solver=liblinear;, score=0.589 total time=   0.1s\n",
      "[CV 5/5] END C=0.615848211066026, penalty=l2, solver=liblinear;, score=0.594 total time=   0.1s\n",
      "[CV 1/5] END C=0.615848211066026, penalty=l2, solver=saga;, score=0.580 total time=   0.1s\n",
      "[CV 2/5] END C=0.615848211066026, penalty=l2, solver=saga;, score=0.578 total time=   0.1s\n",
      "[CV 3/5] END C=0.615848211066026, penalty=l2, solver=saga;, score=0.598 total time=   0.2s\n",
      "[CV 4/5] END C=0.615848211066026, penalty=l2, solver=saga;, score=0.585 total time=   0.1s\n",
      "[CV 5/5] END C=0.615848211066026, penalty=l2, solver=saga;, score=0.598 total time=   0.1s\n",
      "[CV 1/5] END C=1.623776739188721, penalty=l1, solver=liblinear;, score=0.574 total time=   0.1s\n",
      "[CV 2/5] END C=1.623776739188721, penalty=l1, solver=liblinear;, score=0.567 total time=   0.1s\n",
      "[CV 3/5] END C=1.623776739188721, penalty=l1, solver=liblinear;, score=0.583 total time=   0.1s\n",
      "[CV 4/5] END C=1.623776739188721, penalty=l1, solver=liblinear;, score=0.575 total time=   0.1s\n",
      "[CV 5/5] END C=1.623776739188721, penalty=l1, solver=liblinear;, score=0.589 total time=   0.1s\n",
      "[CV 1/5] END C=1.623776739188721, penalty=l1, solver=saga;, score=0.581 total time=   4.6s\n",
      "[CV 2/5] END C=1.623776739188721, penalty=l1, solver=saga;, score=0.572 total time=   5.4s\n",
      "[CV 3/5] END C=1.623776739188721, penalty=l1, solver=saga;, score=0.588 total time=   4.2s\n",
      "[CV 4/5] END C=1.623776739188721, penalty=l1, solver=saga;, score=0.572 total time=   2.7s\n",
      "[CV 5/5] END C=1.623776739188721, penalty=l1, solver=saga;, score=0.597 total time=   2.9s\n",
      "[CV 1/5] END C=1.623776739188721, penalty=l2, solver=liblinear;, score=0.578 total time=   0.1s\n",
      "[CV 2/5] END C=1.623776739188721, penalty=l2, solver=liblinear;, score=0.578 total time=   0.1s\n",
      "[CV 3/5] END C=1.623776739188721, penalty=l2, solver=liblinear;, score=0.598 total time=   0.1s\n",
      "[CV 4/5] END C=1.623776739188721, penalty=l2, solver=liblinear;, score=0.583 total time=   0.1s\n",
      "[CV 5/5] END C=1.623776739188721, penalty=l2, solver=liblinear;, score=0.599 total time=   0.1s\n",
      "[CV 1/5] END C=1.623776739188721, penalty=l2, solver=saga;, score=0.578 total time=   0.1s\n",
      "[CV 2/5] END C=1.623776739188721, penalty=l2, solver=saga;, score=0.572 total time=   0.1s\n",
      "[CV 3/5] END C=1.623776739188721, penalty=l2, solver=saga;, score=0.595 total time=   0.1s\n",
      "[CV 4/5] END C=1.623776739188721, penalty=l2, solver=saga;, score=0.577 total time=   0.1s\n",
      "[CV 5/5] END C=1.623776739188721, penalty=l2, solver=saga;, score=0.603 total time=   0.1s\n",
      "[CV 1/5] END C=4.281332398719395, penalty=l1, solver=liblinear;, score=0.556 total time=   0.1s\n",
      "[CV 2/5] END C=4.281332398719395, penalty=l1, solver=liblinear;, score=0.556 total time=   0.2s\n",
      "[CV 3/5] END C=4.281332398719395, penalty=l1, solver=liblinear;, score=0.572 total time=   0.2s\n",
      "[CV 4/5] END C=4.281332398719395, penalty=l1, solver=liblinear;, score=0.554 total time=   0.1s\n"
     ]
    },
    {
     "name": "stderr",
     "output_type": "stream",
     "text": [
      "/home/patrick.araujo/miniconda3/envs/myenv/lib/python3.11/site-packages/sklearn/svm/_base.py:1237: ConvergenceWarning: Liblinear failed to converge, increase the number of iterations.\n",
      "  warnings.warn(\n"
     ]
    },
    {
     "name": "stdout",
     "output_type": "stream",
     "text": [
      "[CV 5/5] END C=4.281332398719395, penalty=l1, solver=liblinear;, score=0.580 total time=   9.2s\n"
     ]
    },
    {
     "name": "stderr",
     "output_type": "stream",
     "text": [
      "/home/patrick.araujo/miniconda3/envs/myenv/lib/python3.11/site-packages/sklearn/linear_model/_sag.py:350: ConvergenceWarning: The max_iter was reached which means the coef_ did not converge\n",
      "  warnings.warn(\n"
     ]
    },
    {
     "name": "stdout",
     "output_type": "stream",
     "text": [
      "[CV 1/5] END C=4.281332398719395, penalty=l1, solver=saga;, score=0.548 total time= 1.2min\n"
     ]
    },
    {
     "name": "stderr",
     "output_type": "stream",
     "text": [
      "/home/patrick.araujo/miniconda3/envs/myenv/lib/python3.11/site-packages/sklearn/linear_model/_sag.py:350: ConvergenceWarning: The max_iter was reached which means the coef_ did not converge\n",
      "  warnings.warn(\n"
     ]
    },
    {
     "name": "stdout",
     "output_type": "stream",
     "text": [
      "[CV 2/5] END C=4.281332398719395, penalty=l1, solver=saga;, score=0.536 total time= 1.4min\n"
     ]
    },
    {
     "name": "stderr",
     "output_type": "stream",
     "text": [
      "/home/patrick.araujo/miniconda3/envs/myenv/lib/python3.11/site-packages/sklearn/linear_model/_sag.py:350: ConvergenceWarning: The max_iter was reached which means the coef_ did not converge\n",
      "  warnings.warn(\n"
     ]
    },
    {
     "name": "stdout",
     "output_type": "stream",
     "text": [
      "[CV 3/5] END C=4.281332398719395, penalty=l1, solver=saga;, score=0.564 total time= 1.2min\n"
     ]
    },
    {
     "name": "stderr",
     "output_type": "stream",
     "text": [
      "/home/patrick.araujo/miniconda3/envs/myenv/lib/python3.11/site-packages/sklearn/linear_model/_sag.py:350: ConvergenceWarning: The max_iter was reached which means the coef_ did not converge\n",
      "  warnings.warn(\n"
     ]
    },
    {
     "name": "stdout",
     "output_type": "stream",
     "text": [
      "[CV 4/5] END C=4.281332398719395, penalty=l1, solver=saga;, score=0.550 total time= 1.4min\n"
     ]
    },
    {
     "name": "stderr",
     "output_type": "stream",
     "text": [
      "/home/patrick.araujo/miniconda3/envs/myenv/lib/python3.11/site-packages/sklearn/linear_model/_sag.py:350: ConvergenceWarning: The max_iter was reached which means the coef_ did not converge\n",
      "  warnings.warn(\n"
     ]
    },
    {
     "name": "stdout",
     "output_type": "stream",
     "text": [
      "[CV 5/5] END C=4.281332398719395, penalty=l1, solver=saga;, score=0.572 total time= 1.2min\n",
      "[CV 1/5] END C=4.281332398719395, penalty=l2, solver=liblinear;, score=0.576 total time=   0.1s\n",
      "[CV 2/5] END C=4.281332398719395, penalty=l2, solver=liblinear;, score=0.580 total time=   0.1s\n",
      "[CV 3/5] END C=4.281332398719395, penalty=l2, solver=liblinear;, score=0.586 total time=   0.1s\n",
      "[CV 4/5] END C=4.281332398719395, penalty=l2, solver=liblinear;, score=0.572 total time=   0.1s\n",
      "[CV 5/5] END C=4.281332398719395, penalty=l2, solver=liblinear;, score=0.599 total time=   0.1s\n",
      "[CV 1/5] END C=4.281332398719395, penalty=l2, solver=saga;, score=0.569 total time=   0.2s\n",
      "[CV 2/5] END C=4.281332398719395, penalty=l2, solver=saga;, score=0.564 total time=   0.2s\n",
      "[CV 3/5] END C=4.281332398719395, penalty=l2, solver=saga;, score=0.584 total time=   0.2s\n",
      "[CV 4/5] END C=4.281332398719395, penalty=l2, solver=saga;, score=0.565 total time=   0.2s\n",
      "[CV 5/5] END C=4.281332398719395, penalty=l2, solver=saga;, score=0.588 total time=   0.2s\n",
      "[CV 1/5] END C=11.288378916846883, penalty=l1, solver=liblinear;, score=0.539 total time=   0.3s\n",
      "[CV 2/5] END C=11.288378916846883, penalty=l1, solver=liblinear;, score=0.537 total time=   0.3s\n",
      "[CV 3/5] END C=11.288378916846883, penalty=l1, solver=liblinear;, score=0.544 total time=   0.3s\n",
      "[CV 4/5] END C=11.288378916846883, penalty=l1, solver=liblinear;, score=0.538 total time=   0.3s\n",
      "[CV 5/5] END C=11.288378916846883, penalty=l1, solver=liblinear;, score=0.556 total time=   0.3s\n"
     ]
    },
    {
     "name": "stderr",
     "output_type": "stream",
     "text": [
      "/home/patrick.araujo/miniconda3/envs/myenv/lib/python3.11/site-packages/sklearn/linear_model/_sag.py:350: ConvergenceWarning: The max_iter was reached which means the coef_ did not converge\n",
      "  warnings.warn(\n"
     ]
    },
    {
     "name": "stdout",
     "output_type": "stream",
     "text": [
      "[CV 1/5] END C=11.288378916846883, penalty=l1, solver=saga;, score=0.539 total time= 2.2min\n"
     ]
    },
    {
     "name": "stderr",
     "output_type": "stream",
     "text": [
      "/home/patrick.araujo/miniconda3/envs/myenv/lib/python3.11/site-packages/sklearn/linear_model/_sag.py:350: ConvergenceWarning: The max_iter was reached which means the coef_ did not converge\n",
      "  warnings.warn(\n"
     ]
    },
    {
     "name": "stdout",
     "output_type": "stream",
     "text": [
      "[CV 2/5] END C=11.288378916846883, penalty=l1, solver=saga;, score=0.533 total time= 2.1min\n"
     ]
    },
    {
     "name": "stderr",
     "output_type": "stream",
     "text": [
      "/home/patrick.araujo/miniconda3/envs/myenv/lib/python3.11/site-packages/sklearn/linear_model/_sag.py:350: ConvergenceWarning: The max_iter was reached which means the coef_ did not converge\n",
      "  warnings.warn(\n"
     ]
    },
    {
     "name": "stdout",
     "output_type": "stream",
     "text": [
      "[CV 3/5] END C=11.288378916846883, penalty=l1, solver=saga;, score=0.541 total time= 2.0min\n"
     ]
    },
    {
     "name": "stderr",
     "output_type": "stream",
     "text": [
      "/home/patrick.araujo/miniconda3/envs/myenv/lib/python3.11/site-packages/sklearn/linear_model/_sag.py:350: ConvergenceWarning: The max_iter was reached which means the coef_ did not converge\n",
      "  warnings.warn(\n"
     ]
    },
    {
     "name": "stdout",
     "output_type": "stream",
     "text": [
      "[CV 4/5] END C=11.288378916846883, penalty=l1, solver=saga;, score=0.535 total time= 2.1min\n"
     ]
    },
    {
     "name": "stderr",
     "output_type": "stream",
     "text": [
      "/home/patrick.araujo/miniconda3/envs/myenv/lib/python3.11/site-packages/sklearn/linear_model/_sag.py:350: ConvergenceWarning: The max_iter was reached which means the coef_ did not converge\n",
      "  warnings.warn(\n"
     ]
    },
    {
     "name": "stdout",
     "output_type": "stream",
     "text": [
      "[CV 5/5] END C=11.288378916846883, penalty=l1, solver=saga;, score=0.553 total time= 2.2min\n",
      "[CV 1/5] END C=11.288378916846883, penalty=l2, solver=liblinear;, score=0.565 total time=   0.2s\n",
      "[CV 2/5] END C=11.288378916846883, penalty=l2, solver=liblinear;, score=0.557 total time=   0.2s\n",
      "[CV 3/5] END C=11.288378916846883, penalty=l2, solver=liblinear;, score=0.570 total time=   0.2s\n",
      "[CV 4/5] END C=11.288378916846883, penalty=l2, solver=liblinear;, score=0.556 total time=   0.2s\n",
      "[CV 5/5] END C=11.288378916846883, penalty=l2, solver=liblinear;, score=0.584 total time=   0.2s\n",
      "[CV 1/5] END C=11.288378916846883, penalty=l2, solver=saga;, score=0.559 total time=   0.4s\n",
      "[CV 2/5] END C=11.288378916846883, penalty=l2, solver=saga;, score=0.540 total time=   0.3s\n",
      "[CV 3/5] END C=11.288378916846883, penalty=l2, solver=saga;, score=0.564 total time=   0.3s\n",
      "[CV 4/5] END C=11.288378916846883, penalty=l2, solver=saga;, score=0.550 total time=   0.3s\n",
      "[CV 5/5] END C=11.288378916846883, penalty=l2, solver=saga;, score=0.580 total time=   0.3s\n",
      "[CV 1/5] END C=29.76351441631313, penalty=l1, solver=liblinear;, score=0.528 total time=   0.5s\n",
      "[CV 2/5] END C=29.76351441631313, penalty=l1, solver=liblinear;, score=0.519 total time=   0.5s\n",
      "[CV 3/5] END C=29.76351441631313, penalty=l1, solver=liblinear;, score=0.531 total time=   0.5s\n",
      "[CV 4/5] END C=29.76351441631313, penalty=l1, solver=liblinear;, score=0.522 total time=   0.5s\n",
      "[CV 5/5] END C=29.76351441631313, penalty=l1, solver=liblinear;, score=0.546 total time=   0.5s\n"
     ]
    },
    {
     "name": "stderr",
     "output_type": "stream",
     "text": [
      "/home/patrick.araujo/miniconda3/envs/myenv/lib/python3.11/site-packages/sklearn/linear_model/_sag.py:350: ConvergenceWarning: The max_iter was reached which means the coef_ did not converge\n",
      "  warnings.warn(\n"
     ]
    },
    {
     "name": "stdout",
     "output_type": "stream",
     "text": [
      "[CV 1/5] END C=29.76351441631313, penalty=l1, solver=saga;, score=0.526 total time= 3.0min\n"
     ]
    },
    {
     "name": "stderr",
     "output_type": "stream",
     "text": [
      "/home/patrick.araujo/miniconda3/envs/myenv/lib/python3.11/site-packages/sklearn/linear_model/_sag.py:350: ConvergenceWarning: The max_iter was reached which means the coef_ did not converge\n",
      "  warnings.warn(\n"
     ]
    },
    {
     "name": "stdout",
     "output_type": "stream",
     "text": [
      "[CV 2/5] END C=29.76351441631313, penalty=l1, solver=saga;, score=0.509 total time= 3.0min\n"
     ]
    },
    {
     "name": "stderr",
     "output_type": "stream",
     "text": [
      "/home/patrick.araujo/miniconda3/envs/myenv/lib/python3.11/site-packages/sklearn/linear_model/_sag.py:350: ConvergenceWarning: The max_iter was reached which means the coef_ did not converge\n",
      "  warnings.warn(\n"
     ]
    },
    {
     "name": "stdout",
     "output_type": "stream",
     "text": [
      "[CV 3/5] END C=29.76351441631313, penalty=l1, solver=saga;, score=0.521 total time= 3.1min\n"
     ]
    },
    {
     "name": "stderr",
     "output_type": "stream",
     "text": [
      "/home/patrick.araujo/miniconda3/envs/myenv/lib/python3.11/site-packages/sklearn/linear_model/_sag.py:350: ConvergenceWarning: The max_iter was reached which means the coef_ did not converge\n",
      "  warnings.warn(\n"
     ]
    },
    {
     "name": "stdout",
     "output_type": "stream",
     "text": [
      "[CV 4/5] END C=29.76351441631313, penalty=l1, solver=saga;, score=0.516 total time= 3.0min\n"
     ]
    },
    {
     "name": "stderr",
     "output_type": "stream",
     "text": [
      "/home/patrick.araujo/miniconda3/envs/myenv/lib/python3.11/site-packages/sklearn/linear_model/_sag.py:350: ConvergenceWarning: The max_iter was reached which means the coef_ did not converge\n",
      "  warnings.warn(\n"
     ]
    },
    {
     "name": "stdout",
     "output_type": "stream",
     "text": [
      "[CV 5/5] END C=29.76351441631313, penalty=l1, solver=saga;, score=0.538 total time= 3.0min\n",
      "[CV 1/5] END C=29.76351441631313, penalty=l2, solver=liblinear;, score=0.559 total time=   0.2s\n",
      "[CV 2/5] END C=29.76351441631313, penalty=l2, solver=liblinear;, score=0.535 total time=   0.3s\n",
      "[CV 3/5] END C=29.76351441631313, penalty=l2, solver=liblinear;, score=0.554 total time=   0.2s\n",
      "[CV 4/5] END C=29.76351441631313, penalty=l2, solver=liblinear;, score=0.539 total time=   0.2s\n",
      "[CV 5/5] END C=29.76351441631313, penalty=l2, solver=liblinear;, score=0.575 total time=   0.3s\n",
      "[CV 1/5] END C=29.76351441631313, penalty=l2, solver=saga;, score=0.544 total time=   0.7s\n",
      "[CV 2/5] END C=29.76351441631313, penalty=l2, solver=saga;, score=0.529 total time=   0.8s\n",
      "[CV 3/5] END C=29.76351441631313, penalty=l2, solver=saga;, score=0.546 total time=   0.7s\n",
      "[CV 4/5] END C=29.76351441631313, penalty=l2, solver=saga;, score=0.534 total time=   0.8s\n",
      "[CV 5/5] END C=29.76351441631313, penalty=l2, solver=saga;, score=0.555 total time=   0.8s\n",
      "[CV 1/5] END C=78.47599703514607, penalty=l1, solver=liblinear;, score=0.509 total time=   0.7s\n",
      "[CV 2/5] END C=78.47599703514607, penalty=l1, solver=liblinear;, score=0.515 total time=   0.8s\n",
      "[CV 3/5] END C=78.47599703514607, penalty=l1, solver=liblinear;, score=0.517 total time=   0.8s\n",
      "[CV 4/5] END C=78.47599703514607, penalty=l1, solver=liblinear;, score=0.507 total time=   0.7s\n",
      "[CV 5/5] END C=78.47599703514607, penalty=l1, solver=liblinear;, score=0.521 total time=   0.7s\n"
     ]
    },
    {
     "name": "stderr",
     "output_type": "stream",
     "text": [
      "/home/patrick.araujo/miniconda3/envs/myenv/lib/python3.11/site-packages/sklearn/linear_model/_sag.py:350: ConvergenceWarning: The max_iter was reached which means the coef_ did not converge\n",
      "  warnings.warn(\n"
     ]
    },
    {
     "name": "stdout",
     "output_type": "stream",
     "text": [
      "[CV 1/5] END C=78.47599703514607, penalty=l1, solver=saga;, score=0.514 total time= 4.3min\n"
     ]
    },
    {
     "name": "stderr",
     "output_type": "stream",
     "text": [
      "/home/patrick.araujo/miniconda3/envs/myenv/lib/python3.11/site-packages/sklearn/linear_model/_sag.py:350: ConvergenceWarning: The max_iter was reached which means the coef_ did not converge\n",
      "  warnings.warn(\n"
     ]
    },
    {
     "name": "stdout",
     "output_type": "stream",
     "text": [
      "[CV 2/5] END C=78.47599703514607, penalty=l1, solver=saga;, score=0.510 total time= 4.4min\n"
     ]
    },
    {
     "name": "stderr",
     "output_type": "stream",
     "text": [
      "/home/patrick.araujo/miniconda3/envs/myenv/lib/python3.11/site-packages/sklearn/linear_model/_sag.py:350: ConvergenceWarning: The max_iter was reached which means the coef_ did not converge\n",
      "  warnings.warn(\n"
     ]
    },
    {
     "name": "stdout",
     "output_type": "stream",
     "text": [
      "[CV 3/5] END C=78.47599703514607, penalty=l1, solver=saga;, score=0.506 total time= 4.3min\n"
     ]
    },
    {
     "name": "stderr",
     "output_type": "stream",
     "text": [
      "/home/patrick.araujo/miniconda3/envs/myenv/lib/python3.11/site-packages/sklearn/linear_model/_sag.py:350: ConvergenceWarning: The max_iter was reached which means the coef_ did not converge\n",
      "  warnings.warn(\n"
     ]
    },
    {
     "name": "stdout",
     "output_type": "stream",
     "text": [
      "[CV 4/5] END C=78.47599703514607, penalty=l1, solver=saga;, score=0.503 total time= 4.5min\n"
     ]
    },
    {
     "name": "stderr",
     "output_type": "stream",
     "text": [
      "/home/patrick.araujo/miniconda3/envs/myenv/lib/python3.11/site-packages/sklearn/linear_model/_sag.py:350: ConvergenceWarning: The max_iter was reached which means the coef_ did not converge\n",
      "  warnings.warn(\n"
     ]
    },
    {
     "name": "stdout",
     "output_type": "stream",
     "text": [
      "[CV 5/5] END C=78.47599703514607, penalty=l1, solver=saga;, score=0.527 total time= 4.3min\n",
      "[CV 1/5] END C=78.47599703514607, penalty=l2, solver=liblinear;, score=0.543 total time=   0.3s\n",
      "[CV 2/5] END C=78.47599703514607, penalty=l2, solver=liblinear;, score=0.526 total time=   0.3s\n",
      "[CV 3/5] END C=78.47599703514607, penalty=l2, solver=liblinear;, score=0.544 total time=   0.4s\n",
      "[CV 4/5] END C=78.47599703514607, penalty=l2, solver=liblinear;, score=0.523 total time=   0.3s\n",
      "[CV 5/5] END C=78.47599703514607, penalty=l2, solver=liblinear;, score=0.551 total time=   0.3s\n",
      "[CV 1/5] END C=78.47599703514607, penalty=l2, solver=saga;, score=0.539 total time=   1.4s\n",
      "[CV 2/5] END C=78.47599703514607, penalty=l2, solver=saga;, score=0.521 total time=   1.4s\n",
      "[CV 3/5] END C=78.47599703514607, penalty=l2, solver=saga;, score=0.535 total time=   1.4s\n",
      "[CV 4/5] END C=78.47599703514607, penalty=l2, solver=saga;, score=0.524 total time=   1.5s\n",
      "[CV 5/5] END C=78.47599703514607, penalty=l2, solver=saga;, score=0.546 total time=   1.4s\n",
      "[CV 1/5] END C=206.913808111479, penalty=l1, solver=liblinear;, score=0.498 total time=   1.0s\n",
      "[CV 2/5] END C=206.913808111479, penalty=l1, solver=liblinear;, score=0.501 total time=   1.1s\n",
      "[CV 3/5] END C=206.913808111479, penalty=l1, solver=liblinear;, score=0.498 total time=   1.0s\n",
      "[CV 4/5] END C=206.913808111479, penalty=l1, solver=liblinear;, score=0.491 total time=   1.0s\n",
      "[CV 5/5] END C=206.913808111479, penalty=l1, solver=liblinear;, score=0.525 total time=   1.0s\n"
     ]
    },
    {
     "name": "stderr",
     "output_type": "stream",
     "text": [
      "/home/patrick.araujo/miniconda3/envs/myenv/lib/python3.11/site-packages/sklearn/linear_model/_sag.py:350: ConvergenceWarning: The max_iter was reached which means the coef_ did not converge\n",
      "  warnings.warn(\n"
     ]
    },
    {
     "name": "stdout",
     "output_type": "stream",
     "text": [
      "[CV 1/5] END C=206.913808111479, penalty=l1, solver=saga;, score=0.498 total time= 6.5min\n"
     ]
    },
    {
     "name": "stderr",
     "output_type": "stream",
     "text": [
      "/home/patrick.araujo/miniconda3/envs/myenv/lib/python3.11/site-packages/sklearn/linear_model/_sag.py:350: ConvergenceWarning: The max_iter was reached which means the coef_ did not converge\n",
      "  warnings.warn(\n"
     ]
    },
    {
     "name": "stdout",
     "output_type": "stream",
     "text": [
      "[CV 2/5] END C=206.913808111479, penalty=l1, solver=saga;, score=0.508 total time= 6.3min\n"
     ]
    },
    {
     "name": "stderr",
     "output_type": "stream",
     "text": [
      "/home/patrick.araujo/miniconda3/envs/myenv/lib/python3.11/site-packages/sklearn/linear_model/_sag.py:350: ConvergenceWarning: The max_iter was reached which means the coef_ did not converge\n",
      "  warnings.warn(\n"
     ]
    },
    {
     "name": "stdout",
     "output_type": "stream",
     "text": [
      "[CV 3/5] END C=206.913808111479, penalty=l1, solver=saga;, score=0.499 total time= 6.3min\n"
     ]
    },
    {
     "name": "stderr",
     "output_type": "stream",
     "text": [
      "/home/patrick.araujo/miniconda3/envs/myenv/lib/python3.11/site-packages/sklearn/linear_model/_sag.py:350: ConvergenceWarning: The max_iter was reached which means the coef_ did not converge\n",
      "  warnings.warn(\n"
     ]
    },
    {
     "name": "stdout",
     "output_type": "stream",
     "text": [
      "[CV 4/5] END C=206.913808111479, penalty=l1, solver=saga;, score=0.503 total time= 6.6min\n"
     ]
    },
    {
     "name": "stderr",
     "output_type": "stream",
     "text": [
      "/home/patrick.araujo/miniconda3/envs/myenv/lib/python3.11/site-packages/sklearn/linear_model/_sag.py:350: ConvergenceWarning: The max_iter was reached which means the coef_ did not converge\n",
      "  warnings.warn(\n"
     ]
    },
    {
     "name": "stdout",
     "output_type": "stream",
     "text": [
      "[CV 5/5] END C=206.913808111479, penalty=l1, solver=saga;, score=0.523 total time= 6.4min\n",
      "[CV 1/5] END C=206.913808111479, penalty=l2, solver=liblinear;, score=0.536 total time=   0.3s\n",
      "[CV 2/5] END C=206.913808111479, penalty=l2, solver=liblinear;, score=0.515 total time=   0.3s\n",
      "[CV 3/5] END C=206.913808111479, penalty=l2, solver=liblinear;, score=0.533 total time=   0.4s\n",
      "[CV 4/5] END C=206.913808111479, penalty=l2, solver=liblinear;, score=0.517 total time=   0.3s\n",
      "[CV 5/5] END C=206.913808111479, penalty=l2, solver=liblinear;, score=0.542 total time=   0.3s\n",
      "[CV 1/5] END C=206.913808111479, penalty=l2, solver=saga;, score=0.523 total time=   1.8s\n",
      "[CV 2/5] END C=206.913808111479, penalty=l2, solver=saga;, score=0.515 total time=   2.1s\n",
      "[CV 3/5] END C=206.913808111479, penalty=l2, solver=saga;, score=0.521 total time=   2.8s\n",
      "[CV 4/5] END C=206.913808111479, penalty=l2, solver=saga;, score=0.509 total time=   2.8s\n",
      "[CV 5/5] END C=206.913808111479, penalty=l2, solver=saga;, score=0.535 total time=   2.7s\n",
      "[CV 1/5] END C=545.5594781168514, penalty=l1, solver=liblinear;, score=0.490 total time=   1.4s\n",
      "[CV 2/5] END C=545.5594781168514, penalty=l1, solver=liblinear;, score=0.500 total time=   1.4s\n",
      "[CV 3/5] END C=545.5594781168514, penalty=l1, solver=liblinear;, score=0.481 total time=   1.5s\n",
      "[CV 4/5] END C=545.5594781168514, penalty=l1, solver=liblinear;, score=0.490 total time=   1.4s\n",
      "[CV 5/5] END C=545.5594781168514, penalty=l1, solver=liblinear;, score=0.506 total time=   1.7s\n"
     ]
    },
    {
     "name": "stderr",
     "output_type": "stream",
     "text": [
      "/home/patrick.araujo/miniconda3/envs/myenv/lib/python3.11/site-packages/sklearn/linear_model/_sag.py:350: ConvergenceWarning: The max_iter was reached which means the coef_ did not converge\n",
      "  warnings.warn(\n"
     ]
    },
    {
     "name": "stdout",
     "output_type": "stream",
     "text": [
      "[CV 1/5] END C=545.5594781168514, penalty=l1, solver=saga;, score=0.499 total time= 8.5min\n"
     ]
    },
    {
     "name": "stderr",
     "output_type": "stream",
     "text": [
      "/home/patrick.araujo/miniconda3/envs/myenv/lib/python3.11/site-packages/sklearn/linear_model/_sag.py:350: ConvergenceWarning: The max_iter was reached which means the coef_ did not converge\n",
      "  warnings.warn(\n"
     ]
    },
    {
     "name": "stdout",
     "output_type": "stream",
     "text": [
      "[CV 2/5] END C=545.5594781168514, penalty=l1, solver=saga;, score=0.508 total time= 8.1min\n"
     ]
    },
    {
     "name": "stderr",
     "output_type": "stream",
     "text": [
      "/home/patrick.araujo/miniconda3/envs/myenv/lib/python3.11/site-packages/sklearn/linear_model/_sag.py:350: ConvergenceWarning: The max_iter was reached which means the coef_ did not converge\n",
      "  warnings.warn(\n"
     ]
    },
    {
     "name": "stdout",
     "output_type": "stream",
     "text": [
      "[CV 3/5] END C=545.5594781168514, penalty=l1, solver=saga;, score=0.497 total time= 8.3min\n"
     ]
    },
    {
     "name": "stderr",
     "output_type": "stream",
     "text": [
      "/home/patrick.araujo/miniconda3/envs/myenv/lib/python3.11/site-packages/sklearn/linear_model/_sag.py:350: ConvergenceWarning: The max_iter was reached which means the coef_ did not converge\n",
      "  warnings.warn(\n"
     ]
    },
    {
     "name": "stdout",
     "output_type": "stream",
     "text": [
      "[CV 4/5] END C=545.5594781168514, penalty=l1, solver=saga;, score=0.495 total time= 8.9min\n"
     ]
    },
    {
     "name": "stderr",
     "output_type": "stream",
     "text": [
      "/home/patrick.araujo/miniconda3/envs/myenv/lib/python3.11/site-packages/sklearn/linear_model/_sag.py:350: ConvergenceWarning: The max_iter was reached which means the coef_ did not converge\n",
      "  warnings.warn(\n"
     ]
    },
    {
     "name": "stdout",
     "output_type": "stream",
     "text": [
      "[CV 5/5] END C=545.5594781168514, penalty=l1, solver=saga;, score=0.518 total time= 9.4min\n",
      "[CV 1/5] END C=545.5594781168514, penalty=l2, solver=liblinear;, score=0.520 total time=   0.6s\n",
      "[CV 2/5] END C=545.5594781168514, penalty=l2, solver=liblinear;, score=0.508 total time=   0.6s\n",
      "[CV 3/5] END C=545.5594781168514, penalty=l2, solver=liblinear;, score=0.516 total time=   0.6s\n",
      "[CV 4/5] END C=545.5594781168514, penalty=l2, solver=liblinear;, score=0.506 total time=   0.7s\n",
      "[CV 5/5] END C=545.5594781168514, penalty=l2, solver=liblinear;, score=0.531 total time=   0.6s\n",
      "[CV 1/5] END C=545.5594781168514, penalty=l2, solver=saga;, score=0.513 total time=   4.8s\n",
      "[CV 2/5] END C=545.5594781168514, penalty=l2, solver=saga;, score=0.513 total time=   4.5s\n",
      "[CV 3/5] END C=545.5594781168514, penalty=l2, solver=saga;, score=0.509 total time=   3.5s\n",
      "[CV 4/5] END C=545.5594781168514, penalty=l2, solver=saga;, score=0.505 total time=   3.3s\n",
      "[CV 5/5] END C=545.5594781168514, penalty=l2, solver=saga;, score=0.526 total time=   3.0s\n",
      "[CV 1/5] END C=1438.4498882876599, penalty=l1, solver=liblinear;, score=0.478 total time=   2.2s\n",
      "[CV 2/5] END C=1438.4498882876599, penalty=l1, solver=liblinear;, score=0.491 total time=   1.5s\n",
      "[CV 3/5] END C=1438.4498882876599, penalty=l1, solver=liblinear;, score=0.478 total time=   2.5s\n",
      "[CV 4/5] END C=1438.4498882876599, penalty=l1, solver=liblinear;, score=0.478 total time=   1.9s\n",
      "[CV 5/5] END C=1438.4498882876599, penalty=l1, solver=liblinear;, score=0.504 total time=   2.2s\n"
     ]
    },
    {
     "name": "stderr",
     "output_type": "stream",
     "text": [
      "/home/patrick.araujo/miniconda3/envs/myenv/lib/python3.11/site-packages/sklearn/linear_model/_sag.py:350: ConvergenceWarning: The max_iter was reached which means the coef_ did not converge\n",
      "  warnings.warn(\n"
     ]
    },
    {
     "name": "stdout",
     "output_type": "stream",
     "text": [
      "[CV 1/5] END C=1438.4498882876599, penalty=l1, solver=saga;, score=0.498 total time=10.4min\n"
     ]
    },
    {
     "name": "stderr",
     "output_type": "stream",
     "text": [
      "/home/patrick.araujo/miniconda3/envs/myenv/lib/python3.11/site-packages/sklearn/linear_model/_sag.py:350: ConvergenceWarning: The max_iter was reached which means the coef_ did not converge\n",
      "  warnings.warn(\n"
     ]
    },
    {
     "name": "stdout",
     "output_type": "stream",
     "text": [
      "[CV 2/5] END C=1438.4498882876599, penalty=l1, solver=saga;, score=0.506 total time=10.5min\n"
     ]
    },
    {
     "name": "stderr",
     "output_type": "stream",
     "text": [
      "/home/patrick.araujo/miniconda3/envs/myenv/lib/python3.11/site-packages/sklearn/linear_model/_sag.py:350: ConvergenceWarning: The max_iter was reached which means the coef_ did not converge\n",
      "  warnings.warn(\n"
     ]
    },
    {
     "name": "stdout",
     "output_type": "stream",
     "text": [
      "[CV 3/5] END C=1438.4498882876599, penalty=l1, solver=saga;, score=0.495 total time=10.6min\n"
     ]
    },
    {
     "name": "stderr",
     "output_type": "stream",
     "text": [
      "/home/patrick.araujo/miniconda3/envs/myenv/lib/python3.11/site-packages/sklearn/linear_model/_sag.py:350: ConvergenceWarning: The max_iter was reached which means the coef_ did not converge\n",
      "  warnings.warn(\n"
     ]
    },
    {
     "name": "stdout",
     "output_type": "stream",
     "text": [
      "[CV 4/5] END C=1438.4498882876599, penalty=l1, solver=saga;, score=0.493 total time=10.1min\n"
     ]
    },
    {
     "name": "stderr",
     "output_type": "stream",
     "text": [
      "/home/patrick.araujo/miniconda3/envs/myenv/lib/python3.11/site-packages/sklearn/linear_model/_sag.py:350: ConvergenceWarning: The max_iter was reached which means the coef_ did not converge\n",
      "  warnings.warn(\n"
     ]
    },
    {
     "name": "stdout",
     "output_type": "stream",
     "text": [
      "[CV 5/5] END C=1438.4498882876599, penalty=l1, solver=saga;, score=0.517 total time= 8.6min\n",
      "[CV 1/5] END C=1438.4498882876599, penalty=l2, solver=liblinear;, score=0.513 total time=   0.4s\n",
      "[CV 2/5] END C=1438.4498882876599, penalty=l2, solver=liblinear;, score=0.507 total time=   0.6s\n",
      "[CV 3/5] END C=1438.4498882876599, penalty=l2, solver=liblinear;, score=0.505 total time=   0.7s\n",
      "[CV 4/5] END C=1438.4498882876599, penalty=l2, solver=liblinear;, score=0.497 total time=   0.5s\n",
      "[CV 5/5] END C=1438.4498882876599, penalty=l2, solver=liblinear;, score=0.523 total time=   0.6s\n"
     ]
    },
    {
     "name": "stderr",
     "output_type": "stream",
     "text": [
      "/home/patrick.araujo/miniconda3/envs/myenv/lib/python3.11/site-packages/sklearn/linear_model/_sag.py:350: ConvergenceWarning: The max_iter was reached which means the coef_ did not converge\n",
      "  warnings.warn(\n"
     ]
    },
    {
     "name": "stdout",
     "output_type": "stream",
     "text": [
      "[CV 1/5] END C=1438.4498882876599, penalty=l2, solver=saga;, score=0.500 total time=   3.4s\n"
     ]
    },
    {
     "name": "stderr",
     "output_type": "stream",
     "text": [
      "/home/patrick.araujo/miniconda3/envs/myenv/lib/python3.11/site-packages/sklearn/linear_model/_sag.py:350: ConvergenceWarning: The max_iter was reached which means the coef_ did not converge\n",
      "  warnings.warn(\n"
     ]
    },
    {
     "name": "stdout",
     "output_type": "stream",
     "text": [
      "[CV 2/5] END C=1438.4498882876599, penalty=l2, solver=saga;, score=0.509 total time=   3.3s\n"
     ]
    },
    {
     "name": "stderr",
     "output_type": "stream",
     "text": [
      "/home/patrick.araujo/miniconda3/envs/myenv/lib/python3.11/site-packages/sklearn/linear_model/_sag.py:350: ConvergenceWarning: The max_iter was reached which means the coef_ did not converge\n",
      "  warnings.warn(\n"
     ]
    },
    {
     "name": "stdout",
     "output_type": "stream",
     "text": [
      "[CV 3/5] END C=1438.4498882876599, penalty=l2, solver=saga;, score=0.501 total time=   3.4s\n"
     ]
    },
    {
     "name": "stderr",
     "output_type": "stream",
     "text": [
      "/home/patrick.araujo/miniconda3/envs/myenv/lib/python3.11/site-packages/sklearn/linear_model/_sag.py:350: ConvergenceWarning: The max_iter was reached which means the coef_ did not converge\n",
      "  warnings.warn(\n"
     ]
    },
    {
     "name": "stdout",
     "output_type": "stream",
     "text": [
      "[CV 4/5] END C=1438.4498882876599, penalty=l2, solver=saga;, score=0.501 total time=   3.3s\n"
     ]
    },
    {
     "name": "stderr",
     "output_type": "stream",
     "text": [
      "/home/patrick.araujo/miniconda3/envs/myenv/lib/python3.11/site-packages/sklearn/linear_model/_sag.py:350: ConvergenceWarning: The max_iter was reached which means the coef_ did not converge\n",
      "  warnings.warn(\n"
     ]
    },
    {
     "name": "stdout",
     "output_type": "stream",
     "text": [
      "[CV 5/5] END C=1438.4498882876599, penalty=l2, solver=saga;, score=0.519 total time=   3.3s\n",
      "[CV 1/5] END C=3792.690190732246, penalty=l1, solver=liblinear;, score=0.466 total time=   4.0s\n",
      "[CV 2/5] END C=3792.690190732246, penalty=l1, solver=liblinear;, score=0.480 total time=   2.9s\n",
      "[CV 3/5] END C=3792.690190732246, penalty=l1, solver=liblinear;, score=0.469 total time=   3.4s\n",
      "[CV 4/5] END C=3792.690190732246, penalty=l1, solver=liblinear;, score=0.476 total time=   3.1s\n",
      "[CV 5/5] END C=3792.690190732246, penalty=l1, solver=liblinear;, score=0.502 total time=   3.1s\n"
     ]
    },
    {
     "name": "stderr",
     "output_type": "stream",
     "text": [
      "/home/patrick.araujo/miniconda3/envs/myenv/lib/python3.11/site-packages/sklearn/linear_model/_sag.py:350: ConvergenceWarning: The max_iter was reached which means the coef_ did not converge\n",
      "  warnings.warn(\n"
     ]
    },
    {
     "name": "stdout",
     "output_type": "stream",
     "text": [
      "[CV 1/5] END C=3792.690190732246, penalty=l1, solver=saga;, score=0.501 total time= 9.2min\n"
     ]
    },
    {
     "name": "stderr",
     "output_type": "stream",
     "text": [
      "/home/patrick.araujo/miniconda3/envs/myenv/lib/python3.11/site-packages/sklearn/linear_model/_sag.py:350: ConvergenceWarning: The max_iter was reached which means the coef_ did not converge\n",
      "  warnings.warn(\n"
     ]
    },
    {
     "name": "stdout",
     "output_type": "stream",
     "text": [
      "[CV 2/5] END C=3792.690190732246, penalty=l1, solver=saga;, score=0.506 total time= 9.4min\n"
     ]
    },
    {
     "name": "stderr",
     "output_type": "stream",
     "text": [
      "/home/patrick.araujo/miniconda3/envs/myenv/lib/python3.11/site-packages/sklearn/linear_model/_sag.py:350: ConvergenceWarning: The max_iter was reached which means the coef_ did not converge\n",
      "  warnings.warn(\n"
     ]
    },
    {
     "name": "stdout",
     "output_type": "stream",
     "text": [
      "[CV 3/5] END C=3792.690190732246, penalty=l1, solver=saga;, score=0.495 total time= 9.3min\n"
     ]
    },
    {
     "name": "stderr",
     "output_type": "stream",
     "text": [
      "/home/patrick.araujo/miniconda3/envs/myenv/lib/python3.11/site-packages/sklearn/linear_model/_sag.py:350: ConvergenceWarning: The max_iter was reached which means the coef_ did not converge\n",
      "  warnings.warn(\n"
     ]
    },
    {
     "name": "stdout",
     "output_type": "stream",
     "text": [
      "[CV 4/5] END C=3792.690190732246, penalty=l1, solver=saga;, score=0.494 total time= 9.4min\n"
     ]
    },
    {
     "name": "stderr",
     "output_type": "stream",
     "text": [
      "/home/patrick.araujo/miniconda3/envs/myenv/lib/python3.11/site-packages/sklearn/linear_model/_sag.py:350: ConvergenceWarning: The max_iter was reached which means the coef_ did not converge\n",
      "  warnings.warn(\n"
     ]
    },
    {
     "name": "stdout",
     "output_type": "stream",
     "text": [
      "[CV 5/5] END C=3792.690190732246, penalty=l1, solver=saga;, score=0.515 total time= 9.5min\n",
      "[CV 1/5] END C=3792.690190732246, penalty=l2, solver=liblinear;, score=0.506 total time=   0.6s\n",
      "[CV 2/5] END C=3792.690190732246, penalty=l2, solver=liblinear;, score=0.504 total time=   0.7s\n",
      "[CV 3/5] END C=3792.690190732246, penalty=l2, solver=liblinear;, score=0.500 total time=   1.0s\n",
      "[CV 4/5] END C=3792.690190732246, penalty=l2, solver=liblinear;, score=0.491 total time=   1.0s\n",
      "[CV 5/5] END C=3792.690190732246, penalty=l2, solver=liblinear;, score=0.517 total time=   0.8s\n"
     ]
    },
    {
     "name": "stderr",
     "output_type": "stream",
     "text": [
      "/home/patrick.araujo/miniconda3/envs/myenv/lib/python3.11/site-packages/sklearn/linear_model/_sag.py:350: ConvergenceWarning: The max_iter was reached which means the coef_ did not converge\n",
      "  warnings.warn(\n"
     ]
    },
    {
     "name": "stdout",
     "output_type": "stream",
     "text": [
      "[CV 1/5] END C=3792.690190732246, penalty=l2, solver=saga;, score=0.500 total time=   3.2s\n"
     ]
    },
    {
     "name": "stderr",
     "output_type": "stream",
     "text": [
      "/home/patrick.araujo/miniconda3/envs/myenv/lib/python3.11/site-packages/sklearn/linear_model/_sag.py:350: ConvergenceWarning: The max_iter was reached which means the coef_ did not converge\n",
      "  warnings.warn(\n"
     ]
    },
    {
     "name": "stdout",
     "output_type": "stream",
     "text": [
      "[CV 2/5] END C=3792.690190732246, penalty=l2, solver=saga;, score=0.509 total time=   3.2s\n"
     ]
    },
    {
     "name": "stderr",
     "output_type": "stream",
     "text": [
      "/home/patrick.araujo/miniconda3/envs/myenv/lib/python3.11/site-packages/sklearn/linear_model/_sag.py:350: ConvergenceWarning: The max_iter was reached which means the coef_ did not converge\n",
      "  warnings.warn(\n"
     ]
    },
    {
     "name": "stdout",
     "output_type": "stream",
     "text": [
      "[CV 3/5] END C=3792.690190732246, penalty=l2, solver=saga;, score=0.495 total time=   3.3s\n"
     ]
    },
    {
     "name": "stderr",
     "output_type": "stream",
     "text": [
      "/home/patrick.araujo/miniconda3/envs/myenv/lib/python3.11/site-packages/sklearn/linear_model/_sag.py:350: ConvergenceWarning: The max_iter was reached which means the coef_ did not converge\n",
      "  warnings.warn(\n"
     ]
    },
    {
     "name": "stdout",
     "output_type": "stream",
     "text": [
      "[CV 4/5] END C=3792.690190732246, penalty=l2, solver=saga;, score=0.498 total time=   3.2s\n"
     ]
    },
    {
     "name": "stderr",
     "output_type": "stream",
     "text": [
      "/home/patrick.araujo/miniconda3/envs/myenv/lib/python3.11/site-packages/sklearn/linear_model/_sag.py:350: ConvergenceWarning: The max_iter was reached which means the coef_ did not converge\n",
      "  warnings.warn(\n"
     ]
    },
    {
     "name": "stdout",
     "output_type": "stream",
     "text": [
      "[CV 5/5] END C=3792.690190732246, penalty=l2, solver=saga;, score=0.520 total time=   3.3s\n",
      "[CV 1/5] END C=10000.0, penalty=l1, solver=liblinear;, score=0.471 total time=   8.2s\n"
     ]
    },
    {
     "name": "stderr",
     "output_type": "stream",
     "text": [
      "/home/patrick.araujo/miniconda3/envs/myenv/lib/python3.11/site-packages/sklearn/svm/_base.py:1237: ConvergenceWarning: Liblinear failed to converge, increase the number of iterations.\n",
      "  warnings.warn(\n"
     ]
    },
    {
     "name": "stdout",
     "output_type": "stream",
     "text": [
      "[CV 2/5] END C=10000.0, penalty=l1, solver=liblinear;, score=0.465 total time= 6.2min\n",
      "[CV 3/5] END C=10000.0, penalty=l1, solver=liblinear;, score=0.469 total time=   7.2s\n",
      "[CV 4/5] END C=10000.0, penalty=l1, solver=liblinear;, score=0.474 total time=   5.2s\n"
     ]
    },
    {
     "name": "stderr",
     "output_type": "stream",
     "text": [
      "/home/patrick.araujo/miniconda3/envs/myenv/lib/python3.11/site-packages/sklearn/svm/_base.py:1237: ConvergenceWarning: Liblinear failed to converge, increase the number of iterations.\n",
      "  warnings.warn(\n"
     ]
    },
    {
     "name": "stdout",
     "output_type": "stream",
     "text": [
      "[CV 5/5] END C=10000.0, penalty=l1, solver=liblinear;, score=0.505 total time= 2.0min\n"
     ]
    },
    {
     "name": "stderr",
     "output_type": "stream",
     "text": [
      "/home/patrick.araujo/miniconda3/envs/myenv/lib/python3.11/site-packages/sklearn/linear_model/_sag.py:350: ConvergenceWarning: The max_iter was reached which means the coef_ did not converge\n",
      "  warnings.warn(\n"
     ]
    },
    {
     "name": "stdout",
     "output_type": "stream",
     "text": [
      "[CV 1/5] END C=10000.0, penalty=l1, solver=saga;, score=0.501 total time= 9.9min\n"
     ]
    },
    {
     "name": "stderr",
     "output_type": "stream",
     "text": [
      "/home/patrick.araujo/miniconda3/envs/myenv/lib/python3.11/site-packages/sklearn/linear_model/_sag.py:350: ConvergenceWarning: The max_iter was reached which means the coef_ did not converge\n",
      "  warnings.warn(\n"
     ]
    },
    {
     "name": "stdout",
     "output_type": "stream",
     "text": [
      "[CV 2/5] END C=10000.0, penalty=l1, solver=saga;, score=0.506 total time= 9.9min\n"
     ]
    },
    {
     "name": "stderr",
     "output_type": "stream",
     "text": [
      "/home/patrick.araujo/miniconda3/envs/myenv/lib/python3.11/site-packages/sklearn/linear_model/_sag.py:350: ConvergenceWarning: The max_iter was reached which means the coef_ did not converge\n",
      "  warnings.warn(\n"
     ]
    },
    {
     "name": "stdout",
     "output_type": "stream",
     "text": [
      "[CV 3/5] END C=10000.0, penalty=l1, solver=saga;, score=0.496 total time=10.0min\n"
     ]
    },
    {
     "name": "stderr",
     "output_type": "stream",
     "text": [
      "/home/patrick.araujo/miniconda3/envs/myenv/lib/python3.11/site-packages/sklearn/linear_model/_sag.py:350: ConvergenceWarning: The max_iter was reached which means the coef_ did not converge\n",
      "  warnings.warn(\n"
     ]
    },
    {
     "name": "stdout",
     "output_type": "stream",
     "text": [
      "[CV 4/5] END C=10000.0, penalty=l1, solver=saga;, score=0.492 total time=10.2min\n"
     ]
    },
    {
     "name": "stderr",
     "output_type": "stream",
     "text": [
      "/home/patrick.araujo/miniconda3/envs/myenv/lib/python3.11/site-packages/sklearn/linear_model/_sag.py:350: ConvergenceWarning: The max_iter was reached which means the coef_ did not converge\n",
      "  warnings.warn(\n"
     ]
    },
    {
     "name": "stdout",
     "output_type": "stream",
     "text": [
      "[CV 5/5] END C=10000.0, penalty=l1, solver=saga;, score=0.514 total time= 9.9min\n",
      "[CV 1/5] END C=10000.0, penalty=l2, solver=liblinear;, score=0.500 total time=   1.3s\n",
      "[CV 2/5] END C=10000.0, penalty=l2, solver=liblinear;, score=0.500 total time=   1.3s\n",
      "[CV 3/5] END C=10000.0, penalty=l2, solver=liblinear;, score=0.494 total time=   1.5s\n",
      "[CV 4/5] END C=10000.0, penalty=l2, solver=liblinear;, score=0.485 total time=   1.5s\n",
      "[CV 5/5] END C=10000.0, penalty=l2, solver=liblinear;, score=0.519 total time=   1.3s\n"
     ]
    },
    {
     "name": "stderr",
     "output_type": "stream",
     "text": [
      "/home/patrick.araujo/miniconda3/envs/myenv/lib/python3.11/site-packages/sklearn/linear_model/_sag.py:350: ConvergenceWarning: The max_iter was reached which means the coef_ did not converge\n",
      "  warnings.warn(\n"
     ]
    },
    {
     "name": "stdout",
     "output_type": "stream",
     "text": [
      "[CV 1/5] END C=10000.0, penalty=l2, solver=saga;, score=0.502 total time=   3.3s\n"
     ]
    },
    {
     "name": "stderr",
     "output_type": "stream",
     "text": [
      "/home/patrick.araujo/miniconda3/envs/myenv/lib/python3.11/site-packages/sklearn/linear_model/_sag.py:350: ConvergenceWarning: The max_iter was reached which means the coef_ did not converge\n",
      "  warnings.warn(\n"
     ]
    },
    {
     "name": "stdout",
     "output_type": "stream",
     "text": [
      "[CV 2/5] END C=10000.0, penalty=l2, solver=saga;, score=0.507 total time=   3.3s\n"
     ]
    },
    {
     "name": "stderr",
     "output_type": "stream",
     "text": [
      "/home/patrick.araujo/miniconda3/envs/myenv/lib/python3.11/site-packages/sklearn/linear_model/_sag.py:350: ConvergenceWarning: The max_iter was reached which means the coef_ did not converge\n",
      "  warnings.warn(\n"
     ]
    },
    {
     "name": "stdout",
     "output_type": "stream",
     "text": [
      "[CV 3/5] END C=10000.0, penalty=l2, solver=saga;, score=0.495 total time=   3.3s\n"
     ]
    },
    {
     "name": "stderr",
     "output_type": "stream",
     "text": [
      "/home/patrick.araujo/miniconda3/envs/myenv/lib/python3.11/site-packages/sklearn/linear_model/_sag.py:350: ConvergenceWarning: The max_iter was reached which means the coef_ did not converge\n",
      "  warnings.warn(\n"
     ]
    },
    {
     "name": "stdout",
     "output_type": "stream",
     "text": [
      "[CV 4/5] END C=10000.0, penalty=l2, solver=saga;, score=0.493 total time=   3.3s\n",
      "[CV 5/5] END C=10000.0, penalty=l2, solver=saga;, score=0.517 total time=   3.3s\n"
     ]
    },
    {
     "name": "stderr",
     "output_type": "stream",
     "text": [
      "/home/patrick.araujo/miniconda3/envs/myenv/lib/python3.11/site-packages/sklearn/linear_model/_sag.py:350: ConvergenceWarning: The max_iter was reached which means the coef_ did not converge\n",
      "  warnings.warn(\n"
     ]
    },
    {
     "data": {
      "text/html": [
       "<style>#sk-container-id-2 {\n",
       "  /* Definition of color scheme common for light and dark mode */\n",
       "  --sklearn-color-text: black;\n",
       "  --sklearn-color-line: gray;\n",
       "  /* Definition of color scheme for unfitted estimators */\n",
       "  --sklearn-color-unfitted-level-0: #fff5e6;\n",
       "  --sklearn-color-unfitted-level-1: #f6e4d2;\n",
       "  --sklearn-color-unfitted-level-2: #ffe0b3;\n",
       "  --sklearn-color-unfitted-level-3: chocolate;\n",
       "  /* Definition of color scheme for fitted estimators */\n",
       "  --sklearn-color-fitted-level-0: #f0f8ff;\n",
       "  --sklearn-color-fitted-level-1: #d4ebff;\n",
       "  --sklearn-color-fitted-level-2: #b3dbfd;\n",
       "  --sklearn-color-fitted-level-3: cornflowerblue;\n",
       "\n",
       "  /* Specific color for light theme */\n",
       "  --sklearn-color-text-on-default-background: var(--sg-text-color, var(--theme-code-foreground, var(--jp-content-font-color1, black)));\n",
       "  --sklearn-color-background: var(--sg-background-color, var(--theme-background, var(--jp-layout-color0, white)));\n",
       "  --sklearn-color-border-box: var(--sg-text-color, var(--theme-code-foreground, var(--jp-content-font-color1, black)));\n",
       "  --sklearn-color-icon: #696969;\n",
       "\n",
       "  @media (prefers-color-scheme: dark) {\n",
       "    /* Redefinition of color scheme for dark theme */\n",
       "    --sklearn-color-text-on-default-background: var(--sg-text-color, var(--theme-code-foreground, var(--jp-content-font-color1, white)));\n",
       "    --sklearn-color-background: var(--sg-background-color, var(--theme-background, var(--jp-layout-color0, #111)));\n",
       "    --sklearn-color-border-box: var(--sg-text-color, var(--theme-code-foreground, var(--jp-content-font-color1, white)));\n",
       "    --sklearn-color-icon: #878787;\n",
       "  }\n",
       "}\n",
       "\n",
       "#sk-container-id-2 {\n",
       "  color: var(--sklearn-color-text);\n",
       "}\n",
       "\n",
       "#sk-container-id-2 pre {\n",
       "  padding: 0;\n",
       "}\n",
       "\n",
       "#sk-container-id-2 input.sk-hidden--visually {\n",
       "  border: 0;\n",
       "  clip: rect(1px 1px 1px 1px);\n",
       "  clip: rect(1px, 1px, 1px, 1px);\n",
       "  height: 1px;\n",
       "  margin: -1px;\n",
       "  overflow: hidden;\n",
       "  padding: 0;\n",
       "  position: absolute;\n",
       "  width: 1px;\n",
       "}\n",
       "\n",
       "#sk-container-id-2 div.sk-dashed-wrapped {\n",
       "  border: 1px dashed var(--sklearn-color-line);\n",
       "  margin: 0 0.4em 0.5em 0.4em;\n",
       "  box-sizing: border-box;\n",
       "  padding-bottom: 0.4em;\n",
       "  background-color: var(--sklearn-color-background);\n",
       "}\n",
       "\n",
       "#sk-container-id-2 div.sk-container {\n",
       "  /* jupyter's `normalize.less` sets `[hidden] { display: none; }`\n",
       "     but bootstrap.min.css set `[hidden] { display: none !important; }`\n",
       "     so we also need the `!important` here to be able to override the\n",
       "     default hidden behavior on the sphinx rendered scikit-learn.org.\n",
       "     See: https://github.com/scikit-learn/scikit-learn/issues/21755 */\n",
       "  display: inline-block !important;\n",
       "  position: relative;\n",
       "}\n",
       "\n",
       "#sk-container-id-2 div.sk-text-repr-fallback {\n",
       "  display: none;\n",
       "}\n",
       "\n",
       "div.sk-parallel-item,\n",
       "div.sk-serial,\n",
       "div.sk-item {\n",
       "  /* draw centered vertical line to link estimators */\n",
       "  background-image: linear-gradient(var(--sklearn-color-text-on-default-background), var(--sklearn-color-text-on-default-background));\n",
       "  background-size: 2px 100%;\n",
       "  background-repeat: no-repeat;\n",
       "  background-position: center center;\n",
       "}\n",
       "\n",
       "/* Parallel-specific style estimator block */\n",
       "\n",
       "#sk-container-id-2 div.sk-parallel-item::after {\n",
       "  content: \"\";\n",
       "  width: 100%;\n",
       "  border-bottom: 2px solid var(--sklearn-color-text-on-default-background);\n",
       "  flex-grow: 1;\n",
       "}\n",
       "\n",
       "#sk-container-id-2 div.sk-parallel {\n",
       "  display: flex;\n",
       "  align-items: stretch;\n",
       "  justify-content: center;\n",
       "  background-color: var(--sklearn-color-background);\n",
       "  position: relative;\n",
       "}\n",
       "\n",
       "#sk-container-id-2 div.sk-parallel-item {\n",
       "  display: flex;\n",
       "  flex-direction: column;\n",
       "}\n",
       "\n",
       "#sk-container-id-2 div.sk-parallel-item:first-child::after {\n",
       "  align-self: flex-end;\n",
       "  width: 50%;\n",
       "}\n",
       "\n",
       "#sk-container-id-2 div.sk-parallel-item:last-child::after {\n",
       "  align-self: flex-start;\n",
       "  width: 50%;\n",
       "}\n",
       "\n",
       "#sk-container-id-2 div.sk-parallel-item:only-child::after {\n",
       "  width: 0;\n",
       "}\n",
       "\n",
       "/* Serial-specific style estimator block */\n",
       "\n",
       "#sk-container-id-2 div.sk-serial {\n",
       "  display: flex;\n",
       "  flex-direction: column;\n",
       "  align-items: center;\n",
       "  background-color: var(--sklearn-color-background);\n",
       "  padding-right: 1em;\n",
       "  padding-left: 1em;\n",
       "}\n",
       "\n",
       "\n",
       "/* Toggleable style: style used for estimator/Pipeline/ColumnTransformer box that is\n",
       "clickable and can be expanded/collapsed.\n",
       "- Pipeline and ColumnTransformer use this feature and define the default style\n",
       "- Estimators will overwrite some part of the style using the `sk-estimator` class\n",
       "*/\n",
       "\n",
       "/* Pipeline and ColumnTransformer style (default) */\n",
       "\n",
       "#sk-container-id-2 div.sk-toggleable {\n",
       "  /* Default theme specific background. It is overwritten whether we have a\n",
       "  specific estimator or a Pipeline/ColumnTransformer */\n",
       "  background-color: var(--sklearn-color-background);\n",
       "}\n",
       "\n",
       "/* Toggleable label */\n",
       "#sk-container-id-2 label.sk-toggleable__label {\n",
       "  cursor: pointer;\n",
       "  display: block;\n",
       "  width: 100%;\n",
       "  margin-bottom: 0;\n",
       "  padding: 0.5em;\n",
       "  box-sizing: border-box;\n",
       "  text-align: center;\n",
       "}\n",
       "\n",
       "#sk-container-id-2 label.sk-toggleable__label-arrow:before {\n",
       "  /* Arrow on the left of the label */\n",
       "  content: \"▸\";\n",
       "  float: left;\n",
       "  margin-right: 0.25em;\n",
       "  color: var(--sklearn-color-icon);\n",
       "}\n",
       "\n",
       "#sk-container-id-2 label.sk-toggleable__label-arrow:hover:before {\n",
       "  color: var(--sklearn-color-text);\n",
       "}\n",
       "\n",
       "/* Toggleable content - dropdown */\n",
       "\n",
       "#sk-container-id-2 div.sk-toggleable__content {\n",
       "  max-height: 0;\n",
       "  max-width: 0;\n",
       "  overflow: hidden;\n",
       "  text-align: left;\n",
       "  /* unfitted */\n",
       "  background-color: var(--sklearn-color-unfitted-level-0);\n",
       "}\n",
       "\n",
       "#sk-container-id-2 div.sk-toggleable__content.fitted {\n",
       "  /* fitted */\n",
       "  background-color: var(--sklearn-color-fitted-level-0);\n",
       "}\n",
       "\n",
       "#sk-container-id-2 div.sk-toggleable__content pre {\n",
       "  margin: 0.2em;\n",
       "  border-radius: 0.25em;\n",
       "  color: var(--sklearn-color-text);\n",
       "  /* unfitted */\n",
       "  background-color: var(--sklearn-color-unfitted-level-0);\n",
       "}\n",
       "\n",
       "#sk-container-id-2 div.sk-toggleable__content.fitted pre {\n",
       "  /* unfitted */\n",
       "  background-color: var(--sklearn-color-fitted-level-0);\n",
       "}\n",
       "\n",
       "#sk-container-id-2 input.sk-toggleable__control:checked~div.sk-toggleable__content {\n",
       "  /* Expand drop-down */\n",
       "  max-height: 200px;\n",
       "  max-width: 100%;\n",
       "  overflow: auto;\n",
       "}\n",
       "\n",
       "#sk-container-id-2 input.sk-toggleable__control:checked~label.sk-toggleable__label-arrow:before {\n",
       "  content: \"▾\";\n",
       "}\n",
       "\n",
       "/* Pipeline/ColumnTransformer-specific style */\n",
       "\n",
       "#sk-container-id-2 div.sk-label input.sk-toggleable__control:checked~label.sk-toggleable__label {\n",
       "  color: var(--sklearn-color-text);\n",
       "  background-color: var(--sklearn-color-unfitted-level-2);\n",
       "}\n",
       "\n",
       "#sk-container-id-2 div.sk-label.fitted input.sk-toggleable__control:checked~label.sk-toggleable__label {\n",
       "  background-color: var(--sklearn-color-fitted-level-2);\n",
       "}\n",
       "\n",
       "/* Estimator-specific style */\n",
       "\n",
       "/* Colorize estimator box */\n",
       "#sk-container-id-2 div.sk-estimator input.sk-toggleable__control:checked~label.sk-toggleable__label {\n",
       "  /* unfitted */\n",
       "  background-color: var(--sklearn-color-unfitted-level-2);\n",
       "}\n",
       "\n",
       "#sk-container-id-2 div.sk-estimator.fitted input.sk-toggleable__control:checked~label.sk-toggleable__label {\n",
       "  /* fitted */\n",
       "  background-color: var(--sklearn-color-fitted-level-2);\n",
       "}\n",
       "\n",
       "#sk-container-id-2 div.sk-label label.sk-toggleable__label,\n",
       "#sk-container-id-2 div.sk-label label {\n",
       "  /* The background is the default theme color */\n",
       "  color: var(--sklearn-color-text-on-default-background);\n",
       "}\n",
       "\n",
       "/* On hover, darken the color of the background */\n",
       "#sk-container-id-2 div.sk-label:hover label.sk-toggleable__label {\n",
       "  color: var(--sklearn-color-text);\n",
       "  background-color: var(--sklearn-color-unfitted-level-2);\n",
       "}\n",
       "\n",
       "/* Label box, darken color on hover, fitted */\n",
       "#sk-container-id-2 div.sk-label.fitted:hover label.sk-toggleable__label.fitted {\n",
       "  color: var(--sklearn-color-text);\n",
       "  background-color: var(--sklearn-color-fitted-level-2);\n",
       "}\n",
       "\n",
       "/* Estimator label */\n",
       "\n",
       "#sk-container-id-2 div.sk-label label {\n",
       "  font-family: monospace;\n",
       "  font-weight: bold;\n",
       "  display: inline-block;\n",
       "  line-height: 1.2em;\n",
       "}\n",
       "\n",
       "#sk-container-id-2 div.sk-label-container {\n",
       "  text-align: center;\n",
       "}\n",
       "\n",
       "/* Estimator-specific */\n",
       "#sk-container-id-2 div.sk-estimator {\n",
       "  font-family: monospace;\n",
       "  border: 1px dotted var(--sklearn-color-border-box);\n",
       "  border-radius: 0.25em;\n",
       "  box-sizing: border-box;\n",
       "  margin-bottom: 0.5em;\n",
       "  /* unfitted */\n",
       "  background-color: var(--sklearn-color-unfitted-level-0);\n",
       "}\n",
       "\n",
       "#sk-container-id-2 div.sk-estimator.fitted {\n",
       "  /* fitted */\n",
       "  background-color: var(--sklearn-color-fitted-level-0);\n",
       "}\n",
       "\n",
       "/* on hover */\n",
       "#sk-container-id-2 div.sk-estimator:hover {\n",
       "  /* unfitted */\n",
       "  background-color: var(--sklearn-color-unfitted-level-2);\n",
       "}\n",
       "\n",
       "#sk-container-id-2 div.sk-estimator.fitted:hover {\n",
       "  /* fitted */\n",
       "  background-color: var(--sklearn-color-fitted-level-2);\n",
       "}\n",
       "\n",
       "/* Specification for estimator info (e.g. \"i\" and \"?\") */\n",
       "\n",
       "/* Common style for \"i\" and \"?\" */\n",
       "\n",
       ".sk-estimator-doc-link,\n",
       "a:link.sk-estimator-doc-link,\n",
       "a:visited.sk-estimator-doc-link {\n",
       "  float: right;\n",
       "  font-size: smaller;\n",
       "  line-height: 1em;\n",
       "  font-family: monospace;\n",
       "  background-color: var(--sklearn-color-background);\n",
       "  border-radius: 1em;\n",
       "  height: 1em;\n",
       "  width: 1em;\n",
       "  text-decoration: none !important;\n",
       "  margin-left: 1ex;\n",
       "  /* unfitted */\n",
       "  border: var(--sklearn-color-unfitted-level-1) 1pt solid;\n",
       "  color: var(--sklearn-color-unfitted-level-1);\n",
       "}\n",
       "\n",
       ".sk-estimator-doc-link.fitted,\n",
       "a:link.sk-estimator-doc-link.fitted,\n",
       "a:visited.sk-estimator-doc-link.fitted {\n",
       "  /* fitted */\n",
       "  border: var(--sklearn-color-fitted-level-1) 1pt solid;\n",
       "  color: var(--sklearn-color-fitted-level-1);\n",
       "}\n",
       "\n",
       "/* On hover */\n",
       "div.sk-estimator:hover .sk-estimator-doc-link:hover,\n",
       ".sk-estimator-doc-link:hover,\n",
       "div.sk-label-container:hover .sk-estimator-doc-link:hover,\n",
       ".sk-estimator-doc-link:hover {\n",
       "  /* unfitted */\n",
       "  background-color: var(--sklearn-color-unfitted-level-3);\n",
       "  color: var(--sklearn-color-background);\n",
       "  text-decoration: none;\n",
       "}\n",
       "\n",
       "div.sk-estimator.fitted:hover .sk-estimator-doc-link.fitted:hover,\n",
       ".sk-estimator-doc-link.fitted:hover,\n",
       "div.sk-label-container:hover .sk-estimator-doc-link.fitted:hover,\n",
       ".sk-estimator-doc-link.fitted:hover {\n",
       "  /* fitted */\n",
       "  background-color: var(--sklearn-color-fitted-level-3);\n",
       "  color: var(--sklearn-color-background);\n",
       "  text-decoration: none;\n",
       "}\n",
       "\n",
       "/* Span, style for the box shown on hovering the info icon */\n",
       ".sk-estimator-doc-link span {\n",
       "  display: none;\n",
       "  z-index: 9999;\n",
       "  position: relative;\n",
       "  font-weight: normal;\n",
       "  right: .2ex;\n",
       "  padding: .5ex;\n",
       "  margin: .5ex;\n",
       "  width: min-content;\n",
       "  min-width: 20ex;\n",
       "  max-width: 50ex;\n",
       "  color: var(--sklearn-color-text);\n",
       "  box-shadow: 2pt 2pt 4pt #999;\n",
       "  /* unfitted */\n",
       "  background: var(--sklearn-color-unfitted-level-0);\n",
       "  border: .5pt solid var(--sklearn-color-unfitted-level-3);\n",
       "}\n",
       "\n",
       ".sk-estimator-doc-link.fitted span {\n",
       "  /* fitted */\n",
       "  background: var(--sklearn-color-fitted-level-0);\n",
       "  border: var(--sklearn-color-fitted-level-3);\n",
       "}\n",
       "\n",
       ".sk-estimator-doc-link:hover span {\n",
       "  display: block;\n",
       "}\n",
       "\n",
       "/* \"?\"-specific style due to the `<a>` HTML tag */\n",
       "\n",
       "#sk-container-id-2 a.estimator_doc_link {\n",
       "  float: right;\n",
       "  font-size: 1rem;\n",
       "  line-height: 1em;\n",
       "  font-family: monospace;\n",
       "  background-color: var(--sklearn-color-background);\n",
       "  border-radius: 1rem;\n",
       "  height: 1rem;\n",
       "  width: 1rem;\n",
       "  text-decoration: none;\n",
       "  /* unfitted */\n",
       "  color: var(--sklearn-color-unfitted-level-1);\n",
       "  border: var(--sklearn-color-unfitted-level-1) 1pt solid;\n",
       "}\n",
       "\n",
       "#sk-container-id-2 a.estimator_doc_link.fitted {\n",
       "  /* fitted */\n",
       "  border: var(--sklearn-color-fitted-level-1) 1pt solid;\n",
       "  color: var(--sklearn-color-fitted-level-1);\n",
       "}\n",
       "\n",
       "/* On hover */\n",
       "#sk-container-id-2 a.estimator_doc_link:hover {\n",
       "  /* unfitted */\n",
       "  background-color: var(--sklearn-color-unfitted-level-3);\n",
       "  color: var(--sklearn-color-background);\n",
       "  text-decoration: none;\n",
       "}\n",
       "\n",
       "#sk-container-id-2 a.estimator_doc_link.fitted:hover {\n",
       "  /* fitted */\n",
       "  background-color: var(--sklearn-color-fitted-level-3);\n",
       "}\n",
       "</style><div id=\"sk-container-id-2\" class=\"sk-top-container\"><div class=\"sk-text-repr-fallback\"><pre>GridSearchCV(cv=5, estimator=LogisticRegression(max_iter=1000),\n",
       "             param_grid={&#x27;C&#x27;: array([1.00000000e-04, 2.63665090e-04, 6.95192796e-04, 1.83298071e-03,\n",
       "       4.83293024e-03, 1.27427499e-02, 3.35981829e-02, 8.85866790e-02,\n",
       "       2.33572147e-01, 6.15848211e-01, 1.62377674e+00, 4.28133240e+00,\n",
       "       1.12883789e+01, 2.97635144e+01, 7.84759970e+01, 2.06913808e+02,\n",
       "       5.45559478e+02, 1.43844989e+03, 3.79269019e+03, 1.00000000e+04]),\n",
       "                         &#x27;penalty&#x27;: [&#x27;l1&#x27;, &#x27;l2&#x27;],\n",
       "                         &#x27;solver&#x27;: [&#x27;liblinear&#x27;, &#x27;saga&#x27;]},\n",
       "             scoring=&#x27;accuracy&#x27;, verbose=3)</pre><b>In a Jupyter environment, please rerun this cell to show the HTML representation or trust the notebook. <br />On GitHub, the HTML representation is unable to render, please try loading this page with nbviewer.org.</b></div><div class=\"sk-container\" hidden><div class=\"sk-item sk-dashed-wrapped\"><div class=\"sk-label-container\"><div class=\"sk-label fitted sk-toggleable\"><input class=\"sk-toggleable__control sk-hidden--visually\" id=\"sk-estimator-id-4\" type=\"checkbox\" ><label for=\"sk-estimator-id-4\" class=\"sk-toggleable__label fitted sk-toggleable__label-arrow fitted\">&nbsp;&nbsp;GridSearchCV<a class=\"sk-estimator-doc-link fitted\" rel=\"noreferrer\" target=\"_blank\" href=\"https://scikit-learn.org/1.4/modules/generated/sklearn.model_selection.GridSearchCV.html\">?<span>Documentation for GridSearchCV</span></a><span class=\"sk-estimator-doc-link fitted\">i<span>Fitted</span></span></label><div class=\"sk-toggleable__content fitted\"><pre>GridSearchCV(cv=5, estimator=LogisticRegression(max_iter=1000),\n",
       "             param_grid={&#x27;C&#x27;: array([1.00000000e-04, 2.63665090e-04, 6.95192796e-04, 1.83298071e-03,\n",
       "       4.83293024e-03, 1.27427499e-02, 3.35981829e-02, 8.85866790e-02,\n",
       "       2.33572147e-01, 6.15848211e-01, 1.62377674e+00, 4.28133240e+00,\n",
       "       1.12883789e+01, 2.97635144e+01, 7.84759970e+01, 2.06913808e+02,\n",
       "       5.45559478e+02, 1.43844989e+03, 3.79269019e+03, 1.00000000e+04]),\n",
       "                         &#x27;penalty&#x27;: [&#x27;l1&#x27;, &#x27;l2&#x27;],\n",
       "                         &#x27;solver&#x27;: [&#x27;liblinear&#x27;, &#x27;saga&#x27;]},\n",
       "             scoring=&#x27;accuracy&#x27;, verbose=3)</pre></div> </div></div><div class=\"sk-parallel\"><div class=\"sk-parallel-item\"><div class=\"sk-item\"><div class=\"sk-label-container\"><div class=\"sk-label fitted sk-toggleable\"><input class=\"sk-toggleable__control sk-hidden--visually\" id=\"sk-estimator-id-5\" type=\"checkbox\" ><label for=\"sk-estimator-id-5\" class=\"sk-toggleable__label fitted sk-toggleable__label-arrow fitted\">estimator: LogisticRegression</label><div class=\"sk-toggleable__content fitted\"><pre>LogisticRegression(max_iter=1000)</pre></div> </div></div><div class=\"sk-serial\"><div class=\"sk-item\"><div class=\"sk-estimator fitted sk-toggleable\"><input class=\"sk-toggleable__control sk-hidden--visually\" id=\"sk-estimator-id-6\" type=\"checkbox\" ><label for=\"sk-estimator-id-6\" class=\"sk-toggleable__label fitted sk-toggleable__label-arrow fitted\">&nbsp;LogisticRegression<a class=\"sk-estimator-doc-link fitted\" rel=\"noreferrer\" target=\"_blank\" href=\"https://scikit-learn.org/1.4/modules/generated/sklearn.linear_model.LogisticRegression.html\">?<span>Documentation for LogisticRegression</span></a></label><div class=\"sk-toggleable__content fitted\"><pre>LogisticRegression(max_iter=1000)</pre></div> </div></div></div></div></div></div></div></div></div>"
      ],
      "text/plain": [
       "GridSearchCV(cv=5, estimator=LogisticRegression(max_iter=1000),\n",
       "             param_grid={'C': array([1.00000000e-04, 2.63665090e-04, 6.95192796e-04, 1.83298071e-03,\n",
       "       4.83293024e-03, 1.27427499e-02, 3.35981829e-02, 8.85866790e-02,\n",
       "       2.33572147e-01, 6.15848211e-01, 1.62377674e+00, 4.28133240e+00,\n",
       "       1.12883789e+01, 2.97635144e+01, 7.84759970e+01, 2.06913808e+02,\n",
       "       5.45559478e+02, 1.43844989e+03, 3.79269019e+03, 1.00000000e+04]),\n",
       "                         'penalty': ['l1', 'l2'],\n",
       "                         'solver': ['liblinear', 'saga']},\n",
       "             scoring='accuracy', verbose=3)"
      ]
     },
     "execution_count": 42,
     "metadata": {},
     "output_type": "execute_result"
    }
   ],
   "source": [
    "# Fit GridSearchCV\n",
    "grid_search.fit(tf_x_train, Y_train)"
   ]
  },
  {
   "cell_type": "code",
   "execution_count": 43,
   "metadata": {},
   "outputs": [
    {
     "name": "stdout",
     "output_type": "stream",
     "text": [
      "Best parameters found:  {'C': 0.615848211066026, 'penalty': 'l2', 'solver': 'liblinear'}\n",
      "Best estimator:  LogisticRegression(C=0.615848211066026, max_iter=1000, solver='liblinear')\n"
     ]
    }
   ],
   "source": [
    "# Review the best parameters and use them\n",
    "print(\"Best parameters found: \", grid_search.best_params_)\n",
    "\n",
    "lr_be = grid_search.best_estimator_\n",
    "print(\"Best estimator: \", lr_be)"
   ]
  },
  {
   "cell_type": "code",
   "execution_count": 44,
   "metadata": {},
   "outputs": [
    {
     "data": {
      "text/plain": [
       "['lr_best_model.joblib']"
      ]
     },
     "execution_count": 44,
     "metadata": {},
     "output_type": "execute_result"
    }
   ],
   "source": [
    "dump(lr_be, 'lr_best_model.joblib')"
   ]
  },
  {
   "cell_type": "code",
   "execution_count": 45,
   "metadata": {},
   "outputs": [],
   "source": [
    "# Use the best estimator to make predictions\n",
    "y_test_pred = grid_search.predict(tf_x_test)"
   ]
  },
  {
   "cell_type": "code",
   "execution_count": 46,
   "metadata": {
    "colab": {
     "base_uri": "https://localhost:8080/",
     "height": 75
    },
    "id": "3UTzy5Bx_Pri",
    "outputId": "b299cdd4-9656-47ff-f199-ad5035dc5e78"
   },
   "outputs": [],
   "source": [
    "# clf.fit(tf_x_train,Y_train)"
   ]
  },
  {
   "cell_type": "code",
   "execution_count": 47,
   "metadata": {
    "id": "ld-RQ1rE_SE_"
   },
   "outputs": [],
   "source": [
    "# y_test_pred=clf.predict(tf_x_test)"
   ]
  },
  {
   "cell_type": "code",
   "execution_count": 48,
   "metadata": {
    "id": "iqooLIJc_Z_p"
   },
   "outputs": [],
   "source": [
    "# Calculate balanced accuracy\n",
    "balanced_acc = balanced_accuracy_score(Y_test, y_test_pred)\n",
    "\n",
    "# Generate classification report\n",
    "report = classification_report(Y_test, y_test_pred, output_dict=True)\n",
    "\n",
    "# Add balanced accuracy to the report\n",
    "report['weighted avg']['balanced_accuracy'] = balanced_acc"
   ]
  },
  {
   "cell_type": "code",
   "execution_count": 49,
   "metadata": {
    "colab": {
     "base_uri": "https://localhost:8080/"
    },
    "id": "DupkaBMc_T39",
    "outputId": "32dbfa03-c31f-47ea-d8aa-e2ad5c6396ad"
   },
   "outputs": [
    {
     "data": {
      "text/plain": [
       "{'0': {'precision': 0.6026731470230863,\n",
       "  'recall': 0.6441558441558441,\n",
       "  'f1-score': 0.6227244193345888,\n",
       "  'support': 770.0},\n",
       " '1': {'precision': 0.49247606019151846,\n",
       "  'recall': 0.4712041884816754,\n",
       "  'f1-score': 0.4816053511705686,\n",
       "  'support': 764.0},\n",
       " '2': {'precision': 0.7244501940491591,\n",
       "  'recall': 0.7061790668348046,\n",
       "  'f1-score': 0.7151979565772669,\n",
       "  'support': 793.0},\n",
       " 'accuracy': 0.6085088096261281,\n",
       " 'macro avg': {'precision': 0.606533133754588,\n",
       "  'recall': 0.607179699824108,\n",
       "  'f1-score': 0.6065092423608082,\n",
       "  'support': 2327.0},\n",
       " 'weighted avg': {'precision': 0.6079927103889471,\n",
       "  'recall': 0.6085088096261281,\n",
       "  'f1-score': 0.6079055740213668,\n",
       "  'support': 2327.0,\n",
       "  'balanced_accuracy': 0.607179699824108}}"
      ]
     },
     "execution_count": 49,
     "metadata": {},
     "output_type": "execute_result"
    }
   ],
   "source": [
    "# Print the modified classification report\n",
    "report"
   ]
  },
  {
   "cell_type": "markdown",
   "metadata": {
    "id": "yRNZZI2aQUis"
   },
   "source": [
    "Overall, while both classifiers show some level of effectiveness in classifying sentiments, further optimization and tuning may be necessary to improve performance, depending on the specific requirements of your sentiment analysis task and the characteristics of your dataset."
   ]
  },
  {
   "cell_type": "code",
   "execution_count": 50,
   "metadata": {
    "id": "_PPdS95E_VVP"
   },
   "outputs": [],
   "source": [
    "unique_labels = dataset['sentiment'].unique()\n",
    "conf_matrix = confusion_matrix(Y_test, y_test_pred, labels=unique_labels)"
   ]
  },
  {
   "cell_type": "code",
   "execution_count": 51,
   "metadata": {
    "colab": {
     "base_uri": "https://localhost:8080/"
    },
    "id": "XYlE86ni2RlH",
    "outputId": "3b1f48b2-fe7f-4a27-cc95-2978568dcc10"
   },
   "outputs": [
    {
     "name": "stdout",
     "output_type": "stream",
     "text": [
      "Confusion Matrix:\n",
      "[[560 149  84]\n",
      " [161 360 243]\n",
      " [ 52 222 496]]\n"
     ]
    }
   ],
   "source": [
    "print(\"Confusion Matrix:\")\n",
    "print(conf_matrix)"
   ]
  },
  {
   "cell_type": "code",
   "execution_count": 52,
   "metadata": {
    "id": "7AUOhiO12Rq6"
   },
   "outputs": [],
   "source": [
    "disp = ConfusionMatrixDisplay(confusion_matrix=conf_matrix, display_labels=unique_labels)"
   ]
  },
  {
   "cell_type": "code",
   "execution_count": 53,
   "metadata": {
    "colab": {
     "base_uri": "https://localhost:8080/",
     "height": 542
    },
    "id": "bfZRY8VN2T__",
    "outputId": "85b19e3f-7ab3-411b-e99e-1e44cf2e36f8"
   },
   "outputs": [
    {
     "data": {
      "image/png": "[encoded data removed]",
      "text/plain": [
       "<Figure size 800x600 with 2 Axes>"
      ]
     },
     "metadata": {},
     "output_type": "display_data"
    }
   ],
   "source": [
    "import matplotlib.pyplot as plt\n",
    "# Plot the confusion matrix\n",
    "fig, ax = plt.subplots(figsize=(8, 6))\n",
    "disp.plot(ax=ax, cmap=plt.cm.Blues)\n",
    "\n",
    "# Save the plot as an image file (e.g., PNG)\n",
    "plt.savefig('confusion_matrix_TFIDF_LR.png')\n",
    "plt.savefig('confusion_matrix_TFIDF_LR.svg')\n",
    "\n",
    "# Optionally, display the plot\n",
    "plt.show()"
   ]
  },
  {
   "cell_type": "code",
   "execution_count": null,
   "metadata": {},
   "outputs": [],
   "source": []
  }
 ],
 "metadata": {
  "colab": {
   "provenance": []
  },
  "kernelspec": {
   "display_name": "Python 3 (ipykernel)",
   "language": "python",
   "name": "python3"
  },
  "language_info": {
   "codemirror_mode": {
    "name": "ipython",
    "version": 3
   },
   "file_extension": ".py",
   "mimetype": "text/x-python",
   "name": "python",
   "nbconvert_exporter": "python",
   "pygments_lexer": "ipython3",
   "version": "3.11.7"
  }
 },
 "nbformat": 4,
 "nbformat_minor": 4
}
