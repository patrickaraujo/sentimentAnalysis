{
 "cells": [
  {
   "cell_type": "code",
   "execution_count": null,
   "id": "e258a8af-8ea2-4b3c-b3e1-59a7dee85706",
   "metadata": {},
   "outputs": [],
   "source": [
    "access_token = \"\""
   ]
  },
  {
   "cell_type": "code",
   "execution_count": 2,
   "id": "cf34b5f8-50d3-453f-adfe-5532f1b9b69e",
   "metadata": {},
   "outputs": [],
   "source": [
    "idCuda = 3\n",
    "idTorch = 0"
   ]
  },
  {
   "cell_type": "code",
   "execution_count": 3,
   "id": "131ca076-05e0-4e2d-a3b0-beeea24941f3",
   "metadata": {},
   "outputs": [],
   "source": [
    "import os\n",
    "os.environ[\"CUDA_VISIBLE_DEVICES\"] = f\"{str(idCuda)}\""
   ]
  },
  {
   "cell_type": "code",
   "execution_count": 4,
   "id": "149b341d-dfde-44ad-9fa8-d2241451b2e9",
   "metadata": {},
   "outputs": [],
   "source": [
    "from transformers import BertTokenizer, BertForSequenceClassification, Trainer, TrainingArguments\n",
    "from sklearn.model_selection import train_test_split\n",
    "import torch"
   ]
  },
  {
   "cell_type": "code",
   "execution_count": 5,
   "id": "66e9c04f-3ae0-4158-80cd-5b748ac25fad",
   "metadata": {},
   "outputs": [
    {
     "data": {
      "text/plain": [
       "1"
      ]
     },
     "execution_count": 5,
     "metadata": {},
     "output_type": "execute_result"
    }
   ],
   "source": [
    "torch.cuda.device_count()"
   ]
  },
  {
   "cell_type": "code",
   "execution_count": 6,
   "id": "eb395211-b437-4817-9728-9df8a0247ca0",
   "metadata": {},
   "outputs": [
    {
     "name": "stdout",
     "output_type": "stream",
     "text": [
      "PyTorch available GPU: NVIDIA RTX A5000\n"
     ]
    }
   ],
   "source": [
    "torch.cuda.empty_cache()\n",
    "torch.cuda.set_device(idTorch)\n",
    "\n",
    "if torch.cuda.is_available():\n",
    "    GPU = torch.cuda.get_device_name(idTorch)\n",
    "    print(f\"PyTorch available GPU: {GPU}\")\n",
    "else:\n",
    "    print(\"GPU not available\")"
   ]
  },
  {
   "cell_type": "code",
   "execution_count": 7,
   "id": "abd272d6-6d5c-4630-a998-f38736ea02c1",
   "metadata": {},
   "outputs": [
    {
     "name": "stdout",
     "output_type": "stream",
     "text": [
      "Device: cuda:0\n"
     ]
    }
   ],
   "source": [
    "device = torch.device(f\"cuda:{idTorch}\" if torch.cuda.is_available() else \"cpu\")\n",
    "print(f'Device: {device}')"
   ]
  },
  {
   "cell_type": "code",
   "execution_count": null,
   "id": "77b23250-6266-4af2-8ee3-6a70b5c9da95",
   "metadata": {},
   "outputs": [],
   "source": [
    "# Load pre-trained BERT model and tokenizer\n",
    "model_name = 'bert-base-uncased'\n",
    "tokenizer = BertTokenizer.from_pretrained(model_name)\n",
    "model = BertForSequenceClassification.from_pretrained(model_name, num_labels=5, token=access_token)\n",
    "\n",
    "# Prepare your dataset (replace with your own dataset loading and preprocessing)\n",
    "# Example code assumes you have lists `texts` and `labels` containing your data\n",
    "texts = [...]  # List of text samples\n",
    "labels = [...]  # List of corresponding labels (0 to 4 for 5 classes)\n",
    "\n",
    "# Tokenize texts and convert labels to tensors\n",
    "max_length = 128\n",
    "tokenized_texts = tokenizer(texts, padding=True, truncation=True, max_length=max_length, return_tensors='pt')\n",
    "labels = torch.tensor(labels)\n",
    "\n",
    "# Split dataset into training and validation sets\n",
    "train_texts, val_texts, train_labels, val_labels = train_test_split(tokenized_texts, labels, test_size=0.2, random_state=42)\n",
    "\n",
    "# Define training arguments\n",
    "training_args = TrainingArguments(\n",
    "    per_device_train_batch_size=32,\n",
    "    per_device_eval_batch_size=32,\n",
    "    num_train_epochs=3,\n",
    "    logging_dir='./logs',\n",
    "    logging_steps=100,\n",
    "    evaluation_strategy='steps',\n",
    "    save_strategy='steps',\n",
    "    save_steps=500,\n",
    "    eval_steps=500,\n",
    "    output_dir='./results',\n",
    "    overwrite_output_dir=True,\n",
    ")\n",
    "\n",
    "# Instantiate Trainer\n",
    "trainer = Trainer(\n",
    "    model=model,\n",
    "    args=training_args,\n",
    "    train_dataset=train_texts,\n",
    "    eval_dataset=val_texts,\n",
    "    compute_metrics=None,  # Add your metrics function here if needed\n",
    ")\n",
    "\n",
    "# Train the model\n",
    "trainer.train()\n",
    "\n",
    "# Evaluate the model\n",
    "trainer.evaluate()\n"
   ]
  }
 ],
 "metadata": {
  "kernelspec": {
   "display_name": "llama",
   "language": "python",
   "name": "llama"
  },
  "language_info": {
   "codemirror_mode": {
    "name": "ipython",
    "version": 3
   },
   "file_extension": ".py",
   "mimetype": "text/x-python",
   "name": "python",
   "nbconvert_exporter": "python",
   "pygments_lexer": "ipython3",
   "version": "3.12.1"
  }
 },
 "nbformat": 4,
 "nbformat_minor": 5
}
